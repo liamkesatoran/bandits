{
 "cells": [
  {
   "cell_type": "markdown",
   "id": "8db259bf-911b-4cbe-bcf6-d6d13eac367e",
   "metadata": {},
   "source": [
    "# Preliminary setup and data exploration"
   ]
  },
  {
   "cell_type": "code",
   "execution_count": 1,
   "id": "43c9cf6a-2454-47e0-aeeb-33921c67d24c",
   "metadata": {},
   "outputs": [],
   "source": [
    "import os\n",
    "os.chdir('..')"
   ]
  },
  {
   "cell_type": "code",
   "execution_count": 2,
   "id": "4d897c6f-d379-4265-9982-82f1965f9738",
   "metadata": {},
   "outputs": [],
   "source": [
    "import pandas as pd\n",
    "import numpy as np\n",
    "import matplotlib.pyplot as plt\n",
    "import random\n",
    "random.seed(100)\n",
    "np.random.seed(100)"
   ]
  },
  {
   "cell_type": "code",
   "execution_count": 3,
   "id": "7187128b-06b9-471d-a8b2-bf12ac5df706",
   "metadata": {},
   "outputs": [],
   "source": [
    "from src.agents import *"
   ]
  },
  {
   "cell_type": "code",
   "execution_count": 4,
   "id": "1df1d150-90c1-4c21-afe8-2c77ef8e98a5",
   "metadata": {},
   "outputs": [],
   "source": [
    "data = pd.read_csv('data/yahoo_reduced_arms.csv')\n",
    "# Reshuffle data\n",
    "data = data.sample(frac=1, random_state=100)"
   ]
  },
  {
   "cell_type": "code",
   "execution_count": 5,
   "id": "053255b5-9342-4307-9423-cb45ed69853d",
   "metadata": {},
   "outputs": [
    {
     "data": {
      "text/plain": [
       "22"
      ]
     },
     "execution_count": 5,
     "metadata": {},
     "output_type": "execute_result"
    }
   ],
   "source": [
    "# Number of arms\n",
    "n_arms = data['selected_arm'].max() + 1\n",
    "n_arms"
   ]
  },
  {
   "cell_type": "code",
   "execution_count": 6,
   "id": "274089bc-e6d7-48ec-bd24-0a0ea9c06894",
   "metadata": {},
   "outputs": [
    {
     "data": {
      "text/html": [
       "<div>\n",
       "<style scoped>\n",
       "    .dataframe tbody tr th:only-of-type {\n",
       "        vertical-align: middle;\n",
       "    }\n",
       "\n",
       "    .dataframe tbody tr th {\n",
       "        vertical-align: top;\n",
       "    }\n",
       "\n",
       "    .dataframe thead th {\n",
       "        text-align: right;\n",
       "    }\n",
       "</style>\n",
       "<table border=\"1\" class=\"dataframe\">\n",
       "  <thead>\n",
       "    <tr style=\"text-align: right;\">\n",
       "      <th></th>\n",
       "      <th>1</th>\n",
       "      <th>2</th>\n",
       "      <th>3</th>\n",
       "      <th>4</th>\n",
       "      <th>5</th>\n",
       "      <th>6</th>\n",
       "      <th>7</th>\n",
       "      <th>8</th>\n",
       "      <th>9</th>\n",
       "      <th>10</th>\n",
       "      <th>...</th>\n",
       "      <th>130</th>\n",
       "      <th>131</th>\n",
       "      <th>132</th>\n",
       "      <th>133</th>\n",
       "      <th>134</th>\n",
       "      <th>135</th>\n",
       "      <th>136</th>\n",
       "      <th>selected_arm</th>\n",
       "      <th>reward</th>\n",
       "      <th>probability</th>\n",
       "    </tr>\n",
       "  </thead>\n",
       "  <tbody>\n",
       "    <tr>\n",
       "      <th>28252</th>\n",
       "      <td>1</td>\n",
       "      <td>0</td>\n",
       "      <td>0</td>\n",
       "      <td>0</td>\n",
       "      <td>0</td>\n",
       "      <td>0</td>\n",
       "      <td>0</td>\n",
       "      <td>0</td>\n",
       "      <td>0</td>\n",
       "      <td>0</td>\n",
       "      <td>...</td>\n",
       "      <td>0</td>\n",
       "      <td>0</td>\n",
       "      <td>0</td>\n",
       "      <td>0</td>\n",
       "      <td>0</td>\n",
       "      <td>0</td>\n",
       "      <td>0</td>\n",
       "      <td>18</td>\n",
       "      <td>0</td>\n",
       "      <td>0.045455</td>\n",
       "    </tr>\n",
       "    <tr>\n",
       "      <th>22553</th>\n",
       "      <td>1</td>\n",
       "      <td>0</td>\n",
       "      <td>0</td>\n",
       "      <td>0</td>\n",
       "      <td>0</td>\n",
       "      <td>0</td>\n",
       "      <td>0</td>\n",
       "      <td>0</td>\n",
       "      <td>0</td>\n",
       "      <td>0</td>\n",
       "      <td>...</td>\n",
       "      <td>0</td>\n",
       "      <td>0</td>\n",
       "      <td>0</td>\n",
       "      <td>0</td>\n",
       "      <td>0</td>\n",
       "      <td>0</td>\n",
       "      <td>0</td>\n",
       "      <td>4</td>\n",
       "      <td>0</td>\n",
       "      <td>0.045455</td>\n",
       "    </tr>\n",
       "    <tr>\n",
       "      <th>45324</th>\n",
       "      <td>1</td>\n",
       "      <td>0</td>\n",
       "      <td>0</td>\n",
       "      <td>0</td>\n",
       "      <td>0</td>\n",
       "      <td>0</td>\n",
       "      <td>0</td>\n",
       "      <td>0</td>\n",
       "      <td>0</td>\n",
       "      <td>0</td>\n",
       "      <td>...</td>\n",
       "      <td>0</td>\n",
       "      <td>0</td>\n",
       "      <td>0</td>\n",
       "      <td>0</td>\n",
       "      <td>0</td>\n",
       "      <td>0</td>\n",
       "      <td>0</td>\n",
       "      <td>7</td>\n",
       "      <td>0</td>\n",
       "      <td>0.045455</td>\n",
       "    </tr>\n",
       "    <tr>\n",
       "      <th>2154</th>\n",
       "      <td>1</td>\n",
       "      <td>0</td>\n",
       "      <td>0</td>\n",
       "      <td>0</td>\n",
       "      <td>0</td>\n",
       "      <td>0</td>\n",
       "      <td>0</td>\n",
       "      <td>1</td>\n",
       "      <td>0</td>\n",
       "      <td>0</td>\n",
       "      <td>...</td>\n",
       "      <td>0</td>\n",
       "      <td>0</td>\n",
       "      <td>0</td>\n",
       "      <td>0</td>\n",
       "      <td>0</td>\n",
       "      <td>0</td>\n",
       "      <td>0</td>\n",
       "      <td>19</td>\n",
       "      <td>0</td>\n",
       "      <td>0.045455</td>\n",
       "    </tr>\n",
       "    <tr>\n",
       "      <th>37921</th>\n",
       "      <td>1</td>\n",
       "      <td>0</td>\n",
       "      <td>0</td>\n",
       "      <td>0</td>\n",
       "      <td>0</td>\n",
       "      <td>0</td>\n",
       "      <td>0</td>\n",
       "      <td>0</td>\n",
       "      <td>0</td>\n",
       "      <td>0</td>\n",
       "      <td>...</td>\n",
       "      <td>0</td>\n",
       "      <td>0</td>\n",
       "      <td>0</td>\n",
       "      <td>0</td>\n",
       "      <td>0</td>\n",
       "      <td>0</td>\n",
       "      <td>0</td>\n",
       "      <td>3</td>\n",
       "      <td>0</td>\n",
       "      <td>0.045455</td>\n",
       "    </tr>\n",
       "  </tbody>\n",
       "</table>\n",
       "<p>5 rows × 139 columns</p>\n",
       "</div>"
      ],
      "text/plain": [
       "       1  2  3  4  5  6  7  8  9  10  ...  130  131  132  133  134  135  136  \\\n",
       "28252  1  0  0  0  0  0  0  0  0   0  ...    0    0    0    0    0    0    0   \n",
       "22553  1  0  0  0  0  0  0  0  0   0  ...    0    0    0    0    0    0    0   \n",
       "45324  1  0  0  0  0  0  0  0  0   0  ...    0    0    0    0    0    0    0   \n",
       "2154   1  0  0  0  0  0  0  1  0   0  ...    0    0    0    0    0    0    0   \n",
       "37921  1  0  0  0  0  0  0  0  0   0  ...    0    0    0    0    0    0    0   \n",
       "\n",
       "       selected_arm  reward  probability  \n",
       "28252            18       0     0.045455  \n",
       "22553             4       0     0.045455  \n",
       "45324             7       0     0.045455  \n",
       "2154             19       0     0.045455  \n",
       "37921             3       0     0.045455  \n",
       "\n",
       "[5 rows x 139 columns]"
      ]
     },
     "execution_count": 6,
     "metadata": {},
     "output_type": "execute_result"
    }
   ],
   "source": [
    "data.sample(n=5, random_state=100)"
   ]
  },
  {
   "cell_type": "code",
   "execution_count": 7,
   "id": "a2a6e661-6e1b-40e7-935f-1dc6c28dfd7a",
   "metadata": {},
   "outputs": [
    {
     "data": {
      "text/plain": [
       "(45791, 139)"
      ]
     },
     "execution_count": 7,
     "metadata": {},
     "output_type": "execute_result"
    }
   ],
   "source": [
    "data.shape"
   ]
  },
  {
   "cell_type": "markdown",
   "id": "3b614773-c2ad-4ba6-86e1-084424818e5f",
   "metadata": {},
   "source": [
    "There are 22 different arms. They seem to have been chosen uniformly randomly:"
   ]
  },
  {
   "cell_type": "code",
   "execution_count": 8,
   "id": "80b3c837-1d01-4853-b659-bf939f414013",
   "metadata": {},
   "outputs": [
    {
     "data": {
      "text/plain": [
       "count    45791.000000\n",
       "mean        10.420825\n",
       "std          6.357193\n",
       "min          0.000000\n",
       "25%          5.000000\n",
       "50%         10.000000\n",
       "75%         16.000000\n",
       "max         21.000000\n",
       "Name: selected_arm, dtype: float64"
      ]
     },
     "execution_count": 8,
     "metadata": {},
     "output_type": "execute_result"
    }
   ],
   "source": [
    "data['selected_arm'].describe()"
   ]
  },
  {
   "cell_type": "code",
   "execution_count": 9,
   "id": "20eb0446-7402-4716-bd27-c2dd5ca36fcb",
   "metadata": {},
   "outputs": [
    {
     "data": {
      "image/png": "[encoded data removed]",
      "text/plain": [
       "<Figure size 432x288 with 1 Axes>"
      ]
     },
     "metadata": {
      "needs_background": "light"
     },
     "output_type": "display_data"
    }
   ],
   "source": [
    "data['selected_arm'].value_counts().sort_index().plot(kind='bar')\n",
    "plt.xlabel('Selected Arm')\n",
    "plt.ylabel('Count')\n",
    "plt.show()"
   ]
  },
  {
   "cell_type": "markdown",
   "id": "24a43874-5e59-4581-858e-dfc22ef15b26",
   "metadata": {},
   "source": [
    "The reward is a Bernoulli distribution:"
   ]
  },
  {
   "cell_type": "code",
   "execution_count": 10,
   "id": "f214ebe2-c833-4818-83cf-55fe2b30963d",
   "metadata": {},
   "outputs": [
    {
     "data": {
      "text/plain": [
       "count    45791.000000\n",
       "mean         0.019109\n",
       "std          0.136908\n",
       "min          0.000000\n",
       "25%          0.000000\n",
       "50%          0.000000\n",
       "75%          0.000000\n",
       "max          1.000000\n",
       "Name: reward, dtype: float64"
      ]
     },
     "execution_count": 10,
     "metadata": {},
     "output_type": "execute_result"
    }
   ],
   "source": [
    "data['reward'].describe()"
   ]
  },
  {
   "cell_type": "markdown",
   "id": "86411207-f3a4-45b5-a921-81abe7f467f8",
   "metadata": {},
   "source": [
    "The reward expectancy depends on the arm chosen:"
   ]
  },
  {
   "cell_type": "code",
   "execution_count": 11,
   "id": "769c436c-8089-4774-b79c-4be02c63cf6f",
   "metadata": {},
   "outputs": [
    {
     "data": {
      "text/plain": [
       "Text(0.5, 0, 'Selected Arm')"
      ]
     },
     "execution_count": 11,
     "metadata": {},
     "output_type": "execute_result"
    },
    {
     "data": {
      "image/png": "[encoded data removed]",
      "text/plain": [
       "<Figure size 432x288 with 1 Axes>"
      ]
     },
     "metadata": {
      "needs_background": "light"
     },
     "output_type": "display_data"
    }
   ],
   "source": [
    "data.groupby('selected_arm').agg({'reward':'mean'}).plot(kind='bar')\n",
    "plt.ylabel('Average reward')\n",
    "plt.xlabel('Selected Arm')"
   ]
  },
  {
   "cell_type": "markdown",
   "id": "a6ed8c72-4a3e-4800-a9e7-73a1b17aba8d",
   "metadata": {},
   "source": [
    "All 136 features are bernoulli"
   ]
  },
  {
   "cell_type": "markdown",
   "id": "b0078bf0-7f5a-4227-9cfe-93f9a9adcca3",
   "metadata": {},
   "source": [
    "# Creating Environments from the Data (Slot Machines)"
   ]
  },
  {
   "cell_type": "markdown",
   "id": "2fbd70a2-9caf-4eeb-b267-3da452b5b1b2",
   "metadata": {},
   "source": [
    "This assumes the data has columns:\n",
    "- `'selected_arm'` ranging from `0` to `(n_arms - 1)` corresponding to the selected arm\n",
    "- `'reward'` which is the reward of the selected sample (row)"
   ]
  },
  {
   "cell_type": "markdown",
   "id": "7862706d-caa2-4328-93b2-78ed3b81e590",
   "metadata": {},
   "source": [
    "The experiments are sampled randomly from the data where the corresponding arm was chosen."
   ]
  },
  {
   "cell_type": "code",
   "execution_count": 12,
   "id": "d0af62fc-e76f-4768-ab27-4a29c6133eb3",
   "metadata": {},
   "outputs": [],
   "source": [
    "class Environment_From_Data():\n",
    "    def __init__(self, data):\n",
    "        \"\"\"\n",
    "        data: pd.DataFrame\n",
    "            dataframe containing columns 'reward' and 'selected arm'\n",
    "        \"\"\"\n",
    "        self.data = data\n",
    "        # Save rewards grouped by arms to make the rest of computations go much faster\n",
    "        self.data_groupby_arms = data.groupby('selected_arm')\n",
    "    \n",
    "    def get_reward(self, arm):\n",
    "        # Chose randomly one index in the data with selected_arm = arm\n",
    "        index = np.random.choice(self.data_groupby_arms.groups[arm])\n",
    "        reward = data.loc[index, 'reward']\n",
    "        return reward"
   ]
  },
  {
   "cell_type": "code",
   "execution_count": 13,
   "id": "17ea1e3c-24bb-4a3b-8902-b7a6983bede3",
   "metadata": {},
   "outputs": [],
   "source": [
    "environment = Environment_From_Data(data)"
   ]
  },
  {
   "cell_type": "markdown",
   "id": "2a88fa1d-bf19-4125-b474-8e281ee0f56d",
   "metadata": {},
   "source": [
    "# Random argmax"
   ]
  },
  {
   "cell_type": "markdown",
   "id": "c5bdbf82-1970-4413-bf95-a90a8f600237",
   "metadata": {},
   "source": [
    "The $\\arg\\max$ function is used very often in bandits algorithms. \n",
    "\n",
    "It is important to select a random arm in case of a tie."
   ]
  },
  {
   "cell_type": "code",
   "execution_count": 14,
   "id": "5720d19a-a281-430a-a0f1-757ddfb0e4e5",
   "metadata": {},
   "outputs": [
    {
     "data": {
      "text/plain": [
       "\u001b[0;31mSignature:\u001b[0m \u001b[0margmax\u001b[0m\u001b[0;34m(\u001b[0m\u001b[0mvec\u001b[0m\u001b[0;34m)\u001b[0m\u001b[0;34m\u001b[0m\u001b[0;34m\u001b[0m\u001b[0m\n",
       "\u001b[0;31mDocstring:\u001b[0m <no docstring>\n",
       "\u001b[0;31mSource:\u001b[0m   \n",
       "\u001b[0;32mdef\u001b[0m \u001b[0margmax\u001b[0m\u001b[0;34m(\u001b[0m\u001b[0mvec\u001b[0m\u001b[0;34m)\u001b[0m\u001b[0;34m:\u001b[0m\u001b[0;34m\u001b[0m\n",
       "\u001b[0;34m\u001b[0m    \u001b[0;32mreturn\u001b[0m \u001b[0mnp\u001b[0m\u001b[0;34m.\u001b[0m\u001b[0mrandom\u001b[0m\u001b[0;34m.\u001b[0m\u001b[0mchoice\u001b[0m\u001b[0;34m(\u001b[0m\u001b[0;34m(\u001b[0m\u001b[0mvec\u001b[0m \u001b[0;34m==\u001b[0m \u001b[0mvec\u001b[0m\u001b[0;34m.\u001b[0m\u001b[0mmax\u001b[0m\u001b[0;34m(\u001b[0m\u001b[0;34m)\u001b[0m\u001b[0;34m)\u001b[0m\u001b[0;34m.\u001b[0m\u001b[0mnonzero\u001b[0m\u001b[0;34m(\u001b[0m\u001b[0;34m)\u001b[0m\u001b[0;34m[\u001b[0m\u001b[0;36m0\u001b[0m\u001b[0;34m]\u001b[0m\u001b[0;34m)\u001b[0m\u001b[0;34m\u001b[0m\u001b[0;34m\u001b[0m\u001b[0m\n",
       "\u001b[0;31mFile:\u001b[0m      ~/Repos/bandits/src/agents.py\n",
       "\u001b[0;31mType:\u001b[0m      function\n"
      ]
     },
     "metadata": {},
     "output_type": "display_data"
    }
   ],
   "source": [
    "argmax??"
   ]
  },
  {
   "cell_type": "markdown",
   "id": "d00ea32c-dd31-4d1d-bb01-c7947b21250a",
   "metadata": {},
   "source": [
    "# Defining a base Agent other will be based upon"
   ]
  },
  {
   "cell_type": "markdown",
   "id": "38c20cbe-7f70-4098-9912-136229bcb443",
   "metadata": {},
   "source": [
    "These are the basic properties of a multi-armed bandit."
   ]
  },
  {
   "cell_type": "code",
   "execution_count": 15,
   "id": "b1a0b710-4534-4755-8a10-98fd94637b6c",
   "metadata": {},
   "outputs": [
    {
     "data": {
      "text/plain": [
       "\u001b[0;31mInit signature:\u001b[0m \u001b[0mAgent\u001b[0m\u001b[0;34m(\u001b[0m\u001b[0mn_arms\u001b[0m\u001b[0;34m)\u001b[0m\u001b[0;34m\u001b[0m\u001b[0;34m\u001b[0m\u001b[0m\n",
       "\u001b[0;31mDocstring:\u001b[0m      <no docstring>\n",
       "\u001b[0;31mSource:\u001b[0m        \n",
       "\u001b[0;32mclass\u001b[0m \u001b[0mAgent\u001b[0m\u001b[0;34m(\u001b[0m\u001b[0;34m)\u001b[0m\u001b[0;34m:\u001b[0m\u001b[0;34m\u001b[0m\n",
       "\u001b[0;34m\u001b[0m    \u001b[0;32mdef\u001b[0m \u001b[0m__init__\u001b[0m\u001b[0;34m(\u001b[0m\u001b[0mself\u001b[0m\u001b[0;34m,\u001b[0m \u001b[0mn_arms\u001b[0m\u001b[0;34m)\u001b[0m\u001b[0;34m:\u001b[0m\u001b[0;34m\u001b[0m\n",
       "\u001b[0;34m\u001b[0m        \u001b[0;34m\"\"\"\u001b[0m\n",
       "\u001b[0;34m        n_arms: int\u001b[0m\n",
       "\u001b[0;34m            Number of arms\u001b[0m\n",
       "\u001b[0;34m        \"\"\"\u001b[0m\u001b[0;34m\u001b[0m\n",
       "\u001b[0;34m\u001b[0m        \u001b[0mself\u001b[0m\u001b[0;34m.\u001b[0m\u001b[0mn_arms\u001b[0m \u001b[0;34m=\u001b[0m \u001b[0mn_arms\u001b[0m\u001b[0;34m\u001b[0m\n",
       "\u001b[0;34m\u001b[0m        \u001b[0mself\u001b[0m\u001b[0;34m.\u001b[0m\u001b[0mtries\u001b[0m \u001b[0;34m=\u001b[0m \u001b[0mnp\u001b[0m\u001b[0;34m.\u001b[0m\u001b[0mzeros\u001b[0m\u001b[0;34m(\u001b[0m\u001b[0mn_arms\u001b[0m\u001b[0;34m)\u001b[0m\u001b[0;34m\u001b[0m\n",
       "\u001b[0;34m\u001b[0m        \u001b[0mself\u001b[0m\u001b[0;34m.\u001b[0m\u001b[0msuccesses\u001b[0m \u001b[0;34m=\u001b[0m \u001b[0mnp\u001b[0m\u001b[0;34m.\u001b[0m\u001b[0mzeros\u001b[0m\u001b[0;34m(\u001b[0m\u001b[0mn_arms\u001b[0m\u001b[0;34m)\u001b[0m\u001b[0;34m\u001b[0m\n",
       "\u001b[0;34m\u001b[0m        \u001b[0;34m\u001b[0m\n",
       "\u001b[0;34m\u001b[0m    \u001b[0;34m@\u001b[0m\u001b[0mproperty\u001b[0m\u001b[0;34m\u001b[0m\n",
       "\u001b[0;34m\u001b[0m    \u001b[0;32mdef\u001b[0m \u001b[0m_total_tries\u001b[0m\u001b[0;34m(\u001b[0m\u001b[0mself\u001b[0m\u001b[0;34m)\u001b[0m\u001b[0;34m:\u001b[0m \u001b[0;34m\u001b[0m\n",
       "\u001b[0;34m\u001b[0m        \u001b[0;32mreturn\u001b[0m \u001b[0mself\u001b[0m\u001b[0;34m.\u001b[0m\u001b[0mtries\u001b[0m\u001b[0;34m.\u001b[0m\u001b[0msum\u001b[0m\u001b[0;34m(\u001b[0m\u001b[0;34m)\u001b[0m\u001b[0;34m\u001b[0m\n",
       "\u001b[0;34m\u001b[0m    \u001b[0;34m\u001b[0m\n",
       "\u001b[0;34m\u001b[0m    \u001b[0;32mdef\u001b[0m \u001b[0madd_observation\u001b[0m\u001b[0;34m(\u001b[0m\u001b[0mself\u001b[0m\u001b[0;34m,\u001b[0m \u001b[0marm\u001b[0m\u001b[0;34m,\u001b[0m \u001b[0mreward\u001b[0m\u001b[0;34m)\u001b[0m\u001b[0;34m:\u001b[0m\u001b[0;34m\u001b[0m\n",
       "\u001b[0;34m\u001b[0m        \u001b[0;34m\"\"\"\u001b[0m\n",
       "\u001b[0;34m        arm: int\u001b[0m\n",
       "\u001b[0;34m            Chosen arm of the observation\u001b[0m\n",
       "\u001b[0;34m        reward: float\u001b[0m\n",
       "\u001b[0;34m            Reward of the observation\u001b[0m\n",
       "\u001b[0;34m        \"\"\"\u001b[0m\u001b[0;34m\u001b[0m\n",
       "\u001b[0;34m\u001b[0m        \u001b[0mself\u001b[0m\u001b[0;34m.\u001b[0m\u001b[0mtries\u001b[0m\u001b[0;34m[\u001b[0m\u001b[0marm\u001b[0m\u001b[0;34m]\u001b[0m \u001b[0;34m+=\u001b[0m \u001b[0;36m1\u001b[0m\u001b[0;34m\u001b[0m\n",
       "\u001b[0;34m\u001b[0m        \u001b[0mself\u001b[0m\u001b[0;34m.\u001b[0m\u001b[0msuccesses\u001b[0m\u001b[0;34m[\u001b[0m\u001b[0marm\u001b[0m\u001b[0;34m]\u001b[0m \u001b[0;34m+=\u001b[0m \u001b[0mreward\u001b[0m\u001b[0;34m\u001b[0m\n",
       "\u001b[0;34m\u001b[0m    \u001b[0;34m\u001b[0m\n",
       "\u001b[0;34m\u001b[0m    \u001b[0;32mdef\u001b[0m \u001b[0mselect_arm\u001b[0m\u001b[0;34m(\u001b[0m\u001b[0mself\u001b[0m\u001b[0;34m)\u001b[0m\u001b[0;34m:\u001b[0m\u001b[0;34m\u001b[0m\n",
       "\u001b[0;34m\u001b[0m        \u001b[0;34m\"\"\"Placeholder way of selecting an arm.\"\"\"\u001b[0m\u001b[0;34m\u001b[0m\n",
       "\u001b[0;34m\u001b[0m        \u001b[0marm\u001b[0m \u001b[0;34m=\u001b[0m \u001b[0mself\u001b[0m\u001b[0;34m.\u001b[0m\u001b[0m_total_tries\u001b[0m \u001b[0;34m%\u001b[0m \u001b[0mself\u001b[0m\u001b[0;34m.\u001b[0m\u001b[0mn_arms\u001b[0m\u001b[0;34m\u001b[0m\n",
       "\u001b[0;34m\u001b[0m        \u001b[0;32mreturn\u001b[0m \u001b[0marm\u001b[0m\u001b[0;34m\u001b[0m\u001b[0;34m\u001b[0m\u001b[0m\n",
       "\u001b[0;31mFile:\u001b[0m           ~/Repos/bandits/src/agents.py\n",
       "\u001b[0;31mType:\u001b[0m           type\n",
       "\u001b[0;31mSubclasses:\u001b[0m     GreedyExploreFirst, EpsilonGreedy, UCB1, BayesUCB, ThompsonSampling\n"
      ]
     },
     "metadata": {},
     "output_type": "display_data"
    }
   ],
   "source": [
    "Agent??"
   ]
  },
  {
   "cell_type": "markdown",
   "id": "74eccae9-a3c2-41ad-84d6-e93eb5d8a358",
   "metadata": {
    "tags": []
   },
   "source": [
    "# Implementing a simple Explore First then Greedy strategy"
   ]
  },
  {
   "cell_type": "markdown",
   "id": "76a27f91-875c-4c43-b18a-f885304e61a1",
   "metadata": {},
   "source": [
    "We explore for `learning_stop` steps then exploit the reward that gave the most expected reward so far."
   ]
  },
  {
   "cell_type": "code",
   "execution_count": 16,
   "id": "168a11a5-797a-4adb-9928-414e76e8275e",
   "metadata": {},
   "outputs": [
    {
     "data": {
      "text/plain": [
       "\u001b[0;31mInit signature:\u001b[0m \u001b[0mGreedyExploreFirst\u001b[0m\u001b[0;34m(\u001b[0m\u001b[0mn_arms\u001b[0m\u001b[0;34m,\u001b[0m \u001b[0mlearning_stop\u001b[0m\u001b[0;34m)\u001b[0m\u001b[0;34m\u001b[0m\u001b[0;34m\u001b[0m\u001b[0m\n",
       "\u001b[0;31mDocstring:\u001b[0m      <no docstring>\n",
       "\u001b[0;31mSource:\u001b[0m        \n",
       "\u001b[0;32mclass\u001b[0m \u001b[0mGreedyExploreFirst\u001b[0m\u001b[0;34m(\u001b[0m\u001b[0mAgent\u001b[0m\u001b[0;34m)\u001b[0m\u001b[0;34m:\u001b[0m\u001b[0;34m\u001b[0m\n",
       "\u001b[0;34m\u001b[0m    \u001b[0;32mdef\u001b[0m \u001b[0m__init__\u001b[0m\u001b[0;34m(\u001b[0m\u001b[0mself\u001b[0m\u001b[0;34m,\u001b[0m \u001b[0mn_arms\u001b[0m\u001b[0;34m,\u001b[0m \u001b[0mlearning_stop\u001b[0m\u001b[0;34m)\u001b[0m\u001b[0;34m:\u001b[0m\u001b[0;34m\u001b[0m\n",
       "\u001b[0;34m\u001b[0m        \u001b[0;34m\"\"\"\u001b[0m\n",
       "\u001b[0;34m        n_arms: int\u001b[0m\n",
       "\u001b[0;34m            Number of arms\u001b[0m\n",
       "\u001b[0;34m        learning_stop: int\u001b[0m\n",
       "\u001b[0;34m            Time step until we decide to stop chosing arms randomly\u001b[0m\n",
       "\u001b[0;34m        \"\"\"\u001b[0m\u001b[0;34m\u001b[0m\n",
       "\u001b[0;34m\u001b[0m        \u001b[0msuper\u001b[0m\u001b[0;34m(\u001b[0m\u001b[0;34m)\u001b[0m\u001b[0;34m.\u001b[0m\u001b[0m__init__\u001b[0m\u001b[0;34m(\u001b[0m\u001b[0mn_arms\u001b[0m\u001b[0;34m)\u001b[0m\u001b[0;34m\u001b[0m\n",
       "\u001b[0;34m\u001b[0m        \u001b[0mself\u001b[0m\u001b[0;34m.\u001b[0m\u001b[0mlearning_stop\u001b[0m \u001b[0;34m=\u001b[0m \u001b[0mlearning_stop\u001b[0m\u001b[0;34m\u001b[0m\n",
       "\u001b[0;34m\u001b[0m    \u001b[0;34m\u001b[0m\n",
       "\u001b[0;34m\u001b[0m    \u001b[0;32mdef\u001b[0m \u001b[0mselect_arm\u001b[0m\u001b[0;34m(\u001b[0m\u001b[0mself\u001b[0m\u001b[0;34m)\u001b[0m\u001b[0;34m:\u001b[0m\u001b[0;34m\u001b[0m\n",
       "\u001b[0;34m\u001b[0m        \u001b[0;31m# if learning hasn't stopped yet, chose random arm\u001b[0m\u001b[0;34m\u001b[0m\n",
       "\u001b[0;34m\u001b[0m        \u001b[0;32mif\u001b[0m \u001b[0mself\u001b[0m\u001b[0;34m.\u001b[0m\u001b[0m_total_tries\u001b[0m \u001b[0;34m<\u001b[0m \u001b[0mself\u001b[0m\u001b[0;34m.\u001b[0m\u001b[0mlearning_stop\u001b[0m\u001b[0;34m:\u001b[0m\u001b[0;34m\u001b[0m\n",
       "\u001b[0;34m\u001b[0m            \u001b[0marm\u001b[0m \u001b[0;34m=\u001b[0m \u001b[0mself\u001b[0m\u001b[0;34m.\u001b[0m\u001b[0m_total_tries\u001b[0m \u001b[0;34m%\u001b[0m \u001b[0mself\u001b[0m\u001b[0;34m.\u001b[0m\u001b[0mn_arms\u001b[0m \u001b[0;31m# can also replace with arm = random.randint(0, self.n_arms - 1)\u001b[0m\u001b[0;34m\u001b[0m\n",
       "\u001b[0;34m\u001b[0m        \u001b[0;31m# else chose arm with most success rate\u001b[0m\u001b[0;34m\u001b[0m\n",
       "\u001b[0;34m\u001b[0m        \u001b[0;32melse\u001b[0m\u001b[0;34m:\u001b[0m\u001b[0;34m\u001b[0m\n",
       "\u001b[0;34m\u001b[0m            \u001b[0msuccess_rate\u001b[0m \u001b[0;34m=\u001b[0m \u001b[0mself\u001b[0m\u001b[0;34m.\u001b[0m\u001b[0msuccesses\u001b[0m \u001b[0;34m/\u001b[0m \u001b[0mself\u001b[0m\u001b[0;34m.\u001b[0m\u001b[0mtries\u001b[0m\u001b[0;34m\u001b[0m\n",
       "\u001b[0;34m\u001b[0m            \u001b[0marm\u001b[0m \u001b[0;34m=\u001b[0m \u001b[0margmax\u001b[0m\u001b[0;34m(\u001b[0m\u001b[0msuccess_rate\u001b[0m\u001b[0;34m)\u001b[0m\u001b[0;34m\u001b[0m\n",
       "\u001b[0;34m\u001b[0m        \u001b[0marm\u001b[0m \u001b[0;34m=\u001b[0m \u001b[0mint\u001b[0m\u001b[0;34m(\u001b[0m\u001b[0marm\u001b[0m\u001b[0;34m)\u001b[0m\u001b[0;34m\u001b[0m\n",
       "\u001b[0;34m\u001b[0m        \u001b[0;32mreturn\u001b[0m \u001b[0marm\u001b[0m\u001b[0;34m\u001b[0m\u001b[0;34m\u001b[0m\u001b[0m\n",
       "\u001b[0;31mFile:\u001b[0m           ~/Repos/bandits/src/agents.py\n",
       "\u001b[0;31mType:\u001b[0m           type\n",
       "\u001b[0;31mSubclasses:\u001b[0m     \n"
      ]
     },
     "metadata": {},
     "output_type": "display_data"
    }
   ],
   "source": [
    "??GreedyExploreFirst"
   ]
  },
  {
   "cell_type": "code",
   "execution_count": 17,
   "id": "60142480-6cee-4e79-80de-a9e4d12030eb",
   "metadata": {},
   "outputs": [],
   "source": [
    "agent = GreedyExploreFirst(n_arms=n_arms, learning_stop=n_arms*200) #Setting 200 tries per arm"
   ]
  },
  {
   "cell_type": "code",
   "execution_count": 18,
   "id": "f4fec67d-c197-4ffc-8126-7cac9bd2fd76",
   "metadata": {},
   "outputs": [],
   "source": [
    "total_reward = []\n",
    "T = 10000 # Total testing time\n",
    "arms= []\n",
    "for row in range(int(T)):\n",
    "    arm = agent.select_arm()\n",
    "    arms.append(arm)\n",
    "    agent.add_observation(arm, environment.get_reward(arm))\n",
    "    total_reward.append(agent.successes.sum())"
   ]
  },
  {
   "cell_type": "code",
   "execution_count": 19,
   "id": "b3e70347-990d-4981-a38e-aa61d96ce561",
   "metadata": {},
   "outputs": [
    {
     "data": {
      "text/plain": [
       "[<matplotlib.lines.Line2D at 0x7f5bb5b63d10>]"
      ]
     },
     "execution_count": 19,
     "metadata": {},
     "output_type": "execute_result"
    },
    {
     "data": {
      "image/png": "[encoded data removed]",
      "text/plain": [
       "<Figure size 432x288 with 1 Axes>"
      ]
     },
     "metadata": {
      "needs_background": "light"
     },
     "output_type": "display_data"
    }
   ],
   "source": [
    "plt.plot(arms)"
   ]
  },
  {
   "cell_type": "code",
   "execution_count": 20,
   "id": "1a9669e4-3a7d-45f1-b837-34f8af5010ae",
   "metadata": {},
   "outputs": [
    {
     "data": {
      "text/plain": [
       "17"
      ]
     },
     "execution_count": 20,
     "metadata": {},
     "output_type": "execute_result"
    }
   ],
   "source": [
    "agent.select_arm()"
   ]
  },
  {
   "cell_type": "code",
   "execution_count": 21,
   "id": "39fdd815-9c1e-4cf7-9128-b06b8bb26d60",
   "metadata": {},
   "outputs": [
    {
     "data": {
      "text/plain": [
       "Text(0, 0.5, 'Total Reward')"
      ]
     },
     "execution_count": 21,
     "metadata": {},
     "output_type": "execute_result"
    },
    {
     "data": {
      "image/png": "[encoded data removed]",
      "text/plain": [
       "<Figure size 432x288 with 1 Axes>"
      ]
     },
     "metadata": {
      "needs_background": "light"
     },
     "output_type": "display_data"
    }
   ],
   "source": [
    "plt.plot(total_reward)\n",
    "plt.axvline(agent.learning_stop, c='r')\n",
    "plt.xlabel('Tries')\n",
    "plt.ylabel('Total Reward')"
   ]
  },
  {
   "cell_type": "code",
   "execution_count": 22,
   "id": "f04980b1-cfdf-4067-ac67-ee9a439d31e2",
   "metadata": {},
   "outputs": [
    {
     "data": {
      "text/plain": [
       "323.0"
      ]
     },
     "execution_count": 22,
     "metadata": {},
     "output_type": "execute_result"
    }
   ],
   "source": [
    "total_reward[-1]"
   ]
  },
  {
   "cell_type": "code",
   "execution_count": 23,
   "id": "30c3b9ec-8b8a-4a9d-9412-50ac626384ba",
   "metadata": {},
   "outputs": [
    {
     "data": {
      "text/plain": [
       "<matplotlib.axes._subplots.AxesSubplot at 0x7f5bb5a0d610>"
      ]
     },
     "execution_count": 23,
     "metadata": {},
     "output_type": "execute_result"
    },
    {
     "data": {
      "image/png": "[encoded data removed]",
      "text/plain": [
       "<Figure size 432x288 with 1 Axes>"
      ]
     },
     "metadata": {
      "needs_background": "light"
     },
     "output_type": "display_data"
    }
   ],
   "source": [
    "pd.Series(agent.tries).plot.bar()"
   ]
  },
  {
   "cell_type": "markdown",
   "id": "3efc15fc-e4dd-4ad5-9974-f7fc257751f0",
   "metadata": {
    "tags": []
   },
   "source": [
    "# Implementing an Epsilon Greedy Strategy"
   ]
  },
  {
   "cell_type": "markdown",
   "id": "cc32b0c7-2782-40df-8ff3-bf4ecfd88d68",
   "metadata": {},
   "source": [
    "At each step, we throw an $\\epsilon$-weighted coin toss do decide wether to explore or exploit."
   ]
  },
  {
   "cell_type": "code",
   "execution_count": 24,
   "id": "b3e5e530-1d1d-4e2d-b120-a59f6e0a09b5",
   "metadata": {},
   "outputs": [
    {
     "data": {
      "text/plain": [
       "\u001b[0;31mInit signature:\u001b[0m \u001b[0mEpsilonGreedy\u001b[0m\u001b[0;34m(\u001b[0m\u001b[0mn_arms\u001b[0m\u001b[0;34m)\u001b[0m\u001b[0;34m\u001b[0m\u001b[0;34m\u001b[0m\u001b[0m\n",
       "\u001b[0;31mDocstring:\u001b[0m      <no docstring>\n",
       "\u001b[0;31mSource:\u001b[0m        \n",
       "\u001b[0;32mclass\u001b[0m \u001b[0mEpsilonGreedy\u001b[0m\u001b[0;34m(\u001b[0m\u001b[0mAgent\u001b[0m\u001b[0;34m)\u001b[0m\u001b[0;34m:\u001b[0m\u001b[0;34m\u001b[0m\n",
       "\u001b[0;34m\u001b[0m    \u001b[0;34m@\u001b[0m\u001b[0mproperty\u001b[0m\u001b[0;34m\u001b[0m\n",
       "\u001b[0;34m\u001b[0m    \u001b[0;32mdef\u001b[0m \u001b[0m_epsilon\u001b[0m\u001b[0;34m(\u001b[0m\u001b[0mself\u001b[0m\u001b[0;34m)\u001b[0m\u001b[0;34m:\u001b[0m\u001b[0;34m\u001b[0m\n",
       "\u001b[0;34m\u001b[0m        \u001b[0;31m# value taken from https://arxiv.org/pdf/1904.07272.pdf theorem 1.6\u001b[0m\u001b[0;34m\u001b[0m\n",
       "\u001b[0;34m\u001b[0m        \u001b[0mepsilon\u001b[0m \u001b[0;34m=\u001b[0m \u001b[0;34m(\u001b[0m\u001b[0mself\u001b[0m\u001b[0;34m.\u001b[0m\u001b[0mn_arms\u001b[0m \u001b[0;34m*\u001b[0m \u001b[0mnp\u001b[0m\u001b[0;34m.\u001b[0m\u001b[0mlog\u001b[0m\u001b[0;34m(\u001b[0m\u001b[0mself\u001b[0m\u001b[0;34m.\u001b[0m\u001b[0m_total_tries\u001b[0m \u001b[0;34m+\u001b[0m \u001b[0;36m1\u001b[0m\u001b[0;34m)\u001b[0m \u001b[0;34m/\u001b[0m \u001b[0mself\u001b[0m\u001b[0;34m.\u001b[0m\u001b[0m_total_tries\u001b[0m\u001b[0;34m)\u001b[0m \u001b[0;34m**\u001b[0m \u001b[0;34m(\u001b[0m\u001b[0;36m1\u001b[0m\u001b[0;34m/\u001b[0m\u001b[0;36m3\u001b[0m\u001b[0;34m)\u001b[0m\u001b[0;34m\u001b[0m\n",
       "\u001b[0;34m\u001b[0m        \u001b[0mepsilon\u001b[0m \u001b[0;34m=\u001b[0m \u001b[0mmin\u001b[0m\u001b[0;34m(\u001b[0m\u001b[0mepsilon\u001b[0m\u001b[0;34m,\u001b[0m \u001b[0;36m1\u001b[0m\u001b[0;34m)\u001b[0m\u001b[0;34m\u001b[0m\n",
       "\u001b[0;34m\u001b[0m        \u001b[0;32mreturn\u001b[0m \u001b[0mepsilon\u001b[0m\u001b[0;34m\u001b[0m\n",
       "\u001b[0;34m\u001b[0m    \u001b[0;34m\u001b[0m\n",
       "\u001b[0;34m\u001b[0m    \u001b[0;32mdef\u001b[0m \u001b[0mselect_arm\u001b[0m\u001b[0;34m(\u001b[0m\u001b[0mself\u001b[0m\u001b[0;34m)\u001b[0m\u001b[0;34m:\u001b[0m\u001b[0;34m\u001b[0m\n",
       "\u001b[0;34m\u001b[0m        \u001b[0;31m# if epsilon-weighted coin toss is true, explore\u001b[0m\u001b[0;34m\u001b[0m\n",
       "\u001b[0;34m\u001b[0m        \u001b[0;34m\u001b[0m\n",
       "\u001b[0;34m\u001b[0m        \u001b[0;32mif\u001b[0m \u001b[0mself\u001b[0m\u001b[0;34m.\u001b[0m\u001b[0m_total_tries\u001b[0m \u001b[0;34m<\u001b[0m \u001b[0mself\u001b[0m\u001b[0;34m.\u001b[0m\u001b[0mn_arms\u001b[0m\u001b[0;34m:\u001b[0m\u001b[0;34m\u001b[0m\n",
       "\u001b[0;34m\u001b[0m            \u001b[0marm\u001b[0m \u001b[0;34m=\u001b[0m \u001b[0mself\u001b[0m\u001b[0;34m.\u001b[0m\u001b[0m_total_tries\u001b[0m\u001b[0;34m\u001b[0m\n",
       "\u001b[0;34m\u001b[0m        \u001b[0;32melse\u001b[0m\u001b[0;34m:\u001b[0m\u001b[0;34m\u001b[0m\n",
       "\u001b[0;34m\u001b[0m            \u001b[0mepsilon\u001b[0m \u001b[0;34m=\u001b[0m \u001b[0mself\u001b[0m\u001b[0;34m.\u001b[0m\u001b[0m_epsilon\u001b[0m\u001b[0;34m\u001b[0m\n",
       "\u001b[0;34m\u001b[0m            \u001b[0;32mif\u001b[0m \u001b[0mbernoulli\u001b[0m\u001b[0;34m(\u001b[0m\u001b[0mepsilon\u001b[0m\u001b[0;34m)\u001b[0m\u001b[0;34m.\u001b[0m\u001b[0mrvs\u001b[0m\u001b[0;34m(\u001b[0m\u001b[0;34m)\u001b[0m\u001b[0;34m:\u001b[0m\u001b[0;34m\u001b[0m\n",
       "\u001b[0;34m\u001b[0m                \u001b[0marm\u001b[0m \u001b[0;34m=\u001b[0m \u001b[0mrandom\u001b[0m\u001b[0;34m.\u001b[0m\u001b[0mrandint\u001b[0m\u001b[0;34m(\u001b[0m\u001b[0;36m0\u001b[0m\u001b[0;34m,\u001b[0m \u001b[0mself\u001b[0m\u001b[0;34m.\u001b[0m\u001b[0mn_arms\u001b[0m \u001b[0;34m-\u001b[0m \u001b[0;36m1\u001b[0m\u001b[0;34m)\u001b[0m\u001b[0;34m\u001b[0m\n",
       "\u001b[0;34m\u001b[0m            \u001b[0;31m# else exploit (chose arm with most success rate)\u001b[0m\u001b[0;34m\u001b[0m\n",
       "\u001b[0;34m\u001b[0m            \u001b[0;32melse\u001b[0m\u001b[0;34m:\u001b[0m\u001b[0;34m\u001b[0m\n",
       "\u001b[0;34m\u001b[0m                \u001b[0msuccess_rate\u001b[0m \u001b[0;34m=\u001b[0m \u001b[0mself\u001b[0m\u001b[0;34m.\u001b[0m\u001b[0msuccesses\u001b[0m \u001b[0;34m/\u001b[0m \u001b[0;34m(\u001b[0m\u001b[0mself\u001b[0m\u001b[0;34m.\u001b[0m\u001b[0mtries\u001b[0m \u001b[0;34m+\u001b[0m \u001b[0;36m1e-6\u001b[0m\u001b[0;34m)\u001b[0m\u001b[0;34m\u001b[0m\n",
       "\u001b[0;34m\u001b[0m                \u001b[0marm\u001b[0m \u001b[0;34m=\u001b[0m \u001b[0margmax\u001b[0m\u001b[0;34m(\u001b[0m\u001b[0msuccess_rate\u001b[0m\u001b[0;34m)\u001b[0m\u001b[0;34m\u001b[0m\n",
       "\u001b[0;34m\u001b[0m        \u001b[0marm\u001b[0m \u001b[0;34m=\u001b[0m \u001b[0mint\u001b[0m\u001b[0;34m(\u001b[0m\u001b[0marm\u001b[0m\u001b[0;34m)\u001b[0m\u001b[0;34m\u001b[0m\n",
       "\u001b[0;34m\u001b[0m        \u001b[0;32mreturn\u001b[0m \u001b[0marm\u001b[0m\u001b[0;34m\u001b[0m\u001b[0;34m\u001b[0m\u001b[0m\n",
       "\u001b[0;31mFile:\u001b[0m           ~/Repos/bandits/src/agents.py\n",
       "\u001b[0;31mType:\u001b[0m           type\n",
       "\u001b[0;31mSubclasses:\u001b[0m     \n"
      ]
     },
     "metadata": {},
     "output_type": "display_data"
    }
   ],
   "source": [
    "??EpsilonGreedy"
   ]
  },
  {
   "cell_type": "code",
   "execution_count": 25,
   "id": "e3d524d3-405e-41aa-870c-e6d780d48645",
   "metadata": {},
   "outputs": [],
   "source": [
    "agent = EpsilonGreedy(n_arms=n_arms)"
   ]
  },
  {
   "cell_type": "code",
   "execution_count": null,
   "id": "5775fa8f-5e5f-4b5c-87fa-f424692995f4",
   "metadata": {},
   "outputs": [],
   "source": [
    "total_reward = []\n",
    "epsilon_history = []\n",
    "for row in range(int(T)):\n",
    "    arm = agent.select_arm()\n",
    "    agent.add_observation(arm, environment.get_reward(arm))\n",
    "    epsilon_history.append(agent._epsilon)\n",
    "    total_reward.append(agent.successes.sum())"
   ]
  },
  {
   "cell_type": "code",
   "execution_count": null,
   "id": "f672a375-1fc2-4ee0-886e-f49ebeae56c0",
   "metadata": {},
   "outputs": [],
   "source": [
    "agent.select_arm()"
   ]
  },
  {
   "cell_type": "code",
   "execution_count": null,
   "id": "be265f9f-1647-4347-9c09-1029d46db8a5",
   "metadata": {},
   "outputs": [],
   "source": [
    "plt.plot(total_reward)\n",
    "plt.xlabel('Tries')\n",
    "plt.ylabel('Total Reward')"
   ]
  },
  {
   "cell_type": "code",
   "execution_count": null,
   "id": "1be65ad6-243f-4daa-9de5-a8baab38001b",
   "metadata": {},
   "outputs": [],
   "source": [
    "plt.plot(epsilon_history)\n",
    "plt.title('Epsilon Policy')\n",
    "plt.xlabel('Tries')\n",
    "plt.ylabel('Epsilon')"
   ]
  },
  {
   "cell_type": "code",
   "execution_count": null,
   "id": "ffb68f94-a9fc-4998-9fc1-8a8b3324c01c",
   "metadata": {},
   "outputs": [],
   "source": [
    "total_reward[-1]"
   ]
  },
  {
   "cell_type": "code",
   "execution_count": null,
   "id": "3e6036a3-e29a-4ebf-9f04-d0e0b07f46d9",
   "metadata": {},
   "outputs": [],
   "source": [
    "agent._epsilon"
   ]
  },
  {
   "cell_type": "code",
   "execution_count": null,
   "id": "c5c8c3ae-1a87-4873-81fa-b3c26e0b853b",
   "metadata": {},
   "outputs": [],
   "source": [
    "pd.Series(agent.tries).plot.bar()"
   ]
  },
  {
   "cell_type": "markdown",
   "id": "c36c0010-e231-4b3e-aae7-64ef9693e9a6",
   "metadata": {},
   "source": [
    "# UCB1"
   ]
  },
  {
   "cell_type": "markdown",
   "id": "0d370461-ce9b-4bbf-b6d4-08e1703ad66e",
   "metadata": {},
   "source": [
    "This uses the concept of 'optimism under uncertainty'. We assume the expected reward of each arm is the upper confidence bound (UCB) of the arm so far.\n",
    "\n",
    "The confidence radius is calculated using Hoeffding’s Inequality."
   ]
  },
  {
   "cell_type": "code",
   "execution_count": null,
   "id": "bf23cc82-03e5-49a2-aa95-0a9102bbf4ca",
   "metadata": {},
   "outputs": [],
   "source": [
    "??UCB1"
   ]
  },
  {
   "cell_type": "code",
   "execution_count": null,
   "id": "04caa6b9-b59f-4728-9afc-c069b765b348",
   "metadata": {},
   "outputs": [],
   "source": [
    "agent = UCB1(n_arms=n_arms)"
   ]
  },
  {
   "cell_type": "code",
   "execution_count": null,
   "id": "a49a0d11-4234-4f7a-b855-178c877239f0",
   "metadata": {},
   "outputs": [],
   "source": [
    "total_reward = []\n",
    "T = 10000 # Total testing time\n",
    "for row in range(int(T)):\n",
    "    arm = agent.select_arm()\n",
    "    agent.add_observation(arm, environment.get_reward(arm))\n",
    "    total_reward.append(agent.successes.sum())"
   ]
  },
  {
   "cell_type": "code",
   "execution_count": null,
   "id": "a8665f74-46e9-42e2-825d-74291db273f4",
   "metadata": {},
   "outputs": [],
   "source": [
    "plt.plot(total_reward)\n",
    "plt.xlabel('Tries')\n",
    "plt.ylabel('Total Reward')"
   ]
  },
  {
   "cell_type": "code",
   "execution_count": null,
   "id": "fccaa0b1-a23a-43b3-af1f-7ab7d5973c3b",
   "metadata": {},
   "outputs": [],
   "source": [
    "total_reward[-1]"
   ]
  },
  {
   "cell_type": "code",
   "execution_count": null,
   "id": "f60355af-3807-4278-b7ae-d5b96e4d31a0",
   "metadata": {},
   "outputs": [],
   "source": [
    "pd.Series(agent.tries).plot.bar()"
   ]
  },
  {
   "cell_type": "code",
   "execution_count": null,
   "id": "75b4654a-ce6c-4abc-bf26-93352b5f783f",
   "metadata": {},
   "outputs": [],
   "source": [
    "pd.Series(agent._ucb).plot.bar()"
   ]
  },
  {
   "cell_type": "code",
   "execution_count": null,
   "id": "2ced032f-b99c-42b0-aff8-6963db5feaa2",
   "metadata": {},
   "outputs": [],
   "source": [
    "agent._confidence_radius"
   ]
  },
  {
   "cell_type": "code",
   "execution_count": null,
   "id": "cbb5b311-788a-4c50-a0fc-692bed7ab453",
   "metadata": {},
   "outputs": [],
   "source": [
    "agent._ucb"
   ]
  },
  {
   "cell_type": "markdown",
   "id": "a7f7f7c5-3e37-4d79-9141-fb47244e2690",
   "metadata": {},
   "source": [
    "# Bayesian UCB"
   ]
  },
  {
   "cell_type": "markdown",
   "id": "38cc3249-7249-44fa-869b-46993dd9336c",
   "metadata": {},
   "source": [
    "Instead of assessing the UCB roughly with Hoeffding’s Inequality, we use our knowledge of the Bernoulli distribution and it's conjugate prior, the Beta distribution, to assess the upper confindence bound"
   ]
  },
  {
   "cell_type": "code",
   "execution_count": null,
   "id": "b7563606-1b4c-4928-b9a4-7ace30d12cd9",
   "metadata": {},
   "outputs": [],
   "source": [
    "??BayesUCB"
   ]
  },
  {
   "cell_type": "code",
   "execution_count": null,
   "id": "6c160868-e33d-455a-b6ab-014e81ab6daf",
   "metadata": {},
   "outputs": [],
   "source": [
    "agent = BayesUCB(n_arms=n_arms)"
   ]
  },
  {
   "cell_type": "code",
   "execution_count": null,
   "id": "3d696820-9a43-4486-a6e3-5563dbd4b5a4",
   "metadata": {},
   "outputs": [],
   "source": [
    "total_reward = []\n",
    "T = 10000 # Total testing time\n",
    "for row in range(int(T)):\n",
    "    arm = agent.select_arm()\n",
    "    agent.add_observation(arm, environment.get_reward(arm))\n",
    "    total_reward.append(agent.successes.sum())"
   ]
  },
  {
   "cell_type": "code",
   "execution_count": null,
   "id": "3332b49f-37f5-4d5d-9701-be41bb32004b",
   "metadata": {},
   "outputs": [],
   "source": [
    "plt.plot(total_reward)\n",
    "plt.xlabel('Tries')\n",
    "plt.ylabel('Total Reward')"
   ]
  },
  {
   "cell_type": "code",
   "execution_count": null,
   "id": "179b5c7a-fc94-40e8-a742-25a8bfe34340",
   "metadata": {},
   "outputs": [],
   "source": [
    "total_reward[-1]"
   ]
  },
  {
   "cell_type": "code",
   "execution_count": null,
   "id": "f6044976-1ce0-4df0-93db-585a248fe84a",
   "metadata": {},
   "outputs": [],
   "source": [
    "pd.Series(agent.tries).plot.bar()"
   ]
  },
  {
   "cell_type": "markdown",
   "id": "d344a759-b76b-4987-ac1e-f90d6843a75b",
   "metadata": {},
   "source": [
    "# Thompson Sampling"
   ]
  },
  {
   "cell_type": "markdown",
   "id": "5f01614f-0b08-4677-bb48-ee6a7fa97980",
   "metadata": {},
   "source": [
    "Every arm is supposed to be a Beta distribution with parameters a = success, b = failures.\n",
    "\n",
    "At each step we sample from the Beta distributions of all arms and chose the arm with the largest sample."
   ]
  },
  {
   "cell_type": "code",
   "execution_count": null,
   "id": "c2e038a1-c0d6-442c-b423-2e4da568b224",
   "metadata": {},
   "outputs": [],
   "source": [
    "??ThompsonSampling"
   ]
  },
  {
   "cell_type": "code",
   "execution_count": null,
   "id": "d2627f86-b74a-4cc6-bf61-5bef484bbf3f",
   "metadata": {},
   "outputs": [],
   "source": [
    "agent = ThompsonSampling(n_arms=n_arms)"
   ]
  },
  {
   "cell_type": "code",
   "execution_count": null,
   "id": "ba051234-12ca-477a-bce6-07b35cb597b3",
   "metadata": {},
   "outputs": [],
   "source": [
    "total_reward = []\n",
    "T = 10000 # Total testing time\n",
    "for row in range(int(T)):\n",
    "    arm = agent.select_arm()\n",
    "    agent.add_observation(arm, environment.get_reward(arm))\n",
    "    total_reward.append(agent.successes.sum())"
   ]
  },
  {
   "cell_type": "code",
   "execution_count": null,
   "id": "ada12272-b191-46d4-84ae-d78c0c5f34d9",
   "metadata": {},
   "outputs": [],
   "source": [
    "plt.plot(total_reward)\n",
    "plt.xlabel('Tries')\n",
    "plt.ylabel('Total Reward')"
   ]
  },
  {
   "cell_type": "code",
   "execution_count": null,
   "id": "546fb633-0320-4068-b5ce-7e143e7eaf7f",
   "metadata": {},
   "outputs": [],
   "source": [
    "total_reward[-1]"
   ]
  },
  {
   "cell_type": "code",
   "execution_count": null,
   "id": "dfcbe19c-ba3f-484c-8f99-653b3b88448e",
   "metadata": {},
   "outputs": [],
   "source": [
    "pd.Series(agent.tries).plot.bar()"
   ]
  }
 ],
 "metadata": {
  "kernelspec": {
   "display_name": "sc-analysis",
   "language": "python",
   "name": "sc-analysis"
  },
  "language_info": {
   "codemirror_mode": {
    "name": "ipython",
    "version": 3
   },
   "file_extension": ".py",
   "mimetype": "text/x-python",
   "name": "python",
   "nbconvert_exporter": "python",
   "pygments_lexer": "ipython3",
   "version": "3.7.6"
  }
 },
 "nbformat": 4,
 "nbformat_minor": 5
}
