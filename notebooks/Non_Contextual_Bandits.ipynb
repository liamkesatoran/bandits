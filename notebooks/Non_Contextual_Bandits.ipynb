{
 "cells": [
  {
   "cell_type": "markdown",
   "id": "8db259bf-911b-4cbe-bcf6-d6d13eac367e",
   "metadata": {},
   "source": [
    "# Preliminary setup and data exploration"
   ]
  },
  {
   "cell_type": "code",
   "execution_count": 1,
   "id": "43c9cf6a-2454-47e0-aeeb-33921c67d24c",
   "metadata": {},
   "outputs": [],
   "source": [
    "import os\n",
    "os.chdir('..')"
   ]
  },
  {
   "cell_type": "code",
   "execution_count": 2,
   "id": "4d897c6f-d379-4265-9982-82f1965f9738",
   "metadata": {},
   "outputs": [],
   "source": [
    "import pandas as pd\n",
    "import numpy as np\n",
    "import matplotlib.pyplot as plt\n",
    "import random\n",
    "random.seed(100)\n",
    "np.random.seed(100)"
   ]
  },
  {
   "cell_type": "code",
   "execution_count": 3,
   "id": "1df1d150-90c1-4c21-afe8-2c77ef8e98a5",
   "metadata": {},
   "outputs": [],
   "source": [
    "data = pd.read_csv('data/yahoo_reduced_arms.csv')\n",
    "# Reshuffle data\n",
    "data = data.sample(frac=1, random_state=100)"
   ]
  },
  {
   "cell_type": "code",
   "execution_count": 4,
   "id": "053255b5-9342-4307-9423-cb45ed69853d",
   "metadata": {},
   "outputs": [
    {
     "data": {
      "text/plain": [
       "22"
      ]
     },
     "execution_count": 4,
     "metadata": {},
     "output_type": "execute_result"
    }
   ],
   "source": [
    "# Number of arms\n",
    "n_arms = data['selected_arm'].max() + 1\n",
    "n_arms"
   ]
  },
  {
   "cell_type": "code",
   "execution_count": 5,
   "id": "274089bc-e6d7-48ec-bd24-0a0ea9c06894",
   "metadata": {},
   "outputs": [
    {
     "data": {
      "text/html": [
       "<div>\n",
       "<style scoped>\n",
       "    .dataframe tbody tr th:only-of-type {\n",
       "        vertical-align: middle;\n",
       "    }\n",
       "\n",
       "    .dataframe tbody tr th {\n",
       "        vertical-align: top;\n",
       "    }\n",
       "\n",
       "    .dataframe thead th {\n",
       "        text-align: right;\n",
       "    }\n",
       "</style>\n",
       "<table border=\"1\" class=\"dataframe\">\n",
       "  <thead>\n",
       "    <tr style=\"text-align: right;\">\n",
       "      <th></th>\n",
       "      <th>1</th>\n",
       "      <th>2</th>\n",
       "      <th>3</th>\n",
       "      <th>4</th>\n",
       "      <th>5</th>\n",
       "      <th>6</th>\n",
       "      <th>7</th>\n",
       "      <th>8</th>\n",
       "      <th>9</th>\n",
       "      <th>10</th>\n",
       "      <th>...</th>\n",
       "      <th>130</th>\n",
       "      <th>131</th>\n",
       "      <th>132</th>\n",
       "      <th>133</th>\n",
       "      <th>134</th>\n",
       "      <th>135</th>\n",
       "      <th>136</th>\n",
       "      <th>selected_arm</th>\n",
       "      <th>reward</th>\n",
       "      <th>probability</th>\n",
       "    </tr>\n",
       "  </thead>\n",
       "  <tbody>\n",
       "    <tr>\n",
       "      <th>28252</th>\n",
       "      <td>1</td>\n",
       "      <td>0</td>\n",
       "      <td>0</td>\n",
       "      <td>0</td>\n",
       "      <td>0</td>\n",
       "      <td>0</td>\n",
       "      <td>0</td>\n",
       "      <td>0</td>\n",
       "      <td>0</td>\n",
       "      <td>0</td>\n",
       "      <td>...</td>\n",
       "      <td>0</td>\n",
       "      <td>0</td>\n",
       "      <td>0</td>\n",
       "      <td>0</td>\n",
       "      <td>0</td>\n",
       "      <td>0</td>\n",
       "      <td>0</td>\n",
       "      <td>18</td>\n",
       "      <td>0</td>\n",
       "      <td>0.045455</td>\n",
       "    </tr>\n",
       "    <tr>\n",
       "      <th>22553</th>\n",
       "      <td>1</td>\n",
       "      <td>0</td>\n",
       "      <td>0</td>\n",
       "      <td>0</td>\n",
       "      <td>0</td>\n",
       "      <td>0</td>\n",
       "      <td>0</td>\n",
       "      <td>0</td>\n",
       "      <td>0</td>\n",
       "      <td>0</td>\n",
       "      <td>...</td>\n",
       "      <td>0</td>\n",
       "      <td>0</td>\n",
       "      <td>0</td>\n",
       "      <td>0</td>\n",
       "      <td>0</td>\n",
       "      <td>0</td>\n",
       "      <td>0</td>\n",
       "      <td>4</td>\n",
       "      <td>0</td>\n",
       "      <td>0.045455</td>\n",
       "    </tr>\n",
       "    <tr>\n",
       "      <th>45324</th>\n",
       "      <td>1</td>\n",
       "      <td>0</td>\n",
       "      <td>0</td>\n",
       "      <td>0</td>\n",
       "      <td>0</td>\n",
       "      <td>0</td>\n",
       "      <td>0</td>\n",
       "      <td>0</td>\n",
       "      <td>0</td>\n",
       "      <td>0</td>\n",
       "      <td>...</td>\n",
       "      <td>0</td>\n",
       "      <td>0</td>\n",
       "      <td>0</td>\n",
       "      <td>0</td>\n",
       "      <td>0</td>\n",
       "      <td>0</td>\n",
       "      <td>0</td>\n",
       "      <td>7</td>\n",
       "      <td>0</td>\n",
       "      <td>0.045455</td>\n",
       "    </tr>\n",
       "    <tr>\n",
       "      <th>2154</th>\n",
       "      <td>1</td>\n",
       "      <td>0</td>\n",
       "      <td>0</td>\n",
       "      <td>0</td>\n",
       "      <td>0</td>\n",
       "      <td>0</td>\n",
       "      <td>0</td>\n",
       "      <td>1</td>\n",
       "      <td>0</td>\n",
       "      <td>0</td>\n",
       "      <td>...</td>\n",
       "      <td>0</td>\n",
       "      <td>0</td>\n",
       "      <td>0</td>\n",
       "      <td>0</td>\n",
       "      <td>0</td>\n",
       "      <td>0</td>\n",
       "      <td>0</td>\n",
       "      <td>19</td>\n",
       "      <td>0</td>\n",
       "      <td>0.045455</td>\n",
       "    </tr>\n",
       "    <tr>\n",
       "      <th>37921</th>\n",
       "      <td>1</td>\n",
       "      <td>0</td>\n",
       "      <td>0</td>\n",
       "      <td>0</td>\n",
       "      <td>0</td>\n",
       "      <td>0</td>\n",
       "      <td>0</td>\n",
       "      <td>0</td>\n",
       "      <td>0</td>\n",
       "      <td>0</td>\n",
       "      <td>...</td>\n",
       "      <td>0</td>\n",
       "      <td>0</td>\n",
       "      <td>0</td>\n",
       "      <td>0</td>\n",
       "      <td>0</td>\n",
       "      <td>0</td>\n",
       "      <td>0</td>\n",
       "      <td>3</td>\n",
       "      <td>0</td>\n",
       "      <td>0.045455</td>\n",
       "    </tr>\n",
       "  </tbody>\n",
       "</table>\n",
       "<p>5 rows × 139 columns</p>\n",
       "</div>"
      ],
      "text/plain": [
       "       1  2  3  4  5  6  7  8  9  10  ...  130  131  132  133  134  135  136  \\\n",
       "28252  1  0  0  0  0  0  0  0  0   0  ...    0    0    0    0    0    0    0   \n",
       "22553  1  0  0  0  0  0  0  0  0   0  ...    0    0    0    0    0    0    0   \n",
       "45324  1  0  0  0  0  0  0  0  0   0  ...    0    0    0    0    0    0    0   \n",
       "2154   1  0  0  0  0  0  0  1  0   0  ...    0    0    0    0    0    0    0   \n",
       "37921  1  0  0  0  0  0  0  0  0   0  ...    0    0    0    0    0    0    0   \n",
       "\n",
       "       selected_arm  reward  probability  \n",
       "28252            18       0     0.045455  \n",
       "22553             4       0     0.045455  \n",
       "45324             7       0     0.045455  \n",
       "2154             19       0     0.045455  \n",
       "37921             3       0     0.045455  \n",
       "\n",
       "[5 rows x 139 columns]"
      ]
     },
     "execution_count": 5,
     "metadata": {},
     "output_type": "execute_result"
    }
   ],
   "source": [
    "data.sample(n=5, random_state=100)"
   ]
  },
  {
   "cell_type": "code",
   "execution_count": 6,
   "id": "a2a6e661-6e1b-40e7-935f-1dc6c28dfd7a",
   "metadata": {},
   "outputs": [
    {
     "data": {
      "text/plain": [
       "(45791, 139)"
      ]
     },
     "execution_count": 6,
     "metadata": {},
     "output_type": "execute_result"
    }
   ],
   "source": [
    "data.shape"
   ]
  },
  {
   "cell_type": "markdown",
   "id": "3b614773-c2ad-4ba6-86e1-084424818e5f",
   "metadata": {},
   "source": [
    "There are 22 different arms. They seem to have been chosen uniformly randomly:"
   ]
  },
  {
   "cell_type": "code",
   "execution_count": 7,
   "id": "80b3c837-1d01-4853-b659-bf939f414013",
   "metadata": {},
   "outputs": [
    {
     "data": {
      "text/plain": [
       "count    45791.000000\n",
       "mean        10.420825\n",
       "std          6.357193\n",
       "min          0.000000\n",
       "25%          5.000000\n",
       "50%         10.000000\n",
       "75%         16.000000\n",
       "max         21.000000\n",
       "Name: selected_arm, dtype: float64"
      ]
     },
     "execution_count": 7,
     "metadata": {},
     "output_type": "execute_result"
    }
   ],
   "source": [
    "data['selected_arm'].describe()"
   ]
  },
  {
   "cell_type": "code",
   "execution_count": 8,
   "id": "20eb0446-7402-4716-bd27-c2dd5ca36fcb",
   "metadata": {},
   "outputs": [
    {
     "data": {
      "image/png": "[encoded data removed]",
      "text/plain": [
       "<Figure size 432x288 with 1 Axes>"
      ]
     },
     "metadata": {
      "needs_background": "light"
     },
     "output_type": "display_data"
    }
   ],
   "source": [
    "data['selected_arm'].value_counts().sort_index().plot(kind='bar')\n",
    "plt.xlabel('Selected Arm')\n",
    "plt.ylabel('Count')\n",
    "plt.show()"
   ]
  },
  {
   "cell_type": "markdown",
   "id": "24a43874-5e59-4581-858e-dfc22ef15b26",
   "metadata": {},
   "source": [
    "The reward is a Bernoulli distribution:"
   ]
  },
  {
   "cell_type": "code",
   "execution_count": 9,
   "id": "f214ebe2-c833-4818-83cf-55fe2b30963d",
   "metadata": {},
   "outputs": [
    {
     "data": {
      "text/plain": [
       "count    45791.000000\n",
       "mean         0.019109\n",
       "std          0.136908\n",
       "min          0.000000\n",
       "25%          0.000000\n",
       "50%          0.000000\n",
       "75%          0.000000\n",
       "max          1.000000\n",
       "Name: reward, dtype: float64"
      ]
     },
     "execution_count": 9,
     "metadata": {},
     "output_type": "execute_result"
    }
   ],
   "source": [
    "data['reward'].describe()"
   ]
  },
  {
   "cell_type": "markdown",
   "id": "86411207-f3a4-45b5-a921-81abe7f467f8",
   "metadata": {},
   "source": [
    "The reward expectancy depends on the arm chosen:"
   ]
  },
  {
   "cell_type": "code",
   "execution_count": 10,
   "id": "769c436c-8089-4774-b79c-4be02c63cf6f",
   "metadata": {},
   "outputs": [
    {
     "data": {
      "text/plain": [
       "Text(0.5, 0, 'Selected Arm')"
      ]
     },
     "execution_count": 10,
     "metadata": {},
     "output_type": "execute_result"
    },
    {
     "data": {
      "image/png": "[encoded data removed]",
      "text/plain": [
       "<Figure size 432x288 with 1 Axes>"
      ]
     },
     "metadata": {
      "needs_background": "light"
     },
     "output_type": "display_data"
    }
   ],
   "source": [
    "data.groupby('selected_arm').agg({'reward':'mean'}).plot(kind='bar')\n",
    "plt.ylabel('Average reward')\n",
    "plt.xlabel('Selected Arm')"
   ]
  },
  {
   "cell_type": "markdown",
   "id": "a6ed8c72-4a3e-4800-a9e7-73a1b17aba8d",
   "metadata": {},
   "source": [
    "All 136 features are bernoulli"
   ]
  },
  {
   "cell_type": "markdown",
   "id": "b0078bf0-7f5a-4227-9cfe-93f9a9adcca3",
   "metadata": {},
   "source": [
    "# Creating Environments from the Data (Slot Machines)"
   ]
  },
  {
   "cell_type": "markdown",
   "id": "2fbd70a2-9caf-4eeb-b267-3da452b5b1b2",
   "metadata": {},
   "source": [
    "This assumes the data has columns:\n",
    "- `'selected_arm'` ranging from `0` to `(n_arms - 1)` corresponding to the selected arm\n",
    "- `'reward'` which is the reward of the selected sample (row)"
   ]
  },
  {
   "cell_type": "markdown",
   "id": "7862706d-caa2-4328-93b2-78ed3b81e590",
   "metadata": {},
   "source": [
    "The experiments are sampled randomly from the data where the corresponding arm was chosen."
   ]
  },
  {
   "cell_type": "code",
   "execution_count": 11,
   "id": "d0af62fc-e76f-4768-ab27-4a29c6133eb3",
   "metadata": {},
   "outputs": [],
   "source": [
    "class Environment_From_Data():\n",
    "    def __init__(self, data):\n",
    "        \"\"\"\n",
    "        data: pd.DataFrame\n",
    "            dataframe containing columns 'reward' and 'selected arm'\n",
    "        \"\"\"\n",
    "        self.data = data\n",
    "        # Save rewards grouped by arms to make the rest of computations go much faster\n",
    "        self.data_groupby_arms = data.groupby('selected_arm')\n",
    "    \n",
    "    def get_reward(self, arm):\n",
    "        # Chose randomly one index in the data with selected_arm = arm\n",
    "        index = np.random.choice(self.data_groupby_arms.groups[arm])\n",
    "        reward = data.loc[index, 'reward']\n",
    "        return reward"
   ]
  },
  {
   "cell_type": "code",
   "execution_count": 12,
   "id": "17ea1e3c-24bb-4a3b-8902-b7a6983bede3",
   "metadata": {},
   "outputs": [],
   "source": [
    "environment = Environment_From_Data(data)"
   ]
  },
  {
   "cell_type": "markdown",
   "id": "2a88fa1d-bf19-4125-b474-8e281ee0f56d",
   "metadata": {},
   "source": [
    "# Random argmax"
   ]
  },
  {
   "cell_type": "markdown",
   "id": "c5bdbf82-1970-4413-bf95-a90a8f600237",
   "metadata": {},
   "source": [
    "The $\\arg\\max$ function is used very often in bandits algorithms. \n",
    "\n",
    "It is important to select a random arm in case of a tie."
   ]
  },
  {
   "cell_type": "code",
   "execution_count": 13,
   "id": "5720d19a-a281-430a-a0f1-757ddfb0e4e5",
   "metadata": {},
   "outputs": [],
   "source": [
    "def argmax(vec):\n",
    "    return np.random.choice((vec == vec.max()).nonzero()[0])"
   ]
  },
  {
   "cell_type": "markdown",
   "id": "d00ea32c-dd31-4d1d-bb01-c7947b21250a",
   "metadata": {},
   "source": [
    "# Defining a base Agent other will be based upon"
   ]
  },
  {
   "cell_type": "markdown",
   "id": "38c20cbe-7f70-4098-9912-136229bcb443",
   "metadata": {},
   "source": [
    "These are the basic properties of a multi-armed bandit."
   ]
  },
  {
   "cell_type": "code",
   "execution_count": 14,
   "id": "b1a0b710-4534-4755-8a10-98fd94637b6c",
   "metadata": {},
   "outputs": [],
   "source": [
    "class Agent():\n",
    "    def __init__(self, n_arms):\n",
    "        \"\"\"\n",
    "        n_arms: int\n",
    "            Number of arms\n",
    "        \"\"\"\n",
    "        self.n_arms = n_arms\n",
    "        self.tries = np.zeros(n_arms)\n",
    "        self.successes = np.zeros(n_arms)\n",
    "        \n",
    "    @property\n",
    "    def _total_tries(self): \n",
    "        return self.tries.sum()\n",
    "    \n",
    "    def add_observation(self, arm, reward):\n",
    "        \"\"\"\n",
    "        arm: int\n",
    "            Chosen arm of the observation\n",
    "        reward: float\n",
    "            Reward of the observation\n",
    "        \"\"\"\n",
    "        self.tries[arm] += 1\n",
    "        self.successes[arm] += reward\n",
    "    \n",
    "    def select_arm(self):\n",
    "        \"\"\"Placeholder way of selecting an arm.\"\"\"\n",
    "        arm = self._total_tries % self.n_arms\n",
    "        return arm"
   ]
  },
  {
   "cell_type": "markdown",
   "id": "74eccae9-a3c2-41ad-84d6-e93eb5d8a358",
   "metadata": {
    "tags": []
   },
   "source": [
    "# Implementing a simple Explore First then Greedy strategy"
   ]
  },
  {
   "cell_type": "markdown",
   "id": "76a27f91-875c-4c43-b18a-f885304e61a1",
   "metadata": {},
   "source": [
    "We explore for `learning_stop` steps then exploit the reward that gave the most expected reward so far."
   ]
  },
  {
   "cell_type": "code",
   "execution_count": 15,
   "id": "168a11a5-797a-4adb-9928-414e76e8275e",
   "metadata": {},
   "outputs": [],
   "source": [
    "class GreedyExploreFirst(Agent):\n",
    "    def __init__(self, n_arms, learning_stop):\n",
    "        \"\"\"\n",
    "        n_arms: int\n",
    "            Number of arms\n",
    "        learning_stop: int\n",
    "            Time step until we decide to stop chosing arms randomly\n",
    "        \"\"\"\n",
    "        super().__init__(n_arms)\n",
    "        self.learning_stop = learning_stop\n",
    "    \n",
    "    def select_arm(self):\n",
    "        # if learning hasn't stopped yet, chose random arm\n",
    "        if self._total_tries < self.learning_stop:\n",
    "            arm = self._total_tries % self.n_arms # can also replace with arm = random.randint(0, self.n_arms - 1)\n",
    "        # else chose arm with most success rate\n",
    "        else:\n",
    "            success_rate = self.successes / self.tries\n",
    "            arm = argmax(success_rate)\n",
    "        arm = int(arm)\n",
    "        return arm"
   ]
  },
  {
   "cell_type": "code",
   "execution_count": 16,
   "id": "60142480-6cee-4e79-80de-a9e4d12030eb",
   "metadata": {},
   "outputs": [],
   "source": [
    "agent = GreedyExploreFirst(n_arms=n_arms, learning_stop=n_arms*200) #Setting 200 tries per arm"
   ]
  },
  {
   "cell_type": "code",
   "execution_count": 17,
   "id": "f4fec67d-c197-4ffc-8126-7cac9bd2fd76",
   "metadata": {},
   "outputs": [],
   "source": [
    "total_reward = []\n",
    "T = 10000 # Total testing time\n",
    "arms= []\n",
    "for row in range(int(T)):\n",
    "    arm = agent.select_arm()\n",
    "    arms.append(arm)\n",
    "    agent.add_observation(arm, environment.get_reward(arm))\n",
    "    total_reward.append(agent.successes.sum())"
   ]
  },
  {
   "cell_type": "code",
   "execution_count": 18,
   "id": "b3e70347-990d-4981-a38e-aa61d96ce561",
   "metadata": {},
   "outputs": [
    {
     "data": {
      "text/plain": [
       "[<matplotlib.lines.Line2D at 0x7f7c4c87dcd0>]"
      ]
     },
     "execution_count": 18,
     "metadata": {},
     "output_type": "execute_result"
    },
    {
     "data": {
      "image/png": "[encoded data removed]",
      "text/plain": [
       "<Figure size 432x288 with 1 Axes>"
      ]
     },
     "metadata": {
      "needs_background": "light"
     },
     "output_type": "display_data"
    }
   ],
   "source": [
    "plt.plot(arms)"
   ]
  },
  {
   "cell_type": "code",
   "execution_count": 19,
   "id": "1a9669e4-3a7d-45f1-b837-34f8af5010ae",
   "metadata": {},
   "outputs": [
    {
     "data": {
      "text/plain": [
       "17"
      ]
     },
     "execution_count": 19,
     "metadata": {},
     "output_type": "execute_result"
    }
   ],
   "source": [
    "agent.select_arm()"
   ]
  },
  {
   "cell_type": "code",
   "execution_count": 20,
   "id": "39fdd815-9c1e-4cf7-9128-b06b8bb26d60",
   "metadata": {},
   "outputs": [
    {
     "data": {
      "text/plain": [
       "Text(0, 0.5, 'Total Reward')"
      ]
     },
     "execution_count": 20,
     "metadata": {},
     "output_type": "execute_result"
    },
    {
     "data": {
      "image/png": "[encoded data removed]",
      "text/plain": [
       "<Figure size 432x288 with 1 Axes>"
      ]
     },
     "metadata": {
      "needs_background": "light"
     },
     "output_type": "display_data"
    }
   ],
   "source": [
    "plt.plot(total_reward)\n",
    "plt.axvline(agent.learning_stop, c='r')\n",
    "plt.xlabel('Tries')\n",
    "plt.ylabel('Total Reward')"
   ]
  },
  {
   "cell_type": "code",
   "execution_count": 21,
   "id": "f04980b1-cfdf-4067-ac67-ee9a439d31e2",
   "metadata": {},
   "outputs": [
    {
     "data": {
      "text/plain": [
       "323.0"
      ]
     },
     "execution_count": 21,
     "metadata": {},
     "output_type": "execute_result"
    }
   ],
   "source": [
    "total_reward[-1]"
   ]
  },
  {
   "cell_type": "code",
   "execution_count": 22,
   "id": "30c3b9ec-8b8a-4a9d-9412-50ac626384ba",
   "metadata": {},
   "outputs": [
    {
     "data": {
      "text/plain": [
       "<matplotlib.axes._subplots.AxesSubplot at 0x7f7c4c8f1b50>"
      ]
     },
     "execution_count": 22,
     "metadata": {},
     "output_type": "execute_result"
    },
    {
     "data": {
      "image/png": "[encoded data removed]",
      "text/plain": [
       "<Figure size 432x288 with 1 Axes>"
      ]
     },
     "metadata": {
      "needs_background": "light"
     },
     "output_type": "display_data"
    }
   ],
   "source": [
    "pd.Series(agent.tries).plot.bar()"
   ]
  },
  {
   "cell_type": "markdown",
   "id": "3efc15fc-e4dd-4ad5-9974-f7fc257751f0",
   "metadata": {
    "tags": []
   },
   "source": [
    "# Implementing an Epsilon Greedy Strategy"
   ]
  },
  {
   "cell_type": "markdown",
   "id": "cc32b0c7-2782-40df-8ff3-bf4ecfd88d68",
   "metadata": {},
   "source": [
    "At each step, we throw an $\\epsilon$-weighted coin toss do decide wether to explore or exploit."
   ]
  },
  {
   "cell_type": "code",
   "execution_count": 23,
   "id": "b3e5e530-1d1d-4e2d-b120-a59f6e0a09b5",
   "metadata": {},
   "outputs": [],
   "source": [
    "from scipy.stats import bernoulli\n",
    "\n",
    "class EpsilonGreedy(Agent):\n",
    "\n",
    "    @property\n",
    "    def _epsilon(self):\n",
    "        # value taken from https://arxiv.org/pdf/1904.07272.pdf theorem 1.6\n",
    "        epsilon = (self.n_arms * np.log(self._total_tries + 1) / self._total_tries) ** (1/3)\n",
    "        epsilon = min(epsilon, 1)\n",
    "        return epsilon\n",
    "    \n",
    "    def select_arm(self):\n",
    "        # if epsilon-weighted coin toss is true, explore\n",
    "        \n",
    "        if self._total_tries < n_arms:\n",
    "            arm = self._total_tries\n",
    "        else:\n",
    "            epsilon = self._epsilon\n",
    "            if bernoulli(epsilon).rvs():\n",
    "                arm = random.randint(0, self.n_arms - 1)\n",
    "            # else exploit (chose arm with most success rate)\n",
    "            else:\n",
    "                success_rate = self.successes / (self.tries + 1e-6)\n",
    "                arm = argmax(success_rate)\n",
    "        arm = int(arm)\n",
    "        return arm"
   ]
  },
  {
   "cell_type": "code",
   "execution_count": 24,
   "id": "e3d524d3-405e-41aa-870c-e6d780d48645",
   "metadata": {},
   "outputs": [],
   "source": [
    "agent = EpsilonGreedy(n_arms=n_arms)"
   ]
  },
  {
   "cell_type": "code",
   "execution_count": 25,
   "id": "5775fa8f-5e5f-4b5c-87fa-f424692995f4",
   "metadata": {},
   "outputs": [],
   "source": [
    "total_reward = []\n",
    "epsilon_history = []\n",
    "for row in range(int(T)):\n",
    "    arm = agent.select_arm()\n",
    "    agent.add_observation(arm, environment.get_reward(arm))\n",
    "    epsilon_history.append(agent._epsilon)\n",
    "    total_reward.append(agent.successes.sum())"
   ]
  },
  {
   "cell_type": "code",
   "execution_count": 26,
   "id": "f672a375-1fc2-4ee0-886e-f49ebeae56c0",
   "metadata": {},
   "outputs": [
    {
     "data": {
      "text/plain": [
       "17"
      ]
     },
     "execution_count": 26,
     "metadata": {},
     "output_type": "execute_result"
    }
   ],
   "source": [
    "agent.select_arm()"
   ]
  },
  {
   "cell_type": "code",
   "execution_count": 27,
   "id": "be265f9f-1647-4347-9c09-1029d46db8a5",
   "metadata": {},
   "outputs": [
    {
     "data": {
      "text/plain": [
       "Text(0, 0.5, 'Total Reward')"
      ]
     },
     "execution_count": 27,
     "metadata": {},
     "output_type": "execute_result"
    },
    {
     "data": {
      "image/png": "[encoded data removed]",
      "text/plain": [
       "<Figure size 432x288 with 1 Axes>"
      ]
     },
     "metadata": {
      "needs_background": "light"
     },
     "output_type": "display_data"
    }
   ],
   "source": [
    "plt.plot(total_reward)\n",
    "plt.xlabel('Tries')\n",
    "plt.ylabel('Total Reward')"
   ]
  },
  {
   "cell_type": "code",
   "execution_count": 28,
   "id": "1be65ad6-243f-4daa-9de5-a8baab38001b",
   "metadata": {},
   "outputs": [
    {
     "data": {
      "text/plain": [
       "Text(0, 0.5, 'Epsilon')"
      ]
     },
     "execution_count": 28,
     "metadata": {},
     "output_type": "execute_result"
    },
    {
     "data": {
      "image/png": "[encoded data removed]",
      "text/plain": [
       "<Figure size 432x288 with 1 Axes>"
      ]
     },
     "metadata": {
      "needs_background": "light"
     },
     "output_type": "display_data"
    }
   ],
   "source": [
    "plt.plot(epsilon_history)\n",
    "plt.title('Epsilon Policy')\n",
    "plt.xlabel('Tries')\n",
    "plt.ylabel('Epsilon')"
   ]
  },
  {
   "cell_type": "code",
   "execution_count": 29,
   "id": "ffb68f94-a9fc-4998-9fc1-8a8b3324c01c",
   "metadata": {},
   "outputs": [
    {
     "data": {
      "text/plain": [
       "270.0"
      ]
     },
     "execution_count": 29,
     "metadata": {},
     "output_type": "execute_result"
    }
   ],
   "source": [
    "total_reward[-1]"
   ]
  },
  {
   "cell_type": "code",
   "execution_count": 30,
   "id": "3e6036a3-e29a-4ebf-9f04-d0e0b07f46d9",
   "metadata": {},
   "outputs": [
    {
     "data": {
      "text/plain": [
       "0.27262626388255085"
      ]
     },
     "execution_count": 30,
     "metadata": {},
     "output_type": "execute_result"
    }
   ],
   "source": [
    "agent._epsilon"
   ]
  },
  {
   "cell_type": "code",
   "execution_count": 31,
   "id": "c5c8c3ae-1a87-4873-81fa-b3c26e0b853b",
   "metadata": {},
   "outputs": [
    {
     "data": {
      "text/plain": [
       "<matplotlib.axes._subplots.AxesSubplot at 0x7f7c3fb0e2d0>"
      ]
     },
     "execution_count": 31,
     "metadata": {},
     "output_type": "execute_result"
    },
    {
     "data": {
      "image/png": "[encoded data removed]",
      "text/plain": [
       "<Figure size 432x288 with 1 Axes>"
      ]
     },
     "metadata": {
      "needs_background": "light"
     },
     "output_type": "display_data"
    }
   ],
   "source": [
    "pd.Series(agent.tries).plot.bar()"
   ]
  },
  {
   "cell_type": "markdown",
   "id": "c36c0010-e231-4b3e-aae7-64ef9693e9a6",
   "metadata": {},
   "source": [
    "# UCB1"
   ]
  },
  {
   "cell_type": "markdown",
   "id": "0d370461-ce9b-4bbf-b6d4-08e1703ad66e",
   "metadata": {},
   "source": [
    "This uses the concept of 'optimism under uncertainty'. We assume the expected reward of each arm is the upper confidence bound (UCB) of the arm so far.\n",
    "\n",
    "The confidence radius is calculated using Hoeffding’s Inequality."
   ]
  },
  {
   "cell_type": "code",
   "execution_count": 32,
   "id": "bf23cc82-03e5-49a2-aa95-0a9102bbf4ca",
   "metadata": {},
   "outputs": [],
   "source": [
    "class UCB1(Agent):\n",
    "        \n",
    "    @property\n",
    "    def _confidence_radius(self):\n",
    "        radius = np.sqrt(2 * np.log(self._total_tries) / self.tries)\n",
    "        return radius\n",
    "    \n",
    "    @property\n",
    "    def _ucb(self):\n",
    "        success_rate = self.successes / self.tries\n",
    "        return success_rate + self._confidence_radius\n",
    "    \n",
    "    def select_arm(self):\n",
    "        # Start playing each arm once\n",
    "        if self._total_tries < self.n_arms:\n",
    "            arm = self._total_tries\n",
    "        else: \n",
    "            ucb = self._ucb\n",
    "            arm = argmax(ucb)\n",
    "        arm = int(arm)\n",
    "        return arm"
   ]
  },
  {
   "cell_type": "code",
   "execution_count": 33,
   "id": "04caa6b9-b59f-4728-9afc-c069b765b348",
   "metadata": {},
   "outputs": [],
   "source": [
    "agent = UCB1(n_arms=n_arms)"
   ]
  },
  {
   "cell_type": "code",
   "execution_count": 34,
   "id": "a49a0d11-4234-4f7a-b855-178c877239f0",
   "metadata": {},
   "outputs": [],
   "source": [
    "total_reward = []\n",
    "T = 10000 # Total testing time\n",
    "for row in range(int(T)):\n",
    "    arm = agent.select_arm()\n",
    "    agent.add_observation(arm, environment.get_reward(arm))\n",
    "    total_reward.append(agent.successes.sum())"
   ]
  },
  {
   "cell_type": "code",
   "execution_count": 35,
   "id": "a8665f74-46e9-42e2-825d-74291db273f4",
   "metadata": {},
   "outputs": [
    {
     "data": {
      "text/plain": [
       "Text(0, 0.5, 'Total Reward')"
      ]
     },
     "execution_count": 35,
     "metadata": {},
     "output_type": "execute_result"
    },
    {
     "data": {
      "image/png": "[encoded data removed]",
      "text/plain": [
       "<Figure size 432x288 with 1 Axes>"
      ]
     },
     "metadata": {
      "needs_background": "light"
     },
     "output_type": "display_data"
    }
   ],
   "source": [
    "plt.plot(total_reward)\n",
    "plt.xlabel('Tries')\n",
    "plt.ylabel('Total Reward')"
   ]
  },
  {
   "cell_type": "code",
   "execution_count": 36,
   "id": "fccaa0b1-a23a-43b3-af1f-7ab7d5973c3b",
   "metadata": {},
   "outputs": [
    {
     "data": {
      "text/plain": [
       "193.0"
      ]
     },
     "execution_count": 36,
     "metadata": {},
     "output_type": "execute_result"
    }
   ],
   "source": [
    "total_reward[-1]"
   ]
  },
  {
   "cell_type": "code",
   "execution_count": 37,
   "id": "f60355af-3807-4278-b7ae-d5b96e4d31a0",
   "metadata": {},
   "outputs": [
    {
     "data": {
      "text/plain": [
       "<matplotlib.axes._subplots.AxesSubplot at 0x7f7c3fa98dd0>"
      ]
     },
     "execution_count": 37,
     "metadata": {},
     "output_type": "execute_result"
    },
    {
     "data": {
      "image/png": "[encoded data removed]",
      "text/plain": [
       "<Figure size 432x288 with 1 Axes>"
      ]
     },
     "metadata": {
      "needs_background": "light"
     },
     "output_type": "display_data"
    }
   ],
   "source": [
    "pd.Series(agent.tries).plot.bar()"
   ]
  },
  {
   "cell_type": "code",
   "execution_count": 38,
   "id": "75b4654a-ce6c-4abc-bf26-93352b5f783f",
   "metadata": {},
   "outputs": [
    {
     "data": {
      "text/plain": [
       "<matplotlib.axes._subplots.AxesSubplot at 0x7f7c3f91ccd0>"
      ]
     },
     "execution_count": 38,
     "metadata": {},
     "output_type": "execute_result"
    },
    {
     "data": {
      "image/png": "[encoded data removed]",
      "text/plain": [
       "<Figure size 432x288 with 1 Axes>"
      ]
     },
     "metadata": {
      "needs_background": "light"
     },
     "output_type": "display_data"
    }
   ],
   "source": [
    "pd.Series(agent._ucb).plot.bar()"
   ]
  },
  {
   "cell_type": "code",
   "execution_count": 39,
   "id": "2ced032f-b99c-42b0-aff8-6963db5feaa2",
   "metadata": {},
   "outputs": [
    {
     "data": {
      "text/plain": [
       "array([0.2025488 , 0.2154059 , 0.21068266, 0.20437772, 0.2154059 ,\n",
       "       0.18642962, 0.20437772, 0.20649568, 0.18642962, 0.21300501,\n",
       "       0.2154059 , 0.20649568, 0.18642962, 0.2025488 , 0.19388973,\n",
       "       0.19549215, 0.19232607, 0.18503833, 0.21068266, 0.20437772,\n",
       "       0.19881991, 0.20843465])"
      ]
     },
     "execution_count": 39,
     "metadata": {},
     "output_type": "execute_result"
    }
   ],
   "source": [
    "agent._confidence_radius"
   ]
  },
  {
   "cell_type": "code",
   "execution_count": 40,
   "id": "cbb5b311-788a-4c50-a0fc-692bed7ab453",
   "metadata": {},
   "outputs": [
    {
     "data": {
      "text/plain": [
       "array([0.22036617, 0.22044368, 0.22032121, 0.22025073, 0.22044368,\n",
       "       0.22039188, 0.22025073, 0.22038457, 0.22039188, 0.22039417,\n",
       "       0.22044368, 0.22038457, 0.22039188, 0.22036617, 0.22042034,\n",
       "       0.22038841, 0.22043852, 0.22035432, 0.22032121, 0.22025073,\n",
       "       0.22027914, 0.2202271 ])"
      ]
     },
     "execution_count": 40,
     "metadata": {},
     "output_type": "execute_result"
    }
   ],
   "source": [
    "agent._ucb"
   ]
  },
  {
   "cell_type": "markdown",
   "id": "a7f7f7c5-3e37-4d79-9141-fb47244e2690",
   "metadata": {},
   "source": [
    "# Bayesian UCB"
   ]
  },
  {
   "cell_type": "markdown",
   "id": "38cc3249-7249-44fa-869b-46993dd9336c",
   "metadata": {},
   "source": [
    "Instead of assessing the UCB roughly with Hoeffding’s Inequality, we use our knowledge of the Bernoulli distribution and it's conjugate prior, the Beta distribution, to assess the upper confindence bound"
   ]
  },
  {
   "cell_type": "code",
   "execution_count": 41,
   "id": "b7563606-1b4c-4928-b9a4-7ace30d12cd9",
   "metadata": {},
   "outputs": [],
   "source": [
    "from scipy.stats import beta\n",
    "\n",
    "class BayesUCB(Agent):\n",
    "    def __init__(self, n_arms, c=2):\n",
    "        \"\"\"\n",
    "        n_arms: int\n",
    "            Number of arms\n",
    "        c: float\n",
    "            Amount of standard deviations considered for the UCB\n",
    "        \"\"\"\n",
    "        super().__init__(n_arms)\n",
    "        self.c = c # Amount of standard deviations considered for ucb\n",
    "        self._params_a = np.ones(n_arms) # Params a of Beta\n",
    "        self._params_b = np.ones(n_arms) # Params b of Beta\n",
    "  \n",
    "    def add_observation(self, arm, reward):\n",
    "        \"\"\"\n",
    "        arm: int\n",
    "            Arm chosen in the observation\n",
    "        reward: bool\n",
    "            Reward obtained in the observation\n",
    "        \"\"\"\n",
    "        super().add_observation(arm,reward)\n",
    "        self._params_a[arm] += reward\n",
    "        self._params_b[arm] += 1 - reward\n",
    "    \n",
    "    def select_arm(self):\n",
    "        # Start playing each arm once\n",
    "        if self._total_tries < self.n_arms:\n",
    "            arm = self._total_tries\n",
    "        else: \n",
    "            ucb = self._params_a / (self._params_a + self._params_b) # Mean\n",
    "            ucb += self.c * beta.std(self._params_a, self._params_b) # Confidence Radius\n",
    "            arm = argmax(ucb)\n",
    "        arm = int(arm)\n",
    "        return arm"
   ]
  },
  {
   "cell_type": "code",
   "execution_count": 42,
   "id": "6c160868-e33d-455a-b6ab-014e81ab6daf",
   "metadata": {},
   "outputs": [],
   "source": [
    "agent = BayesUCB(n_arms=n_arms)"
   ]
  },
  {
   "cell_type": "code",
   "execution_count": 43,
   "id": "3d696820-9a43-4486-a6e3-5563dbd4b5a4",
   "metadata": {},
   "outputs": [],
   "source": [
    "total_reward = []\n",
    "T = 10000 # Total testing time\n",
    "for row in range(int(T)):\n",
    "    arm = agent.select_arm()\n",
    "    agent.add_observation(arm, environment.get_reward(arm))\n",
    "    total_reward.append(agent.successes.sum())"
   ]
  },
  {
   "cell_type": "code",
   "execution_count": 44,
   "id": "3332b49f-37f5-4d5d-9701-be41bb32004b",
   "metadata": {},
   "outputs": [
    {
     "data": {
      "text/plain": [
       "Text(0, 0.5, 'Total Reward')"
      ]
     },
     "execution_count": 44,
     "metadata": {},
     "output_type": "execute_result"
    },
    {
     "data": {
      "image/png": "[encoded data removed]",
      "text/plain": [
       "<Figure size 432x288 with 1 Axes>"
      ]
     },
     "metadata": {
      "needs_background": "light"
     },
     "output_type": "display_data"
    }
   ],
   "source": [
    "plt.plot(total_reward)\n",
    "plt.xlabel('Tries')\n",
    "plt.ylabel('Total Reward')"
   ]
  },
  {
   "cell_type": "code",
   "execution_count": 45,
   "id": "179b5c7a-fc94-40e8-a742-25a8bfe34340",
   "metadata": {},
   "outputs": [
    {
     "data": {
      "text/plain": [
       "293.0"
      ]
     },
     "execution_count": 45,
     "metadata": {},
     "output_type": "execute_result"
    }
   ],
   "source": [
    "total_reward[-1]"
   ]
  },
  {
   "cell_type": "code",
   "execution_count": 46,
   "id": "f6044976-1ce0-4df0-93db-585a248fe84a",
   "metadata": {},
   "outputs": [
    {
     "data": {
      "text/plain": [
       "<matplotlib.axes._subplots.AxesSubplot at 0x7f7c3f766150>"
      ]
     },
     "execution_count": 46,
     "metadata": {},
     "output_type": "execute_result"
    },
    {
     "data": {
      "image/png": "[encoded data removed]",
      "text/plain": [
       "<Figure size 432x288 with 1 Axes>"
      ]
     },
     "metadata": {
      "needs_background": "light"
     },
     "output_type": "display_data"
    }
   ],
   "source": [
    "pd.Series(agent.tries).plot.bar()"
   ]
  },
  {
   "cell_type": "markdown",
   "id": "d344a759-b76b-4987-ac1e-f90d6843a75b",
   "metadata": {},
   "source": [
    "# Thompson Sampling"
   ]
  },
  {
   "cell_type": "markdown",
   "id": "5f01614f-0b08-4677-bb48-ee6a7fa97980",
   "metadata": {},
   "source": [
    "Every arm is supposed to be a Beta distribution with parameters a = success, b = failures.\n",
    "\n",
    "At each step we sample from the Beta distributions of all arms and chose the arm with the largest sample."
   ]
  },
  {
   "cell_type": "code",
   "execution_count": 47,
   "id": "c2e038a1-c0d6-442c-b423-2e4da568b224",
   "metadata": {},
   "outputs": [],
   "source": [
    "from scipy.stats import beta\n",
    "\n",
    "class ThompsonSampling(Agent):\n",
    "    def __init__(self, n_arms, c=2):\n",
    "        \"\"\"\n",
    "        n_arms: int\n",
    "            Number of arms\n",
    "        c: float\n",
    "            Amount of standard deviations considered for the UCB\n",
    "        \"\"\"\n",
    "        super().__init__(n_arms)\n",
    "        self.c = c # Amount of standard deviations considered for ucb\n",
    "        self._params_a = np.ones(n_arms) # Params a of Beta\n",
    "        self._params_b = np.ones(n_arms) # Params b of Beta\n",
    "  \n",
    "    def add_observation(self, arm, reward):\n",
    "        \"\"\"\n",
    "        arm: int\n",
    "            Arm chosen in the observation\n",
    "        reward: bool\n",
    "            Reward obtained in the observation\n",
    "        \"\"\"\n",
    "        super().add_observation(arm,reward)\n",
    "        self._params_a[arm] += reward\n",
    "        self._params_b[arm] += 1 - reward\n",
    "    \n",
    "    def select_arm(self):\n",
    "        # Start playing each arm once\n",
    "        if self._total_tries < self.n_arms:\n",
    "            arm = self._total_tries\n",
    "        else:\n",
    "            # Sample from the beta distribution and chose the argmax\n",
    "            vec = beta(self._params_a, self._params_b).rvs()\n",
    "            arm = np.random.choice((vec == vec.max()).nonzero()[0])\n",
    "        arm = int(arm)\n",
    "        return arm"
   ]
  },
  {
   "cell_type": "code",
   "execution_count": 48,
   "id": "d2627f86-b74a-4cc6-bf61-5bef484bbf3f",
   "metadata": {},
   "outputs": [],
   "source": [
    "agent = ThompsonSampling(n_arms=n_arms)"
   ]
  },
  {
   "cell_type": "code",
   "execution_count": 49,
   "id": "ba051234-12ca-477a-bce6-07b35cb597b3",
   "metadata": {},
   "outputs": [],
   "source": [
    "total_reward = []\n",
    "T = 10000 # Total testing time\n",
    "for row in range(int(T)):\n",
    "    arm = agent.select_arm()\n",
    "    agent.add_observation(arm, environment.get_reward(arm))\n",
    "    total_reward.append(agent.successes.sum())"
   ]
  },
  {
   "cell_type": "code",
   "execution_count": 50,
   "id": "ada12272-b191-46d4-84ae-d78c0c5f34d9",
   "metadata": {},
   "outputs": [
    {
     "data": {
      "text/plain": [
       "Text(0, 0.5, 'Total Reward')"
      ]
     },
     "execution_count": 50,
     "metadata": {},
     "output_type": "execute_result"
    },
    {
     "data": {
      "image/png": "[encoded data removed]",
      "text/plain": [
       "<Figure size 432x288 with 1 Axes>"
      ]
     },
     "metadata": {
      "needs_background": "light"
     },
     "output_type": "display_data"
    }
   ],
   "source": [
    "plt.plot(total_reward)\n",
    "plt.xlabel('Tries')\n",
    "plt.ylabel('Total Reward')"
   ]
  },
  {
   "cell_type": "code",
   "execution_count": 51,
   "id": "546fb633-0320-4068-b5ce-7e143e7eaf7f",
   "metadata": {},
   "outputs": [
    {
     "data": {
      "text/plain": [
       "282.0"
      ]
     },
     "execution_count": 51,
     "metadata": {},
     "output_type": "execute_result"
    }
   ],
   "source": [
    "total_reward[-1]"
   ]
  },
  {
   "cell_type": "code",
   "execution_count": 52,
   "id": "dfcbe19c-ba3f-484c-8f99-653b3b88448e",
   "metadata": {},
   "outputs": [
    {
     "data": {
      "text/plain": [
       "<matplotlib.axes._subplots.AxesSubplot at 0x7f7c3f650650>"
      ]
     },
     "execution_count": 52,
     "metadata": {},
     "output_type": "execute_result"
    },
    {
     "data": {
      "image/png": "[encoded data removed]",
      "text/plain": [
       "<Figure size 432x288 with 1 Axes>"
      ]
     },
     "metadata": {
      "needs_background": "light"
     },
     "output_type": "display_data"
    }
   ],
   "source": [
    "pd.Series(agent.tries).plot.bar()"
   ]
  }
 ],
 "metadata": {
  "kernelspec": {
   "display_name": "sc-analysis",
   "language": "python",
   "name": "sc-analysis"
  },
  "language_info": {
   "codemirror_mode": {
    "name": "ipython",
    "version": 3
   },
   "file_extension": ".py",
   "mimetype": "text/x-python",
   "name": "python",
   "nbconvert_exporter": "python",
   "pygments_lexer": "ipython3",
   "version": "3.7.6"
  }
 },
 "nbformat": 4,
 "nbformat_minor": 5
}
