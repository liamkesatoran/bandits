{
 "cells": [
  {
   "cell_type": "markdown",
   "id": "3f622e95-f3f4-4b06-97d7-9e810c8f710f",
   "metadata": {
    "tags": []
   },
   "source": [
    "# Preliminary setup and data exploration"
   ]
  },
  {
   "cell_type": "code",
   "execution_count": 1,
   "id": "ba1caaa0-b1df-44e6-b319-a9513ae6375b",
   "metadata": {},
   "outputs": [],
   "source": [
    "import os\n",
    "\n",
    "os.chdir(\"..\")"
   ]
  },
  {
   "cell_type": "code",
   "execution_count": 2,
   "id": "5b24f880-f0b0-4276-b9c9-375fb766e075",
   "metadata": {},
   "outputs": [],
   "source": [
    "import pandas as pd\n",
    "import numpy as np\n",
    "import matplotlib.pyplot as plt\n",
    "import random\n",
    "\n",
    "random.seed(100)\n",
    "np.random.seed(100)"
   ]
  },
  {
   "cell_type": "code",
   "execution_count": 3,
   "id": "a33b86cb-eb72-4812-aca7-5b3489870351",
   "metadata": {},
   "outputs": [],
   "source": [
    "from src.agents import *"
   ]
  },
  {
   "cell_type": "code",
   "execution_count": 4,
   "id": "027a059d-a568-49f2-bd17-cc44bceb0576",
   "metadata": {},
   "outputs": [],
   "source": [
    "# data = pd.read_csv('data/10000dataset.csv') # easy\n",
    "data = pd.read_csv(\"data/yahoo_reduced_arms.csv\")  # harder\n",
    "\n",
    "# Reshuffle data\n",
    "data = data.sample(frac=1, random_state=100)\n",
    "data = data.reset_index()"
   ]
  },
  {
   "cell_type": "code",
   "execution_count": 5,
   "id": "a6ef25dd-0709-4986-a97d-21323a91a756",
   "metadata": {},
   "outputs": [],
   "source": [
    "features_columns = []"
   ]
  },
  {
   "cell_type": "code",
   "execution_count": 6,
   "id": "e6e73a64-eb9d-4edd-a880-fe5b356b1499",
   "metadata": {},
   "outputs": [],
   "source": [
    "n_features = 0\n",
    "for column in data.columns:\n",
    "    try:\n",
    "        _ = int(column)\n",
    "        features_columns.append(column)\n",
    "    except:\n",
    "        pass\n",
    "n_features = len(features_columns)"
   ]
  },
  {
   "cell_type": "code",
   "execution_count": 7,
   "id": "fbf94948-a9ce-45c1-ad25-a157cabd6282",
   "metadata": {},
   "outputs": [
    {
     "data": {
      "text/plain": [
       "22"
      ]
     },
     "execution_count": 7,
     "metadata": {},
     "output_type": "execute_result"
    }
   ],
   "source": [
    "# Number of arms\n",
    "n_arms = data[\"selected_arm\"].max() + 1\n",
    "n_arms = int(n_arms)\n",
    "n_arms"
   ]
  },
  {
   "cell_type": "code",
   "execution_count": 8,
   "id": "52a2facd-2663-48b7-8847-0bdbd8e2200e",
   "metadata": {},
   "outputs": [
    {
     "data": {
      "text/html": [
       "<div>\n",
       "<style scoped>\n",
       "    .dataframe tbody tr th:only-of-type {\n",
       "        vertical-align: middle;\n",
       "    }\n",
       "\n",
       "    .dataframe tbody tr th {\n",
       "        vertical-align: top;\n",
       "    }\n",
       "\n",
       "    .dataframe thead th {\n",
       "        text-align: right;\n",
       "    }\n",
       "</style>\n",
       "<table border=\"1\" class=\"dataframe\">\n",
       "  <thead>\n",
       "    <tr style=\"text-align: right;\">\n",
       "      <th></th>\n",
       "      <th>index</th>\n",
       "      <th>1</th>\n",
       "      <th>2</th>\n",
       "      <th>3</th>\n",
       "      <th>4</th>\n",
       "      <th>5</th>\n",
       "      <th>6</th>\n",
       "      <th>7</th>\n",
       "      <th>8</th>\n",
       "      <th>9</th>\n",
       "      <th>...</th>\n",
       "      <th>130</th>\n",
       "      <th>131</th>\n",
       "      <th>132</th>\n",
       "      <th>133</th>\n",
       "      <th>134</th>\n",
       "      <th>135</th>\n",
       "      <th>136</th>\n",
       "      <th>selected_arm</th>\n",
       "      <th>reward</th>\n",
       "      <th>probability</th>\n",
       "    </tr>\n",
       "  </thead>\n",
       "  <tbody>\n",
       "    <tr>\n",
       "      <th>0</th>\n",
       "      <td>6587</td>\n",
       "      <td>1</td>\n",
       "      <td>0</td>\n",
       "      <td>0</td>\n",
       "      <td>0</td>\n",
       "      <td>0</td>\n",
       "      <td>0</td>\n",
       "      <td>0</td>\n",
       "      <td>0</td>\n",
       "      <td>0</td>\n",
       "      <td>...</td>\n",
       "      <td>0</td>\n",
       "      <td>0</td>\n",
       "      <td>0</td>\n",
       "      <td>0</td>\n",
       "      <td>0</td>\n",
       "      <td>0</td>\n",
       "      <td>0</td>\n",
       "      <td>21</td>\n",
       "      <td>0</td>\n",
       "      <td>0.045455</td>\n",
       "    </tr>\n",
       "    <tr>\n",
       "      <th>1</th>\n",
       "      <td>28273</td>\n",
       "      <td>1</td>\n",
       "      <td>0</td>\n",
       "      <td>0</td>\n",
       "      <td>0</td>\n",
       "      <td>0</td>\n",
       "      <td>0</td>\n",
       "      <td>0</td>\n",
       "      <td>0</td>\n",
       "      <td>0</td>\n",
       "      <td>...</td>\n",
       "      <td>0</td>\n",
       "      <td>0</td>\n",
       "      <td>0</td>\n",
       "      <td>0</td>\n",
       "      <td>0</td>\n",
       "      <td>0</td>\n",
       "      <td>0</td>\n",
       "      <td>9</td>\n",
       "      <td>0</td>\n",
       "      <td>0.045455</td>\n",
       "    </tr>\n",
       "    <tr>\n",
       "      <th>2</th>\n",
       "      <td>39680</td>\n",
       "      <td>1</td>\n",
       "      <td>0</td>\n",
       "      <td>0</td>\n",
       "      <td>1</td>\n",
       "      <td>0</td>\n",
       "      <td>0</td>\n",
       "      <td>0</td>\n",
       "      <td>0</td>\n",
       "      <td>0</td>\n",
       "      <td>...</td>\n",
       "      <td>0</td>\n",
       "      <td>0</td>\n",
       "      <td>0</td>\n",
       "      <td>0</td>\n",
       "      <td>0</td>\n",
       "      <td>0</td>\n",
       "      <td>0</td>\n",
       "      <td>20</td>\n",
       "      <td>0</td>\n",
       "      <td>0.045455</td>\n",
       "    </tr>\n",
       "    <tr>\n",
       "      <th>3</th>\n",
       "      <td>35317</td>\n",
       "      <td>1</td>\n",
       "      <td>0</td>\n",
       "      <td>0</td>\n",
       "      <td>0</td>\n",
       "      <td>0</td>\n",
       "      <td>0</td>\n",
       "      <td>0</td>\n",
       "      <td>0</td>\n",
       "      <td>0</td>\n",
       "      <td>...</td>\n",
       "      <td>0</td>\n",
       "      <td>0</td>\n",
       "      <td>0</td>\n",
       "      <td>0</td>\n",
       "      <td>0</td>\n",
       "      <td>0</td>\n",
       "      <td>0</td>\n",
       "      <td>17</td>\n",
       "      <td>0</td>\n",
       "      <td>0.045455</td>\n",
       "    </tr>\n",
       "    <tr>\n",
       "      <th>4</th>\n",
       "      <td>35601</td>\n",
       "      <td>1</td>\n",
       "      <td>0</td>\n",
       "      <td>0</td>\n",
       "      <td>0</td>\n",
       "      <td>0</td>\n",
       "      <td>0</td>\n",
       "      <td>1</td>\n",
       "      <td>0</td>\n",
       "      <td>0</td>\n",
       "      <td>...</td>\n",
       "      <td>0</td>\n",
       "      <td>0</td>\n",
       "      <td>0</td>\n",
       "      <td>0</td>\n",
       "      <td>0</td>\n",
       "      <td>0</td>\n",
       "      <td>0</td>\n",
       "      <td>8</td>\n",
       "      <td>0</td>\n",
       "      <td>0.045455</td>\n",
       "    </tr>\n",
       "    <tr>\n",
       "      <th>...</th>\n",
       "      <td>...</td>\n",
       "      <td>...</td>\n",
       "      <td>...</td>\n",
       "      <td>...</td>\n",
       "      <td>...</td>\n",
       "      <td>...</td>\n",
       "      <td>...</td>\n",
       "      <td>...</td>\n",
       "      <td>...</td>\n",
       "      <td>...</td>\n",
       "      <td>...</td>\n",
       "      <td>...</td>\n",
       "      <td>...</td>\n",
       "      <td>...</td>\n",
       "      <td>...</td>\n",
       "      <td>...</td>\n",
       "      <td>...</td>\n",
       "      <td>...</td>\n",
       "      <td>...</td>\n",
       "      <td>...</td>\n",
       "      <td>...</td>\n",
       "    </tr>\n",
       "    <tr>\n",
       "      <th>45786</th>\n",
       "      <td>16304</td>\n",
       "      <td>1</td>\n",
       "      <td>0</td>\n",
       "      <td>0</td>\n",
       "      <td>0</td>\n",
       "      <td>1</td>\n",
       "      <td>0</td>\n",
       "      <td>0</td>\n",
       "      <td>0</td>\n",
       "      <td>0</td>\n",
       "      <td>...</td>\n",
       "      <td>0</td>\n",
       "      <td>0</td>\n",
       "      <td>0</td>\n",
       "      <td>0</td>\n",
       "      <td>0</td>\n",
       "      <td>0</td>\n",
       "      <td>0</td>\n",
       "      <td>20</td>\n",
       "      <td>0</td>\n",
       "      <td>0.045455</td>\n",
       "    </tr>\n",
       "    <tr>\n",
       "      <th>45787</th>\n",
       "      <td>79</td>\n",
       "      <td>1</td>\n",
       "      <td>0</td>\n",
       "      <td>0</td>\n",
       "      <td>0</td>\n",
       "      <td>0</td>\n",
       "      <td>0</td>\n",
       "      <td>0</td>\n",
       "      <td>0</td>\n",
       "      <td>0</td>\n",
       "      <td>...</td>\n",
       "      <td>0</td>\n",
       "      <td>0</td>\n",
       "      <td>0</td>\n",
       "      <td>0</td>\n",
       "      <td>0</td>\n",
       "      <td>0</td>\n",
       "      <td>0</td>\n",
       "      <td>18</td>\n",
       "      <td>0</td>\n",
       "      <td>0.045455</td>\n",
       "    </tr>\n",
       "    <tr>\n",
       "      <th>45788</th>\n",
       "      <td>12119</td>\n",
       "      <td>1</td>\n",
       "      <td>0</td>\n",
       "      <td>0</td>\n",
       "      <td>0</td>\n",
       "      <td>0</td>\n",
       "      <td>1</td>\n",
       "      <td>0</td>\n",
       "      <td>0</td>\n",
       "      <td>0</td>\n",
       "      <td>...</td>\n",
       "      <td>0</td>\n",
       "      <td>0</td>\n",
       "      <td>0</td>\n",
       "      <td>0</td>\n",
       "      <td>0</td>\n",
       "      <td>0</td>\n",
       "      <td>0</td>\n",
       "      <td>13</td>\n",
       "      <td>0</td>\n",
       "      <td>0.045455</td>\n",
       "    </tr>\n",
       "    <tr>\n",
       "      <th>45789</th>\n",
       "      <td>14147</td>\n",
       "      <td>1</td>\n",
       "      <td>0</td>\n",
       "      <td>0</td>\n",
       "      <td>0</td>\n",
       "      <td>0</td>\n",
       "      <td>0</td>\n",
       "      <td>0</td>\n",
       "      <td>0</td>\n",
       "      <td>0</td>\n",
       "      <td>...</td>\n",
       "      <td>0</td>\n",
       "      <td>0</td>\n",
       "      <td>0</td>\n",
       "      <td>0</td>\n",
       "      <td>0</td>\n",
       "      <td>0</td>\n",
       "      <td>0</td>\n",
       "      <td>10</td>\n",
       "      <td>0</td>\n",
       "      <td>0.045455</td>\n",
       "    </tr>\n",
       "    <tr>\n",
       "      <th>45790</th>\n",
       "      <td>38408</td>\n",
       "      <td>1</td>\n",
       "      <td>0</td>\n",
       "      <td>0</td>\n",
       "      <td>0</td>\n",
       "      <td>0</td>\n",
       "      <td>0</td>\n",
       "      <td>0</td>\n",
       "      <td>0</td>\n",
       "      <td>0</td>\n",
       "      <td>...</td>\n",
       "      <td>0</td>\n",
       "      <td>0</td>\n",
       "      <td>0</td>\n",
       "      <td>0</td>\n",
       "      <td>0</td>\n",
       "      <td>0</td>\n",
       "      <td>0</td>\n",
       "      <td>0</td>\n",
       "      <td>0</td>\n",
       "      <td>0.045455</td>\n",
       "    </tr>\n",
       "  </tbody>\n",
       "</table>\n",
       "<p>45791 rows × 140 columns</p>\n",
       "</div>"
      ],
      "text/plain": [
       "       index  1  2  3  4  5  6  7  8  9  ...  130  131  132  133  134  135  \\\n",
       "0       6587  1  0  0  0  0  0  0  0  0  ...    0    0    0    0    0    0   \n",
       "1      28273  1  0  0  0  0  0  0  0  0  ...    0    0    0    0    0    0   \n",
       "2      39680  1  0  0  1  0  0  0  0  0  ...    0    0    0    0    0    0   \n",
       "3      35317  1  0  0  0  0  0  0  0  0  ...    0    0    0    0    0    0   \n",
       "4      35601  1  0  0  0  0  0  1  0  0  ...    0    0    0    0    0    0   \n",
       "...      ... .. .. .. .. .. .. .. .. ..  ...  ...  ...  ...  ...  ...  ...   \n",
       "45786  16304  1  0  0  0  1  0  0  0  0  ...    0    0    0    0    0    0   \n",
       "45787     79  1  0  0  0  0  0  0  0  0  ...    0    0    0    0    0    0   \n",
       "45788  12119  1  0  0  0  0  1  0  0  0  ...    0    0    0    0    0    0   \n",
       "45789  14147  1  0  0  0  0  0  0  0  0  ...    0    0    0    0    0    0   \n",
       "45790  38408  1  0  0  0  0  0  0  0  0  ...    0    0    0    0    0    0   \n",
       "\n",
       "       136  selected_arm  reward  probability  \n",
       "0        0            21       0     0.045455  \n",
       "1        0             9       0     0.045455  \n",
       "2        0            20       0     0.045455  \n",
       "3        0            17       0     0.045455  \n",
       "4        0             8       0     0.045455  \n",
       "...    ...           ...     ...          ...  \n",
       "45786    0            20       0     0.045455  \n",
       "45787    0            18       0     0.045455  \n",
       "45788    0            13       0     0.045455  \n",
       "45789    0            10       0     0.045455  \n",
       "45790    0             0       0     0.045455  \n",
       "\n",
       "[45791 rows x 140 columns]"
      ]
     },
     "execution_count": 8,
     "metadata": {},
     "output_type": "execute_result"
    }
   ],
   "source": [
    "data"
   ]
  },
  {
   "cell_type": "code",
   "execution_count": 9,
   "id": "9989fbe4-cce7-4999-b284-a194e53639dc",
   "metadata": {},
   "outputs": [
    {
     "data": {
      "text/html": [
       "<div>\n",
       "<style scoped>\n",
       "    .dataframe tbody tr th:only-of-type {\n",
       "        vertical-align: middle;\n",
       "    }\n",
       "\n",
       "    .dataframe tbody tr th {\n",
       "        vertical-align: top;\n",
       "    }\n",
       "\n",
       "    .dataframe thead th {\n",
       "        text-align: right;\n",
       "    }\n",
       "</style>\n",
       "<table border=\"1\" class=\"dataframe\">\n",
       "  <thead>\n",
       "    <tr style=\"text-align: right;\">\n",
       "      <th></th>\n",
       "      <th>index</th>\n",
       "      <th>1</th>\n",
       "      <th>2</th>\n",
       "      <th>3</th>\n",
       "      <th>4</th>\n",
       "      <th>5</th>\n",
       "      <th>6</th>\n",
       "      <th>7</th>\n",
       "      <th>8</th>\n",
       "      <th>9</th>\n",
       "      <th>...</th>\n",
       "      <th>130</th>\n",
       "      <th>131</th>\n",
       "      <th>132</th>\n",
       "      <th>133</th>\n",
       "      <th>134</th>\n",
       "      <th>135</th>\n",
       "      <th>136</th>\n",
       "      <th>selected_arm</th>\n",
       "      <th>reward</th>\n",
       "      <th>probability</th>\n",
       "    </tr>\n",
       "  </thead>\n",
       "  <tbody>\n",
       "    <tr>\n",
       "      <th>6587</th>\n",
       "      <td>28252</td>\n",
       "      <td>1</td>\n",
       "      <td>0</td>\n",
       "      <td>0</td>\n",
       "      <td>0</td>\n",
       "      <td>0</td>\n",
       "      <td>0</td>\n",
       "      <td>0</td>\n",
       "      <td>0</td>\n",
       "      <td>0</td>\n",
       "      <td>...</td>\n",
       "      <td>0</td>\n",
       "      <td>0</td>\n",
       "      <td>0</td>\n",
       "      <td>0</td>\n",
       "      <td>0</td>\n",
       "      <td>0</td>\n",
       "      <td>0</td>\n",
       "      <td>18</td>\n",
       "      <td>0</td>\n",
       "      <td>0.045455</td>\n",
       "    </tr>\n",
       "    <tr>\n",
       "      <th>28273</th>\n",
       "      <td>22553</td>\n",
       "      <td>1</td>\n",
       "      <td>0</td>\n",
       "      <td>0</td>\n",
       "      <td>0</td>\n",
       "      <td>0</td>\n",
       "      <td>0</td>\n",
       "      <td>0</td>\n",
       "      <td>0</td>\n",
       "      <td>0</td>\n",
       "      <td>...</td>\n",
       "      <td>0</td>\n",
       "      <td>0</td>\n",
       "      <td>0</td>\n",
       "      <td>0</td>\n",
       "      <td>0</td>\n",
       "      <td>0</td>\n",
       "      <td>0</td>\n",
       "      <td>4</td>\n",
       "      <td>0</td>\n",
       "      <td>0.045455</td>\n",
       "    </tr>\n",
       "    <tr>\n",
       "      <th>39680</th>\n",
       "      <td>45324</td>\n",
       "      <td>1</td>\n",
       "      <td>0</td>\n",
       "      <td>0</td>\n",
       "      <td>0</td>\n",
       "      <td>0</td>\n",
       "      <td>0</td>\n",
       "      <td>0</td>\n",
       "      <td>0</td>\n",
       "      <td>0</td>\n",
       "      <td>...</td>\n",
       "      <td>0</td>\n",
       "      <td>0</td>\n",
       "      <td>0</td>\n",
       "      <td>0</td>\n",
       "      <td>0</td>\n",
       "      <td>0</td>\n",
       "      <td>0</td>\n",
       "      <td>7</td>\n",
       "      <td>0</td>\n",
       "      <td>0.045455</td>\n",
       "    </tr>\n",
       "    <tr>\n",
       "      <th>35317</th>\n",
       "      <td>2154</td>\n",
       "      <td>1</td>\n",
       "      <td>0</td>\n",
       "      <td>0</td>\n",
       "      <td>0</td>\n",
       "      <td>0</td>\n",
       "      <td>0</td>\n",
       "      <td>0</td>\n",
       "      <td>1</td>\n",
       "      <td>0</td>\n",
       "      <td>...</td>\n",
       "      <td>0</td>\n",
       "      <td>0</td>\n",
       "      <td>0</td>\n",
       "      <td>0</td>\n",
       "      <td>0</td>\n",
       "      <td>0</td>\n",
       "      <td>0</td>\n",
       "      <td>19</td>\n",
       "      <td>0</td>\n",
       "      <td>0.045455</td>\n",
       "    </tr>\n",
       "    <tr>\n",
       "      <th>35601</th>\n",
       "      <td>37921</td>\n",
       "      <td>1</td>\n",
       "      <td>0</td>\n",
       "      <td>0</td>\n",
       "      <td>0</td>\n",
       "      <td>0</td>\n",
       "      <td>0</td>\n",
       "      <td>0</td>\n",
       "      <td>0</td>\n",
       "      <td>0</td>\n",
       "      <td>...</td>\n",
       "      <td>0</td>\n",
       "      <td>0</td>\n",
       "      <td>0</td>\n",
       "      <td>0</td>\n",
       "      <td>0</td>\n",
       "      <td>0</td>\n",
       "      <td>0</td>\n",
       "      <td>3</td>\n",
       "      <td>0</td>\n",
       "      <td>0.045455</td>\n",
       "    </tr>\n",
       "  </tbody>\n",
       "</table>\n",
       "<p>5 rows × 140 columns</p>\n",
       "</div>"
      ],
      "text/plain": [
       "       index  1  2  3  4  5  6  7  8  9  ...  130  131  132  133  134  135  \\\n",
       "6587   28252  1  0  0  0  0  0  0  0  0  ...    0    0    0    0    0    0   \n",
       "28273  22553  1  0  0  0  0  0  0  0  0  ...    0    0    0    0    0    0   \n",
       "39680  45324  1  0  0  0  0  0  0  0  0  ...    0    0    0    0    0    0   \n",
       "35317   2154  1  0  0  0  0  0  0  1  0  ...    0    0    0    0    0    0   \n",
       "35601  37921  1  0  0  0  0  0  0  0  0  ...    0    0    0    0    0    0   \n",
       "\n",
       "       136  selected_arm  reward  probability  \n",
       "6587     0            18       0     0.045455  \n",
       "28273    0             4       0     0.045455  \n",
       "39680    0             7       0     0.045455  \n",
       "35317    0            19       0     0.045455  \n",
       "35601    0             3       0     0.045455  \n",
       "\n",
       "[5 rows x 140 columns]"
      ]
     },
     "execution_count": 9,
     "metadata": {},
     "output_type": "execute_result"
    }
   ],
   "source": [
    "data.sample(n=5, random_state=100)"
   ]
  },
  {
   "cell_type": "code",
   "execution_count": 10,
   "id": "af8cc4f7-85c0-4f83-a178-aeeda1b0a866",
   "metadata": {},
   "outputs": [
    {
     "data": {
      "text/plain": [
       "(45791, 140)"
      ]
     },
     "execution_count": 10,
     "metadata": {},
     "output_type": "execute_result"
    }
   ],
   "source": [
    "data.shape"
   ]
  },
  {
   "cell_type": "markdown",
   "id": "608afe25-a547-463f-879a-69efdcacb06f",
   "metadata": {},
   "source": [
    "There are 22 different arms. They seem to have been chosen uniformly randomly:"
   ]
  },
  {
   "cell_type": "code",
   "execution_count": 11,
   "id": "36464977-d692-4daf-bfb9-7b832c0e0d17",
   "metadata": {},
   "outputs": [
    {
     "data": {
      "text/plain": [
       "count    45791.000000\n",
       "mean        10.420825\n",
       "std          6.357193\n",
       "min          0.000000\n",
       "25%          5.000000\n",
       "50%         10.000000\n",
       "75%         16.000000\n",
       "max         21.000000\n",
       "Name: selected_arm, dtype: float64"
      ]
     },
     "execution_count": 11,
     "metadata": {},
     "output_type": "execute_result"
    }
   ],
   "source": [
    "data[\"selected_arm\"].describe()"
   ]
  },
  {
   "cell_type": "code",
   "execution_count": 12,
   "id": "12aa7963-558a-4079-a3b1-b3e7b1f64036",
   "metadata": {},
   "outputs": [
    {
     "data": {
      "image/png": "[encoded data removed]",
      "text/plain": [
       "<Figure size 432x288 with 1 Axes>"
      ]
     },
     "metadata": {
      "needs_background": "light"
     },
     "output_type": "display_data"
    }
   ],
   "source": [
    "data[\"selected_arm\"].value_counts().sort_index().plot(kind=\"bar\")\n",
    "plt.xlabel(\"Selected Arm\")\n",
    "plt.ylabel(\"Count\")\n",
    "plt.show()"
   ]
  },
  {
   "cell_type": "markdown",
   "id": "b10df9d8-2854-474a-bc43-7772e2033dbd",
   "metadata": {},
   "source": [
    "The reward is a Bernoulli distribution:"
   ]
  },
  {
   "cell_type": "code",
   "execution_count": 13,
   "id": "cedc1f7e-8c7f-4aa1-8c93-5635185343c2",
   "metadata": {},
   "outputs": [
    {
     "data": {
      "text/plain": [
       "count    45791.000000\n",
       "mean         0.019109\n",
       "std          0.136908\n",
       "min          0.000000\n",
       "25%          0.000000\n",
       "50%          0.000000\n",
       "75%          0.000000\n",
       "max          1.000000\n",
       "Name: reward, dtype: float64"
      ]
     },
     "execution_count": 13,
     "metadata": {},
     "output_type": "execute_result"
    }
   ],
   "source": [
    "data[\"reward\"].describe()"
   ]
  },
  {
   "cell_type": "markdown",
   "id": "f1507f39-61e9-4f24-b365-cecf3f7cd562",
   "metadata": {},
   "source": [
    "The reward expectancy depends on the arm chosen:"
   ]
  },
  {
   "cell_type": "code",
   "execution_count": 14,
   "id": "55947227-85f0-4bf0-beea-f7a362d05597",
   "metadata": {},
   "outputs": [
    {
     "data": {
      "text/plain": [
       "Text(0.5, 0, 'Selected Arm')"
      ]
     },
     "execution_count": 14,
     "metadata": {},
     "output_type": "execute_result"
    },
    {
     "data": {
      "image/png": "[encoded data removed]",
      "text/plain": [
       "<Figure size 432x288 with 1 Axes>"
      ]
     },
     "metadata": {
      "needs_background": "light"
     },
     "output_type": "display_data"
    }
   ],
   "source": [
    "expected_reward = (\n",
    "    data.groupby(\"selected_arm\")\n",
    "    .agg({\"reward\": \"mean\"})\n",
    "    .rename({\"reward\": \"expected_reward\"}, axis=1)\n",
    ")\n",
    "expected_reward.plot(kind=\"bar\")\n",
    "plt.ylabel(\"Average reward\")\n",
    "plt.xlabel(\"Selected Arm\")"
   ]
  },
  {
   "cell_type": "code",
   "execution_count": 15,
   "id": "6964771f-9c72-41c7-ac17-7f098c4563ab",
   "metadata": {},
   "outputs": [
    {
     "data": {
      "text/html": [
       "<div>\n",
       "<style scoped>\n",
       "    .dataframe tbody tr th:only-of-type {\n",
       "        vertical-align: middle;\n",
       "    }\n",
       "\n",
       "    .dataframe tbody tr th {\n",
       "        vertical-align: top;\n",
       "    }\n",
       "\n",
       "    .dataframe thead th {\n",
       "        text-align: right;\n",
       "    }\n",
       "</style>\n",
       "<table border=\"1\" class=\"dataframe\">\n",
       "  <thead>\n",
       "    <tr style=\"text-align: right;\">\n",
       "      <th></th>\n",
       "      <th>reward</th>\n",
       "    </tr>\n",
       "    <tr>\n",
       "      <th>selected_arm</th>\n",
       "      <th></th>\n",
       "    </tr>\n",
       "  </thead>\n",
       "  <tbody>\n",
       "    <tr>\n",
       "      <th>17</th>\n",
       "      <td>0.039012</td>\n",
       "    </tr>\n",
       "    <tr>\n",
       "      <th>8</th>\n",
       "      <td>0.031832</td>\n",
       "    </tr>\n",
       "    <tr>\n",
       "      <th>16</th>\n",
       "      <td>0.029006</td>\n",
       "    </tr>\n",
       "    <tr>\n",
       "      <th>12</th>\n",
       "      <td>0.028658</td>\n",
       "    </tr>\n",
       "    <tr>\n",
       "      <th>14</th>\n",
       "      <td>0.028169</td>\n",
       "    </tr>\n",
       "    <tr>\n",
       "      <th>5</th>\n",
       "      <td>0.027518</td>\n",
       "    </tr>\n",
       "    <tr>\n",
       "      <th>7</th>\n",
       "      <td>0.026450</td>\n",
       "    </tr>\n",
       "    <tr>\n",
       "      <th>13</th>\n",
       "      <td>0.021164</td>\n",
       "    </tr>\n",
       "    <tr>\n",
       "      <th>18</th>\n",
       "      <td>0.019222</td>\n",
       "    </tr>\n",
       "    <tr>\n",
       "      <th>15</th>\n",
       "      <td>0.017630</td>\n",
       "    </tr>\n",
       "    <tr>\n",
       "      <th>6</th>\n",
       "      <td>0.017073</td>\n",
       "    </tr>\n",
       "    <tr>\n",
       "      <th>3</th>\n",
       "      <td>0.016224</td>\n",
       "    </tr>\n",
       "    <tr>\n",
       "      <th>0</th>\n",
       "      <td>0.016166</td>\n",
       "    </tr>\n",
       "    <tr>\n",
       "      <th>11</th>\n",
       "      <td>0.016160</td>\n",
       "    </tr>\n",
       "    <tr>\n",
       "      <th>20</th>\n",
       "      <td>0.016027</td>\n",
       "    </tr>\n",
       "    <tr>\n",
       "      <th>21</th>\n",
       "      <td>0.014764</td>\n",
       "    </tr>\n",
       "    <tr>\n",
       "      <th>19</th>\n",
       "      <td>0.013261</td>\n",
       "    </tr>\n",
       "    <tr>\n",
       "      <th>10</th>\n",
       "      <td>0.010304</td>\n",
       "    </tr>\n",
       "    <tr>\n",
       "      <th>1</th>\n",
       "      <td>0.009758</td>\n",
       "    </tr>\n",
       "    <tr>\n",
       "      <th>9</th>\n",
       "      <td>0.008449</td>\n",
       "    </tr>\n",
       "    <tr>\n",
       "      <th>2</th>\n",
       "      <td>0.008357</td>\n",
       "    </tr>\n",
       "    <tr>\n",
       "      <th>4</th>\n",
       "      <td>0.006890</td>\n",
       "    </tr>\n",
       "  </tbody>\n",
       "</table>\n",
       "</div>"
      ],
      "text/plain": [
       "                reward\n",
       "selected_arm          \n",
       "17            0.039012\n",
       "8             0.031832\n",
       "16            0.029006\n",
       "12            0.028658\n",
       "14            0.028169\n",
       "5             0.027518\n",
       "7             0.026450\n",
       "13            0.021164\n",
       "18            0.019222\n",
       "15            0.017630\n",
       "6             0.017073\n",
       "3             0.016224\n",
       "0             0.016166\n",
       "11            0.016160\n",
       "20            0.016027\n",
       "21            0.014764\n",
       "19            0.013261\n",
       "10            0.010304\n",
       "1             0.009758\n",
       "9             0.008449\n",
       "2             0.008357\n",
       "4             0.006890"
      ]
     },
     "execution_count": 15,
     "metadata": {},
     "output_type": "execute_result"
    }
   ],
   "source": [
    "data.groupby(\"selected_arm\").agg({\"reward\": \"mean\"}).sort_values(\n",
    "    \"reward\", ascending=False\n",
    ")"
   ]
  },
  {
   "cell_type": "markdown",
   "id": "09b75653-0391-41dd-adae-282d4c3686bc",
   "metadata": {},
   "source": [
    "All 136 features are bernoulli"
   ]
  },
  {
   "cell_type": "markdown",
   "id": "bec728dd-03d1-4d83-8567-890a40b11bc2",
   "metadata": {
    "tags": []
   },
   "source": [
    "# Using PCA to lower the number of dimensions"
   ]
  },
  {
   "cell_type": "code",
   "execution_count": 16,
   "id": "77427fda-f231-44e0-8cf2-6e2374c5e4b3",
   "metadata": {},
   "outputs": [],
   "source": [
    "n_pca = 4\n",
    "\n",
    "from sklearn import decomposition\n",
    "\n",
    "pca = decomposition.PCA(n_components=4)\n",
    "X = pca.fit_transform(data[features_columns])\n",
    "\n",
    "data = pd.concat([pd.DataFrame(X), data[[\"selected_arm\", \"reward\"]]], axis=1)\n",
    "n_features = n_pca\n",
    "features_columns = range(n_pca)"
   ]
  },
  {
   "cell_type": "code",
   "execution_count": 17,
   "id": "8442bece-bc50-4e1b-a973-8aa863c84d76",
   "metadata": {},
   "outputs": [
    {
     "data": {
      "text/html": [
       "<div>\n",
       "<style scoped>\n",
       "    .dataframe tbody tr th:only-of-type {\n",
       "        vertical-align: middle;\n",
       "    }\n",
       "\n",
       "    .dataframe tbody tr th {\n",
       "        vertical-align: top;\n",
       "    }\n",
       "\n",
       "    .dataframe thead th {\n",
       "        text-align: right;\n",
       "    }\n",
       "</style>\n",
       "<table border=\"1\" class=\"dataframe\">\n",
       "  <thead>\n",
       "    <tr style=\"text-align: right;\">\n",
       "      <th></th>\n",
       "      <th>0</th>\n",
       "      <th>1</th>\n",
       "      <th>2</th>\n",
       "      <th>3</th>\n",
       "      <th>selected_arm</th>\n",
       "      <th>reward</th>\n",
       "    </tr>\n",
       "  </thead>\n",
       "  <tbody>\n",
       "    <tr>\n",
       "      <th>0</th>\n",
       "      <td>-0.760240</td>\n",
       "      <td>0.525906</td>\n",
       "      <td>-0.034591</td>\n",
       "      <td>-0.121774</td>\n",
       "      <td>21</td>\n",
       "      <td>0</td>\n",
       "    </tr>\n",
       "    <tr>\n",
       "      <th>1</th>\n",
       "      <td>-0.853298</td>\n",
       "      <td>0.362416</td>\n",
       "      <td>0.740505</td>\n",
       "      <td>-0.057254</td>\n",
       "      <td>9</td>\n",
       "      <td>0</td>\n",
       "    </tr>\n",
       "    <tr>\n",
       "      <th>2</th>\n",
       "      <td>-0.201052</td>\n",
       "      <td>0.116955</td>\n",
       "      <td>-0.795137</td>\n",
       "      <td>-0.724772</td>\n",
       "      <td>20</td>\n",
       "      <td>0</td>\n",
       "    </tr>\n",
       "    <tr>\n",
       "      <th>3</th>\n",
       "      <td>-0.182461</td>\n",
       "      <td>-0.728446</td>\n",
       "      <td>-0.233059</td>\n",
       "      <td>-0.077767</td>\n",
       "      <td>17</td>\n",
       "      <td>0</td>\n",
       "    </tr>\n",
       "    <tr>\n",
       "      <th>4</th>\n",
       "      <td>-0.437755</td>\n",
       "      <td>0.837091</td>\n",
       "      <td>-0.761695</td>\n",
       "      <td>0.697332</td>\n",
       "      <td>8</td>\n",
       "      <td>0</td>\n",
       "    </tr>\n",
       "    <tr>\n",
       "      <th>...</th>\n",
       "      <td>...</td>\n",
       "      <td>...</td>\n",
       "      <td>...</td>\n",
       "      <td>...</td>\n",
       "      <td>...</td>\n",
       "      <td>...</td>\n",
       "    </tr>\n",
       "    <tr>\n",
       "      <th>45786</th>\n",
       "      <td>0.120877</td>\n",
       "      <td>-0.467143</td>\n",
       "      <td>-0.921093</td>\n",
       "      <td>-0.709538</td>\n",
       "      <td>20</td>\n",
       "      <td>0</td>\n",
       "    </tr>\n",
       "    <tr>\n",
       "      <th>45787</th>\n",
       "      <td>-0.863846</td>\n",
       "      <td>0.421639</td>\n",
       "      <td>0.821669</td>\n",
       "      <td>-0.029096</td>\n",
       "      <td>18</td>\n",
       "      <td>0</td>\n",
       "    </tr>\n",
       "    <tr>\n",
       "      <th>45788</th>\n",
       "      <td>-0.472801</td>\n",
       "      <td>0.798550</td>\n",
       "      <td>-0.697368</td>\n",
       "      <td>0.631495</td>\n",
       "      <td>13</td>\n",
       "      <td>0</td>\n",
       "    </tr>\n",
       "    <tr>\n",
       "      <th>45789</th>\n",
       "      <td>3.074265</td>\n",
       "      <td>0.516652</td>\n",
       "      <td>1.220113</td>\n",
       "      <td>-0.121016</td>\n",
       "      <td>10</td>\n",
       "      <td>0</td>\n",
       "    </tr>\n",
       "    <tr>\n",
       "      <th>45790</th>\n",
       "      <td>0.238512</td>\n",
       "      <td>-0.672761</td>\n",
       "      <td>0.235916</td>\n",
       "      <td>-0.089705</td>\n",
       "      <td>0</td>\n",
       "      <td>0</td>\n",
       "    </tr>\n",
       "  </tbody>\n",
       "</table>\n",
       "<p>45791 rows × 6 columns</p>\n",
       "</div>"
      ],
      "text/plain": [
       "              0         1         2         3  selected_arm  reward\n",
       "0     -0.760240  0.525906 -0.034591 -0.121774            21       0\n",
       "1     -0.853298  0.362416  0.740505 -0.057254             9       0\n",
       "2     -0.201052  0.116955 -0.795137 -0.724772            20       0\n",
       "3     -0.182461 -0.728446 -0.233059 -0.077767            17       0\n",
       "4     -0.437755  0.837091 -0.761695  0.697332             8       0\n",
       "...         ...       ...       ...       ...           ...     ...\n",
       "45786  0.120877 -0.467143 -0.921093 -0.709538            20       0\n",
       "45787 -0.863846  0.421639  0.821669 -0.029096            18       0\n",
       "45788 -0.472801  0.798550 -0.697368  0.631495            13       0\n",
       "45789  3.074265  0.516652  1.220113 -0.121016            10       0\n",
       "45790  0.238512 -0.672761  0.235916 -0.089705             0       0\n",
       "\n",
       "[45791 rows x 6 columns]"
      ]
     },
     "execution_count": 17,
     "metadata": {},
     "output_type": "execute_result"
    }
   ],
   "source": [
    "data"
   ]
  },
  {
   "cell_type": "code",
   "execution_count": 18,
   "id": "5486ec1e-f42a-4a8e-91d8-ef12264eef84",
   "metadata": {},
   "outputs": [],
   "source": [
    "# plt.scatter(data[0], data[1])"
   ]
  },
  {
   "cell_type": "markdown",
   "id": "7a67b898-b6bc-4ddd-9910-f4a6c0b444dc",
   "metadata": {},
   "source": [
    "# Defining a base Agent other will be based upon"
   ]
  },
  {
   "cell_type": "markdown",
   "id": "69430b34-8455-42bd-9c52-f8ce955af3e3",
   "metadata": {},
   "source": [
    "These are the basic properties of a multi-armed bandit."
   ]
  },
  {
   "cell_type": "code",
   "execution_count": 19,
   "id": "049a5bd9-ace1-4974-9f0f-545d1ef93013",
   "metadata": {},
   "outputs": [
    {
     "data": {
      "text/plain": [
       "\u001b[0;31mInit signature:\u001b[0m \u001b[0mAgent\u001b[0m\u001b[0;34m(\u001b[0m\u001b[0mn_arms\u001b[0m\u001b[0;34m)\u001b[0m\u001b[0;34m\u001b[0m\u001b[0;34m\u001b[0m\u001b[0m\n",
       "\u001b[0;31mSource:\u001b[0m        \n",
       "\u001b[0;32mclass\u001b[0m \u001b[0mAgent\u001b[0m\u001b[0;34m(\u001b[0m\u001b[0;34m)\u001b[0m\u001b[0;34m:\u001b[0m\u001b[0;34m\u001b[0m\n",
       "\u001b[0;34m\u001b[0m    \u001b[0;34m\"\"\"Base properties of all multi-armed bandits.\"\"\"\u001b[0m\u001b[0;34m\u001b[0m\n",
       "\u001b[0;34m\u001b[0m    \u001b[0;32mdef\u001b[0m \u001b[0m__init__\u001b[0m\u001b[0;34m(\u001b[0m\u001b[0mself\u001b[0m\u001b[0;34m,\u001b[0m \u001b[0mn_arms\u001b[0m\u001b[0;34m)\u001b[0m\u001b[0;34m:\u001b[0m\u001b[0;34m\u001b[0m\n",
       "\u001b[0;34m\u001b[0m        \u001b[0;34m\"\"\"\u001b[0m\n",
       "\u001b[0;34m        n_arms: int\u001b[0m\n",
       "\u001b[0;34m            Number of arms\u001b[0m\n",
       "\u001b[0;34m        \"\"\"\u001b[0m\u001b[0;34m\u001b[0m\n",
       "\u001b[0;34m\u001b[0m        \u001b[0mself\u001b[0m\u001b[0;34m.\u001b[0m\u001b[0mn_arms\u001b[0m \u001b[0;34m=\u001b[0m \u001b[0mn_arms\u001b[0m\u001b[0;34m\u001b[0m\n",
       "\u001b[0;34m\u001b[0m        \u001b[0mself\u001b[0m\u001b[0;34m.\u001b[0m\u001b[0mtries\u001b[0m \u001b[0;34m=\u001b[0m \u001b[0mnp\u001b[0m\u001b[0;34m.\u001b[0m\u001b[0mzeros\u001b[0m\u001b[0;34m(\u001b[0m\u001b[0mn_arms\u001b[0m\u001b[0;34m)\u001b[0m\u001b[0;34m\u001b[0m\n",
       "\u001b[0;34m\u001b[0m        \u001b[0mself\u001b[0m\u001b[0;34m.\u001b[0m\u001b[0msuccesses\u001b[0m \u001b[0;34m=\u001b[0m \u001b[0mnp\u001b[0m\u001b[0;34m.\u001b[0m\u001b[0mzeros\u001b[0m\u001b[0;34m(\u001b[0m\u001b[0mn_arms\u001b[0m\u001b[0;34m)\u001b[0m\u001b[0;34m\u001b[0m\n",
       "\u001b[0;34m\u001b[0m        \u001b[0;34m\u001b[0m\n",
       "\u001b[0;34m\u001b[0m    \u001b[0;34m@\u001b[0m\u001b[0mproperty\u001b[0m\u001b[0;34m\u001b[0m\n",
       "\u001b[0;34m\u001b[0m    \u001b[0;32mdef\u001b[0m \u001b[0m_total_tries\u001b[0m\u001b[0;34m(\u001b[0m\u001b[0mself\u001b[0m\u001b[0;34m)\u001b[0m\u001b[0;34m:\u001b[0m \u001b[0;34m\u001b[0m\n",
       "\u001b[0;34m\u001b[0m        \u001b[0;32mreturn\u001b[0m \u001b[0mself\u001b[0m\u001b[0;34m.\u001b[0m\u001b[0mtries\u001b[0m\u001b[0;34m.\u001b[0m\u001b[0msum\u001b[0m\u001b[0;34m(\u001b[0m\u001b[0;34m)\u001b[0m\u001b[0;34m\u001b[0m\n",
       "\u001b[0;34m\u001b[0m    \u001b[0;34m\u001b[0m\n",
       "\u001b[0;34m\u001b[0m    \u001b[0;32mdef\u001b[0m \u001b[0madd_observation\u001b[0m\u001b[0;34m(\u001b[0m\u001b[0mself\u001b[0m\u001b[0;34m,\u001b[0m \u001b[0marm\u001b[0m\u001b[0;34m,\u001b[0m \u001b[0mreward\u001b[0m\u001b[0;34m)\u001b[0m\u001b[0;34m:\u001b[0m\u001b[0;34m\u001b[0m\n",
       "\u001b[0;34m\u001b[0m        \u001b[0;34m\"\"\"An observation consists of a pair `(arm, reward)`.\u001b[0m\n",
       "\u001b[0;34m        arm: int\u001b[0m\n",
       "\u001b[0;34m            Chosen arm of the observation\u001b[0m\n",
       "\u001b[0;34m        reward: float\u001b[0m\n",
       "\u001b[0;34m            Reward of the observation\u001b[0m\n",
       "\u001b[0;34m        \"\"\"\u001b[0m\u001b[0;34m\u001b[0m\n",
       "\u001b[0;34m\u001b[0m        \u001b[0mself\u001b[0m\u001b[0;34m.\u001b[0m\u001b[0mtries\u001b[0m\u001b[0;34m[\u001b[0m\u001b[0marm\u001b[0m\u001b[0;34m]\u001b[0m \u001b[0;34m+=\u001b[0m \u001b[0;36m1\u001b[0m\u001b[0;34m\u001b[0m\n",
       "\u001b[0;34m\u001b[0m        \u001b[0mself\u001b[0m\u001b[0;34m.\u001b[0m\u001b[0msuccesses\u001b[0m\u001b[0;34m[\u001b[0m\u001b[0marm\u001b[0m\u001b[0;34m]\u001b[0m \u001b[0;34m+=\u001b[0m \u001b[0mreward\u001b[0m\u001b[0;34m\u001b[0m\n",
       "\u001b[0;34m\u001b[0m    \u001b[0;34m\u001b[0m\n",
       "\u001b[0;34m\u001b[0m    \u001b[0;32mdef\u001b[0m \u001b[0mselect_arm\u001b[0m\u001b[0;34m(\u001b[0m\u001b[0mself\u001b[0m\u001b[0;34m)\u001b[0m\u001b[0;34m:\u001b[0m\u001b[0;34m\u001b[0m\n",
       "\u001b[0;34m\u001b[0m        \u001b[0;34m\"\"\"Placeholder way of selecting an arm.\"\"\"\u001b[0m\u001b[0;34m\u001b[0m\n",
       "\u001b[0;34m\u001b[0m        \u001b[0marm\u001b[0m \u001b[0;34m=\u001b[0m \u001b[0mself\u001b[0m\u001b[0;34m.\u001b[0m\u001b[0m_total_tries\u001b[0m \u001b[0;34m%\u001b[0m \u001b[0mself\u001b[0m\u001b[0;34m.\u001b[0m\u001b[0mn_arms\u001b[0m\u001b[0;34m\u001b[0m\n",
       "\u001b[0;34m\u001b[0m        \u001b[0;32mreturn\u001b[0m \u001b[0marm\u001b[0m\u001b[0;34m\u001b[0m\u001b[0;34m\u001b[0m\u001b[0m\n",
       "\u001b[0;31mFile:\u001b[0m           ~/Repos/bandits/src/agents.py\n",
       "\u001b[0;31mType:\u001b[0m           type\n",
       "\u001b[0;31mSubclasses:\u001b[0m     GreedyExploreFirst, EpsilonGreedy, UCB1, BayesUCB, ThompsonSampling\n"
      ]
     },
     "metadata": {},
     "output_type": "display_data"
    }
   ],
   "source": [
    "??Agent"
   ]
  },
  {
   "cell_type": "markdown",
   "id": "6e9d5c1a-4206-4f31-a715-112703ac1f47",
   "metadata": {},
   "source": [
    "# Contextual Agent"
   ]
  },
  {
   "cell_type": "code",
   "execution_count": 20,
   "id": "8fc47308-d2f6-4600-a6ef-7772486e926a",
   "metadata": {},
   "outputs": [],
   "source": [
    "class ContextualAgent(Agent):\n",
    "    \"\"\"Base properties of all contextual multi-armed bandits.\"\"\"\n",
    "\n",
    "    def __init__(self, n_arms, n_features):\n",
    "        \"\"\"\n",
    "        n_arms: int\n",
    "            Number of arms\n",
    "        n_features: int\n",
    "            Number of features\n",
    "        \"\"\"\n",
    "        super().__init__(n_arms)\n",
    "        self.n_features = n_features\n",
    "\n",
    "    def add_observation(self, arm, reward, X):\n",
    "        \"\"\"A contextual observation consists of a triplet `(arm, reward, X)`.\n",
    "        arm: int\n",
    "            Chosen arm of the observation\n",
    "        reward: float\n",
    "            Reward of the observation\n",
    "        X: np.array\n",
    "            Features of the observation. Shape (n_features, 1).\n",
    "        \"\"\"\n",
    "        super().add_observation(arm, reward)\n",
    "\n",
    "    def select_arm(self, X):\n",
    "        \"\"\"Placeholder way of selecting an arm contextually.\n",
    "        X: np.array\n",
    "            Features of the observation. Shape (n_features, 1).\n",
    "        \"\"\"\n",
    "        arm = self._total_tries % self.n_arms\n",
    "        return arm"
   ]
  },
  {
   "cell_type": "markdown",
   "id": "76fb60ea-5cfc-479a-bdf3-27f38602cbf3",
   "metadata": {},
   "source": [
    "# Implementing LinUCB"
   ]
  },
  {
   "cell_type": "code",
   "execution_count": 21,
   "id": "5c5f79c0-6ef8-4dcf-9cba-f1989b01b858",
   "metadata": {},
   "outputs": [],
   "source": [
    "class LinUCB(ContextualAgent):\n",
    "    \"\"\"LinUCB with disjoint linear models for each arm.\"\"\"\n",
    "\n",
    "    def __init__(self, n_arms, n_features, alpha=1):\n",
    "        super().__init__(n_arms, n_features)\n",
    "        self.alpha = alpha\n",
    "        self._A = np.array(\n",
    "            [np.identity(n_features) for arm in range(n_arms)]\n",
    "        )  # One n_features x n_feature matrix per arm\n",
    "        self._b = np.array(\n",
    "            [np.zeros([n_features, 1]) for arm in range(n_arms)]\n",
    "        )  # One n_features x 1 vector per arm\n",
    "\n",
    "    def add_observation(self, arm, reward, X):\n",
    "        \"\"\"\n",
    "        arm: int\n",
    "            Chosen arm of the observation\n",
    "        reward: float\n",
    "            Reward of the observation\n",
    "        X: np.array\n",
    "            Features of the observation. Shape (n_features, 1).\n",
    "        \"\"\"\n",
    "        super().add_observation(arm, reward, X)\n",
    "        self._A[arm] += np.dot(X, X.T)\n",
    "        self._b[arm] += reward * X\n",
    "\n",
    "    @property\n",
    "    def _Ainv_theta(self):\n",
    "        A_inv = [np.linalg.inv(self._A[arm]) for arm in range(n_arms)]\n",
    "        theta = [np.dot(A_inv[arm], self._b[arm]) for arm in range(n_arms)]\n",
    "        return A_inv, theta\n",
    "\n",
    "    def _get_UCB(self, X):\n",
    "        \"\"\"\n",
    "        X: np.array\n",
    "            Features of the observation. Shape (n_features, 1).\n",
    "        \"\"\"\n",
    "        A_inv, theta = self._Ainv_theta\n",
    "        UCB = [\n",
    "            np.dot(theta[arm].T, X)\n",
    "            + self.alpha * np.sqrt(np.dot(X.T, np.dot(A_inv[arm], X)))\n",
    "            for arm in range(n_arms)\n",
    "        ]\n",
    "        UCB = np.array(UCB)\n",
    "        return UCB\n",
    "\n",
    "    def select_arm(self, X):\n",
    "        \"\"\"\n",
    "        X: np.array\n",
    "            Features of the observation. Shape (n_features, 1).\n",
    "        \"\"\"\n",
    "        UCB = self._get_UCB(X)\n",
    "        arm = argmax(UCB)\n",
    "        return arm"
   ]
  },
  {
   "cell_type": "markdown",
   "id": "45b50f93-c4de-45eb-bddb-20b582fb26b2",
   "metadata": {},
   "source": [
    "# Using real data to simulate the Agent's environment"
   ]
  },
  {
   "cell_type": "code",
   "execution_count": 22,
   "id": "8786a944-5dd8-40a9-8590-6f29054fa858",
   "metadata": {},
   "outputs": [],
   "source": [
    "agent = LinUCB(n_arms=n_arms, n_features=n_features, alpha=1)"
   ]
  },
  {
   "cell_type": "markdown",
   "id": "3babe0f1-3c98-4ba7-9ada-4d481f9c762d",
   "metadata": {},
   "source": [
    "For every row of the data, we only use the observation if the arm selected for the observation is the same as the arm chosen by our Agent."
   ]
  },
  {
   "cell_type": "code",
   "execution_count": 23,
   "id": "185c0acc-bd1d-4734-968d-f8e5d195170c",
   "metadata": {},
   "outputs": [
    {
     "name": "stdout",
     "output_type": "stream",
     "text": [
      "CPU times: user 3min 4s, sys: 1min 32s, total: 4min 37s\n",
      "Wall time: 1min 9s\n"
     ]
    }
   ],
   "source": [
    "%%time\n",
    "Rewards = []\n",
    "Selected_Arms = []\n",
    "Indexes = []\n",
    "for index in range(len(data)):\n",
    "    X = data.loc[index, features_columns]\n",
    "    X = X.values.reshape([-1, 1])\n",
    "    selected_arm = agent.select_arm(X)\n",
    "    if selected_arm == data.loc[index, \"selected_arm\"]:\n",
    "        reward = data.loc[index, \"reward\"]\n",
    "        agent.add_observation(selected_arm, reward, X)\n",
    "        Rewards.append(reward)\n",
    "        Selected_Arms.append(selected_arm)\n",
    "        Indexes.append(index)\n",
    "\n",
    "Cumulative_Reward = np.array(Rewards).cumsum()"
   ]
  },
  {
   "cell_type": "code",
   "execution_count": 24,
   "id": "be61197d-0e8a-4f10-adbb-76ba5b403252",
   "metadata": {},
   "outputs": [
    {
     "data": {
      "text/plain": [
       "[<matplotlib.lines.Line2D at 0x7fd36310bd50>]"
      ]
     },
     "execution_count": 24,
     "metadata": {},
     "output_type": "execute_result"
    },
    {
     "data": {
      "image/png": "[encoded data removed]",
      "text/plain": [
       "<Figure size 432x288 with 1 Axes>"
      ]
     },
     "metadata": {
      "needs_background": "light"
     },
     "output_type": "display_data"
    }
   ],
   "source": [
    "plt.plot(Cumulative_Reward)"
   ]
  },
  {
   "cell_type": "code",
   "execution_count": 25,
   "id": "eeba6260-eea7-451a-8fc5-722b086f58ae",
   "metadata": {},
   "outputs": [
    {
     "data": {
      "text/plain": [
       "17    136\n",
       "18    129\n",
       "14    121\n",
       "16    118\n",
       "3     105\n",
       "20    102\n",
       "8     100\n",
       "7      99\n",
       "11     98\n",
       "10     88\n",
       "9      88\n",
       "5      87\n",
       "13     86\n",
       "2      82\n",
       "15     81\n",
       "21     75\n",
       "1      74\n",
       "0      74\n",
       "4      73\n",
       "12     73\n",
       "6      72\n",
       "19     72\n",
       "dtype: int64"
      ]
     },
     "execution_count": 25,
     "metadata": {},
     "output_type": "execute_result"
    }
   ],
   "source": [
    "pd.Series(Selected_Arms).value_counts()"
   ]
  },
  {
   "cell_type": "code",
   "execution_count": 26,
   "id": "e8409648-de23-4639-8ffb-70b31fc09c50",
   "metadata": {},
   "outputs": [
    {
     "data": {
      "text/plain": [
       "43"
      ]
     },
     "execution_count": 26,
     "metadata": {},
     "output_type": "execute_result"
    }
   ],
   "source": [
    "Cumulative_Reward[-1]"
   ]
  },
  {
   "cell_type": "markdown",
   "id": "5a162aaa-bce2-40eb-8083-b4851a9d12f7",
   "metadata": {},
   "source": [
    "Plotting results for different values of alpha"
   ]
  },
  {
   "cell_type": "code",
   "execution_count": 27,
   "id": "eb29398b-af1e-4e68-8107-f3904dbd58e5",
   "metadata": {},
   "outputs": [
    {
     "name": "stdout",
     "output_type": "stream",
     "text": [
      "CPU times: user 40min 20s, sys: 20min 45s, total: 1h 1min 6s\n",
      "Wall time: 15min 16s\n"
     ]
    },
    {
     "data": {
      "text/plain": [
       "Text(0.5, 1.0, 'Cumulative Reward for different values of alpha')"
      ]
     },
     "execution_count": 27,
     "metadata": {},
     "output_type": "execute_result"
    },
    {
     "data": {
      "image/png": "[encoded data removed]",
      "text/plain": [
       "<Figure size 1512x936 with 1 Axes>"
      ]
     },
     "metadata": {
      "needs_background": "light"
     },
     "output_type": "display_data"
    }
   ],
   "source": [
    "%%time\n",
    "plt.figure(figsize=(21, 13))\n",
    "\n",
    "Reward_Per_Alpha = []\n",
    "for alpha in np.linspace(0.5, 2, 13):\n",
    "    agent = LinUCB(n_arms=n_arms, n_features=n_features, alpha=alpha)\n",
    "    Rewards = []\n",
    "    for index in range(len(data)):\n",
    "        X = data.loc[index, features_columns]\n",
    "        X = X.values.reshape([-1, 1])\n",
    "        selected_arm = agent.select_arm(X)\n",
    "        if selected_arm == data.loc[index, \"selected_arm\"]:\n",
    "            reward = data.loc[index, \"reward\"]\n",
    "            agent.add_observation(selected_arm, reward, X)\n",
    "            Rewards.append(reward)\n",
    "\n",
    "    Cumulative_Reward = np.array(Rewards).cumsum()\n",
    "    plt.plot(Cumulative_Reward, label=f\"{alpha}\")\n",
    "    Reward_Per_Alpha.append(Cumulative_Reward[-1])\n",
    "\n",
    "plt.legend(fontsize=13)\n",
    "plt.xlabel(\"Step\", fontsize=13)\n",
    "plt.ylabel(\"Total Reward $= \\sum_{t \\leq T} \\mu_t$\", fontsize=13)\n",
    "plt.grid()\n",
    "plt.title(\"Cumulative Reward for different values of alpha\", fontsize=21)"
   ]
  },
  {
   "cell_type": "code",
   "execution_count": 28,
   "id": "e682741d-7745-4e2a-b695-59e71a67fca9",
   "metadata": {},
   "outputs": [
    {
     "data": {
      "text/plain": [
       "Text(0.5, 1.0, 'Cumulative Reward for different values of alpha')"
      ]
     },
     "execution_count": 28,
     "metadata": {},
     "output_type": "execute_result"
    },
    {
     "data": {
      "image/png": "[encoded data removed]",
      "text/plain": [
       "<Figure size 1512x936 with 1 Axes>"
      ]
     },
     "metadata": {
      "needs_background": "light"
     },
     "output_type": "display_data"
    }
   ],
   "source": [
    "plt.figure(figsize=(21, 13))\n",
    "plt.plot(np.linspace(0.5, 2, 13), Reward_Per_Alpha)\n",
    "plt.xlabel(\"Alpha\", fontsize=13)\n",
    "plt.ylabel(\"Total Reward $= \\sum_{t \\leq T} \\mu_t$\", fontsize=13)\n",
    "plt.grid()\n",
    "plt.title(\"Cumulative Reward for different values of alpha\", fontsize=21)"
   ]
  },
  {
   "cell_type": "code",
   "execution_count": 29,
   "id": "8dd6e304-058d-462d-bd00-d3f3ebe01fbc",
   "metadata": {},
   "outputs": [
    {
     "data": {
      "text/plain": [
       "Text(0.5, 1.0, 'Last 500 click through rate')"
      ]
     },
     "execution_count": 29,
     "metadata": {},
     "output_type": "execute_result"
    },
    {
     "data": {
      "image/png": "[encoded data removed]",
      "text/plain": [
       "<Figure size 432x288 with 1 Axes>"
      ]
     },
     "metadata": {
      "needs_background": "light"
     },
     "output_type": "display_data"
    }
   ],
   "source": [
    "k = 500\n",
    "last_k_ctr = np.convolve(np.array(Rewards), np.ones(k, dtype=int), \"valid\") / k\n",
    "plt.plot(last_k_ctr)\n",
    "plt.title(f\"Last {k} click through rate\")"
   ]
  },
  {
   "cell_type": "code",
   "execution_count": null,
   "id": "f5bc32db-6e85-4f86-8c9d-1fdb33682f97",
   "metadata": {},
   "outputs": [],
   "source": []
  },
  {
   "cell_type": "markdown",
   "id": "8aab909c-02a3-4c1b-b97d-e65e5c5b050d",
   "metadata": {},
   "source": [
    "# Implementing LinThompsonSampling (LinTS)"
   ]
  },
  {
   "cell_type": "code",
   "execution_count": 21,
   "id": "02dc3f32-505c-4f9b-8c3c-28ddd6ac23e2",
   "metadata": {},
   "outputs": [],
   "source": [
    "# class LinTS(ContextualAgent):\n",
    "#     \"\"\"LinUCB with disjoint linear models for each arm.\"\"\"\n",
    "#     def __init__(self, n_arms, n_features, alpha=1):\n",
    "#         super().__init__(n_arms, n_features)\n",
    "#         self.alpha = alpha\n",
    "#         self._A = np.array([np.identity(n_features) for arm in range(n_arms)]) # One n_features x n_feature matrix per arm\n",
    "#         self._b = np.array([np.zeros([n_features, 1]) for arm in range(n_arms)]) # One n_features x 1 vector per arm\n",
    "\n",
    "#     def add_observation(self, arm, reward, X):\n",
    "#         \"\"\"\n",
    "#         arm: int\n",
    "#             Chosen arm of the observation\n",
    "#         reward: float\n",
    "#             Reward of the observation\n",
    "#         X: np.array\n",
    "#             Features of the observation. Shape (n_features, 1).\n",
    "#         \"\"\"\n",
    "#         super().add_observation(arm, reward, X)\n",
    "#         self._A[arm] += np.dot(X, X.T)\n",
    "#         self._b[arm] += reward * X\n",
    "\n",
    "#     @property\n",
    "#     def _Ainv_theta(self):\n",
    "#         A_inv = [np.linalg.inv(self._A[arm]) for arm in range(n_arms)]\n",
    "#         theta = [np.dot(A_inv[arm], self._b[arm]) for arm in range(n_arms)]\n",
    "#         return A_inv, theta\n",
    "\n",
    "#     def _get_UCB(self, X):\n",
    "#         \"\"\"\n",
    "#         X: np.array\n",
    "#             Features of the observation. Shape (n_features, 1).\n",
    "#         \"\"\"\n",
    "#         A_inv, theta = self._Ainv_theta\n",
    "#         UCB = [np.dot(theta[arm].T, X) +  self.alpha * np.sqrt(np.dot(X.T, np.dot(A_inv[arm], X))) for arm in range(n_arms)]\n",
    "#         UCB = np.array(UCB)\n",
    "#         return UCB\n",
    "\n",
    "#     def select_arm(self, X):\n",
    "#         \"\"\"\n",
    "#         X: np.array\n",
    "#             Features of the observation. Shape (n_features, 1).\n",
    "#         \"\"\"\n",
    "#         UCB = self._get_UCB(X)\n",
    "#         arm = argmax(UCB)\n",
    "#         return arm"
   ]
  }
 ],
 "metadata": {
  "kernelspec": {
   "display_name": "sc-analysis",
   "language": "python",
   "name": "sc-analysis"
  },
  "language_info": {
   "codemirror_mode": {
    "name": "ipython",
    "version": 3
   },
   "file_extension": ".py",
   "mimetype": "text/x-python",
   "name": "python",
   "nbconvert_exporter": "python",
   "pygments_lexer": "ipython3",
   "version": "3.7.6"
  }
 },
 "nbformat": 4,
 "nbformat_minor": 5
}
