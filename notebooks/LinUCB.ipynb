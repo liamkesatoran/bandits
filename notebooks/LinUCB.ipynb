{
 "cells": [
  {
   "cell_type": "markdown",
   "id": "3f622e95-f3f4-4b06-97d7-9e810c8f710f",
   "metadata": {
    "tags": []
   },
   "source": [
    "# Preliminary setup and data exploration"
   ]
  },
  {
   "cell_type": "code",
   "execution_count": 1,
   "id": "ba1caaa0-b1df-44e6-b319-a9513ae6375b",
   "metadata": {},
   "outputs": [],
   "source": [
    "import os\n",
    "os.chdir('..')"
   ]
  },
  {
   "cell_type": "code",
   "execution_count": 2,
   "id": "5b24f880-f0b0-4276-b9c9-375fb766e075",
   "metadata": {},
   "outputs": [],
   "source": [
    "import pandas as pd\n",
    "import numpy as np\n",
    "import matplotlib.pyplot as plt\n",
    "import random\n",
    "random.seed(100)\n",
    "np.random.seed(100)"
   ]
  },
  {
   "cell_type": "code",
   "execution_count": 3,
   "id": "a33b86cb-eb72-4812-aca7-5b3489870351",
   "metadata": {},
   "outputs": [],
   "source": [
    "from src.agents import *"
   ]
  },
  {
   "cell_type": "code",
   "execution_count": 4,
   "id": "027a059d-a568-49f2-bd17-cc44bceb0576",
   "metadata": {},
   "outputs": [],
   "source": [
    "#data = pd.read_csv('data/movielens_10_arms.csv') #easy\n",
    "#data = pd.read_csv('data/yahoo_reduced_arms.csv') #harder\n",
    "#data = pd.read_csv('data/movielens_202_arms.csv') #lots of arms\n",
    "data = pd.read_csv('data/10000dataset.csv')\n",
    "# Reshuffle data\n",
    "data = data.sample(frac=1, random_state=100)\n",
    "data = data.reset_index()"
   ]
  },
  {
   "cell_type": "code",
   "execution_count": 19,
   "id": "e6e73a64-eb9d-4edd-a880-fe5b356b1499",
   "metadata": {},
   "outputs": [
    {
     "data": {
      "text/plain": [
       "100"
      ]
     },
     "execution_count": 19,
     "metadata": {},
     "output_type": "execute_result"
    }
   ],
   "source": [
    "n_features = 0\n",
    "for column in data.columns:\n",
    "    try:\n",
    "        column = int(column)\n",
    "        n_features = max(column, n_features)\n",
    "    except:\n",
    "        pass\n",
    "n_features += 1\n",
    "\n",
    "n_features"
   ]
  },
  {
   "cell_type": "code",
   "execution_count": 5,
   "id": "fbf94948-a9ce-45c1-ad25-a157cabd6282",
   "metadata": {},
   "outputs": [
    {
     "data": {
      "text/plain": [
       "10"
      ]
     },
     "execution_count": 5,
     "metadata": {},
     "output_type": "execute_result"
    }
   ],
   "source": [
    "# Number of arms\n",
    "n_arms = data['selected_arm'].max() + 1\n",
    "n_arms = int(n_arms)\n",
    "n_arms"
   ]
  },
  {
   "cell_type": "code",
   "execution_count": 6,
   "id": "9989fbe4-cce7-4999-b284-a194e53639dc",
   "metadata": {},
   "outputs": [
    {
     "data": {
      "text/html": [
       "<div>\n",
       "<style scoped>\n",
       "    .dataframe tbody tr th:only-of-type {\n",
       "        vertical-align: middle;\n",
       "    }\n",
       "\n",
       "    .dataframe tbody tr th {\n",
       "        vertical-align: top;\n",
       "    }\n",
       "\n",
       "    .dataframe thead th {\n",
       "        text-align: right;\n",
       "    }\n",
       "</style>\n",
       "<table border=\"1\" class=\"dataframe\">\n",
       "  <thead>\n",
       "    <tr style=\"text-align: right;\">\n",
       "      <th></th>\n",
       "      <th>0</th>\n",
       "      <th>1</th>\n",
       "      <th>2</th>\n",
       "      <th>3</th>\n",
       "      <th>4</th>\n",
       "      <th>5</th>\n",
       "      <th>6</th>\n",
       "      <th>7</th>\n",
       "      <th>8</th>\n",
       "      <th>9</th>\n",
       "      <th>...</th>\n",
       "      <th>92</th>\n",
       "      <th>93</th>\n",
       "      <th>94</th>\n",
       "      <th>95</th>\n",
       "      <th>96</th>\n",
       "      <th>97</th>\n",
       "      <th>98</th>\n",
       "      <th>99</th>\n",
       "      <th>selected_arm</th>\n",
       "      <th>reward</th>\n",
       "    </tr>\n",
       "  </thead>\n",
       "  <tbody>\n",
       "    <tr>\n",
       "      <th>9815</th>\n",
       "      <td>43</td>\n",
       "      <td>0</td>\n",
       "      <td>1</td>\n",
       "      <td>30</td>\n",
       "      <td>1</td>\n",
       "      <td>0</td>\n",
       "      <td>0</td>\n",
       "      <td>0</td>\n",
       "      <td>0</td>\n",
       "      <td>0</td>\n",
       "      <td>...</td>\n",
       "      <td>0</td>\n",
       "      <td>0</td>\n",
       "      <td>0</td>\n",
       "      <td>0</td>\n",
       "      <td>0</td>\n",
       "      <td>19</td>\n",
       "      <td>0</td>\n",
       "      <td>1</td>\n",
       "      <td>7</td>\n",
       "      <td>0</td>\n",
       "    </tr>\n",
       "    <tr>\n",
       "      <th>2780</th>\n",
       "      <td>30</td>\n",
       "      <td>0</td>\n",
       "      <td>1</td>\n",
       "      <td>41</td>\n",
       "      <td>1</td>\n",
       "      <td>0</td>\n",
       "      <td>0</td>\n",
       "      <td>0</td>\n",
       "      <td>0</td>\n",
       "      <td>0</td>\n",
       "      <td>...</td>\n",
       "      <td>0</td>\n",
       "      <td>0</td>\n",
       "      <td>0</td>\n",
       "      <td>0</td>\n",
       "      <td>0</td>\n",
       "      <td>11</td>\n",
       "      <td>0</td>\n",
       "      <td>1</td>\n",
       "      <td>3</td>\n",
       "      <td>0</td>\n",
       "    </tr>\n",
       "    <tr>\n",
       "      <th>7167</th>\n",
       "      <td>27</td>\n",
       "      <td>0</td>\n",
       "      <td>0</td>\n",
       "      <td>27</td>\n",
       "      <td>0</td>\n",
       "      <td>0</td>\n",
       "      <td>0</td>\n",
       "      <td>0</td>\n",
       "      <td>0</td>\n",
       "      <td>0</td>\n",
       "      <td>...</td>\n",
       "      <td>0</td>\n",
       "      <td>0</td>\n",
       "      <td>0</td>\n",
       "      <td>0</td>\n",
       "      <td>0</td>\n",
       "      <td>15</td>\n",
       "      <td>0</td>\n",
       "      <td>2</td>\n",
       "      <td>8</td>\n",
       "      <td>0</td>\n",
       "    </tr>\n",
       "    <tr>\n",
       "      <th>4639</th>\n",
       "      <td>6</td>\n",
       "      <td>7</td>\n",
       "      <td>0</td>\n",
       "      <td>39</td>\n",
       "      <td>0</td>\n",
       "      <td>0</td>\n",
       "      <td>22</td>\n",
       "      <td>0</td>\n",
       "      <td>0</td>\n",
       "      <td>0</td>\n",
       "      <td>...</td>\n",
       "      <td>6</td>\n",
       "      <td>1</td>\n",
       "      <td>0</td>\n",
       "      <td>3</td>\n",
       "      <td>1</td>\n",
       "      <td>0</td>\n",
       "      <td>0</td>\n",
       "      <td>5</td>\n",
       "      <td>0</td>\n",
       "      <td>0</td>\n",
       "    </tr>\n",
       "    <tr>\n",
       "      <th>9137</th>\n",
       "      <td>44</td>\n",
       "      <td>0</td>\n",
       "      <td>4</td>\n",
       "      <td>34</td>\n",
       "      <td>0</td>\n",
       "      <td>0</td>\n",
       "      <td>0</td>\n",
       "      <td>0</td>\n",
       "      <td>0</td>\n",
       "      <td>0</td>\n",
       "      <td>...</td>\n",
       "      <td>0</td>\n",
       "      <td>0</td>\n",
       "      <td>0</td>\n",
       "      <td>0</td>\n",
       "      <td>0</td>\n",
       "      <td>20</td>\n",
       "      <td>0</td>\n",
       "      <td>1</td>\n",
       "      <td>5</td>\n",
       "      <td>0</td>\n",
       "    </tr>\n",
       "  </tbody>\n",
       "</table>\n",
       "<p>5 rows × 102 columns</p>\n",
       "</div>"
      ],
      "text/plain": [
       "       0  1  2   3  4  5   6  7  8  9  ...  92  93  94  95  96  97  98  99  \\\n",
       "9815  43  0  1  30  1  0   0  0  0  0  ...   0   0   0   0   0  19   0   1   \n",
       "2780  30  0  1  41  1  0   0  0  0  0  ...   0   0   0   0   0  11   0   1   \n",
       "7167  27  0  0  27  0  0   0  0  0  0  ...   0   0   0   0   0  15   0   2   \n",
       "4639   6  7  0  39  0  0  22  0  0  0  ...   6   1   0   3   1   0   0   5   \n",
       "9137  44  0  4  34  0  0   0  0  0  0  ...   0   0   0   0   0  20   0   1   \n",
       "\n",
       "      selected_arm  reward  \n",
       "9815             7       0  \n",
       "2780             3       0  \n",
       "7167             8       0  \n",
       "4639             0       0  \n",
       "9137             5       0  \n",
       "\n",
       "[5 rows x 102 columns]"
      ]
     },
     "execution_count": 6,
     "metadata": {},
     "output_type": "execute_result"
    }
   ],
   "source": [
    "data.sample(n=5, random_state=100)"
   ]
  },
  {
   "cell_type": "code",
   "execution_count": 7,
   "id": "af8cc4f7-85c0-4f83-a178-aeeda1b0a866",
   "metadata": {},
   "outputs": [
    {
     "data": {
      "text/plain": [
       "(10000, 102)"
      ]
     },
     "execution_count": 7,
     "metadata": {},
     "output_type": "execute_result"
    }
   ],
   "source": [
    "data.shape"
   ]
  },
  {
   "cell_type": "markdown",
   "id": "608afe25-a547-463f-879a-69efdcacb06f",
   "metadata": {},
   "source": [
    "There are 22 different arms. They seem to have been chosen uniformly randomly:"
   ]
  },
  {
   "cell_type": "code",
   "execution_count": 8,
   "id": "36464977-d692-4daf-bfb9-7b832c0e0d17",
   "metadata": {},
   "outputs": [
    {
     "data": {
      "text/plain": [
       "count    10000.000000\n",
       "mean         4.489600\n",
       "std          2.868609\n",
       "min          0.000000\n",
       "25%          2.000000\n",
       "50%          4.000000\n",
       "75%          7.000000\n",
       "max          9.000000\n",
       "Name: selected_arm, dtype: float64"
      ]
     },
     "execution_count": 8,
     "metadata": {},
     "output_type": "execute_result"
    }
   ],
   "source": [
    "data['selected_arm'].describe()"
   ]
  },
  {
   "cell_type": "code",
   "execution_count": 9,
   "id": "12aa7963-558a-4079-a3b1-b3e7b1f64036",
   "metadata": {},
   "outputs": [
    {
     "data": {
      "image/png": "[encoded data removed]",
      "text/plain": [
       "<Figure size 432x288 with 1 Axes>"
      ]
     },
     "metadata": {
      "needs_background": "light"
     },
     "output_type": "display_data"
    }
   ],
   "source": [
    "data['selected_arm'].value_counts().sort_index().plot(kind='bar')\n",
    "plt.xlabel('Selected Arm')\n",
    "plt.ylabel('Count')\n",
    "plt.show()"
   ]
  },
  {
   "cell_type": "markdown",
   "id": "b10df9d8-2854-474a-bc43-7772e2033dbd",
   "metadata": {},
   "source": [
    "The reward is a Bernoulli distribution:"
   ]
  },
  {
   "cell_type": "code",
   "execution_count": 10,
   "id": "cedc1f7e-8c7f-4aa1-8c93-5635185343c2",
   "metadata": {},
   "outputs": [
    {
     "data": {
      "text/plain": [
       "count    10000.000000\n",
       "mean         0.103900\n",
       "std          0.305146\n",
       "min          0.000000\n",
       "25%          0.000000\n",
       "50%          0.000000\n",
       "75%          0.000000\n",
       "max          1.000000\n",
       "Name: reward, dtype: float64"
      ]
     },
     "execution_count": 10,
     "metadata": {},
     "output_type": "execute_result"
    }
   ],
   "source": [
    "data['reward'].describe()"
   ]
  },
  {
   "cell_type": "markdown",
   "id": "f1507f39-61e9-4f24-b365-cecf3f7cd562",
   "metadata": {},
   "source": [
    "The reward expectancy depends on the arm chosen:"
   ]
  },
  {
   "cell_type": "code",
   "execution_count": 11,
   "id": "55947227-85f0-4bf0-beea-f7a362d05597",
   "metadata": {},
   "outputs": [
    {
     "data": {
      "text/plain": [
       "Text(0.5, 0, 'Selected Arm')"
      ]
     },
     "execution_count": 11,
     "metadata": {},
     "output_type": "execute_result"
    },
    {
     "data": {
      "image/png": "[encoded data removed]",
      "text/plain": [
       "<Figure size 432x288 with 1 Axes>"
      ]
     },
     "metadata": {
      "needs_background": "light"
     },
     "output_type": "display_data"
    }
   ],
   "source": [
    "expected_reward = data.groupby('selected_arm').agg({'reward':'mean'}).rename({'reward':'expected_reward'},axis=1)\n",
    "expected_reward.plot(kind='bar')\n",
    "plt.ylabel('Average reward')\n",
    "plt.xlabel('Selected Arm')"
   ]
  },
  {
   "cell_type": "code",
   "execution_count": 12,
   "id": "6964771f-9c72-41c7-ac17-7f098c4563ab",
   "metadata": {},
   "outputs": [
    {
     "data": {
      "text/html": [
       "<div>\n",
       "<style scoped>\n",
       "    .dataframe tbody tr th:only-of-type {\n",
       "        vertical-align: middle;\n",
       "    }\n",
       "\n",
       "    .dataframe tbody tr th {\n",
       "        vertical-align: top;\n",
       "    }\n",
       "\n",
       "    .dataframe thead th {\n",
       "        text-align: right;\n",
       "    }\n",
       "</style>\n",
       "<table border=\"1\" class=\"dataframe\">\n",
       "  <thead>\n",
       "    <tr style=\"text-align: right;\">\n",
       "      <th></th>\n",
       "      <th>reward</th>\n",
       "    </tr>\n",
       "    <tr>\n",
       "      <th>selected_arm</th>\n",
       "      <th></th>\n",
       "    </tr>\n",
       "  </thead>\n",
       "  <tbody>\n",
       "    <tr>\n",
       "      <th>1</th>\n",
       "      <td>0.267821</td>\n",
       "    </tr>\n",
       "    <tr>\n",
       "      <th>6</th>\n",
       "      <td>0.194203</td>\n",
       "    </tr>\n",
       "    <tr>\n",
       "      <th>8</th>\n",
       "      <td>0.158907</td>\n",
       "    </tr>\n",
       "    <tr>\n",
       "      <th>2</th>\n",
       "      <td>0.141684</td>\n",
       "    </tr>\n",
       "    <tr>\n",
       "      <th>5</th>\n",
       "      <td>0.096573</td>\n",
       "    </tr>\n",
       "    <tr>\n",
       "      <th>4</th>\n",
       "      <td>0.053731</td>\n",
       "    </tr>\n",
       "    <tr>\n",
       "      <th>3</th>\n",
       "      <td>0.051576</td>\n",
       "    </tr>\n",
       "    <tr>\n",
       "      <th>9</th>\n",
       "      <td>0.030395</td>\n",
       "    </tr>\n",
       "    <tr>\n",
       "      <th>7</th>\n",
       "      <td>0.028028</td>\n",
       "    </tr>\n",
       "    <tr>\n",
       "      <th>0</th>\n",
       "      <td>0.020588</td>\n",
       "    </tr>\n",
       "  </tbody>\n",
       "</table>\n",
       "</div>"
      ],
      "text/plain": [
       "                reward\n",
       "selected_arm          \n",
       "1             0.267821\n",
       "6             0.194203\n",
       "8             0.158907\n",
       "2             0.141684\n",
       "5             0.096573\n",
       "4             0.053731\n",
       "3             0.051576\n",
       "9             0.030395\n",
       "7             0.028028\n",
       "0             0.020588"
      ]
     },
     "execution_count": 12,
     "metadata": {},
     "output_type": "execute_result"
    }
   ],
   "source": [
    "data.groupby('selected_arm').agg({'reward':'mean'}).sort_values('reward', ascending=False)"
   ]
  },
  {
   "cell_type": "markdown",
   "id": "09b75653-0391-41dd-adae-282d4c3686bc",
   "metadata": {},
   "source": [
    "All 136 features are bernoulli"
   ]
  },
  {
   "cell_type": "markdown",
   "id": "bec728dd-03d1-4d83-8567-890a40b11bc2",
   "metadata": {},
   "source": [
    "# Using PCA to lower the number of dimensions"
   ]
  },
  {
   "cell_type": "code",
   "execution_count": 28,
   "id": "3f6161c9-f50f-4cba-a03d-81ead05a07fa",
   "metadata": {},
   "outputs": [],
   "source": [
    "from sklearn import decomposition\n",
    "\n",
    "pca = decomposition.PCA(n_components=4)\n",
    "X = pca.fit_transform(data[[str(i) for i in range(n_features)]])"
   ]
  },
  {
   "cell_type": "code",
   "execution_count": 29,
   "id": "b977054d-d04d-4bb0-bdd1-8b277d03fb40",
   "metadata": {},
   "outputs": [],
   "source": [
    "data = pd.concat([pd.DataFrame(X), data[['selected_arm', 'reward']]], axis=1)"
   ]
  },
  {
   "cell_type": "code",
   "execution_count": 30,
   "id": "8442bece-bc50-4e1b-a973-8aa863c84d76",
   "metadata": {},
   "outputs": [
    {
     "data": {
      "text/html": [
       "<div>\n",
       "<style scoped>\n",
       "    .dataframe tbody tr th:only-of-type {\n",
       "        vertical-align: middle;\n",
       "    }\n",
       "\n",
       "    .dataframe tbody tr th {\n",
       "        vertical-align: top;\n",
       "    }\n",
       "\n",
       "    .dataframe thead th {\n",
       "        text-align: right;\n",
       "    }\n",
       "</style>\n",
       "<table border=\"1\" class=\"dataframe\">\n",
       "  <thead>\n",
       "    <tr style=\"text-align: right;\">\n",
       "      <th></th>\n",
       "      <th>0</th>\n",
       "      <th>1</th>\n",
       "      <th>2</th>\n",
       "      <th>3</th>\n",
       "      <th>selected_arm</th>\n",
       "      <th>reward</th>\n",
       "    </tr>\n",
       "  </thead>\n",
       "  <tbody>\n",
       "    <tr>\n",
       "      <th>0</th>\n",
       "      <td>0.862381</td>\n",
       "      <td>15.824105</td>\n",
       "      <td>-4.728823</td>\n",
       "      <td>15.846460</td>\n",
       "      <td>1</td>\n",
       "      <td>0</td>\n",
       "    </tr>\n",
       "    <tr>\n",
       "      <th>1</th>\n",
       "      <td>-36.641955</td>\n",
       "      <td>-42.565999</td>\n",
       "      <td>-0.982176</td>\n",
       "      <td>8.473514</td>\n",
       "      <td>7</td>\n",
       "      <td>0</td>\n",
       "    </tr>\n",
       "    <tr>\n",
       "      <th>2</th>\n",
       "      <td>-28.908081</td>\n",
       "      <td>47.025209</td>\n",
       "      <td>78.836566</td>\n",
       "      <td>-21.715712</td>\n",
       "      <td>4</td>\n",
       "      <td>0</td>\n",
       "    </tr>\n",
       "    <tr>\n",
       "      <th>3</th>\n",
       "      <td>-24.208872</td>\n",
       "      <td>48.231416</td>\n",
       "      <td>74.760137</td>\n",
       "      <td>-19.219603</td>\n",
       "      <td>3</td>\n",
       "      <td>0</td>\n",
       "    </tr>\n",
       "    <tr>\n",
       "      <th>4</th>\n",
       "      <td>10.075641</td>\n",
       "      <td>13.394291</td>\n",
       "      <td>-2.872530</td>\n",
       "      <td>27.707311</td>\n",
       "      <td>1</td>\n",
       "      <td>1</td>\n",
       "    </tr>\n",
       "    <tr>\n",
       "      <th>...</th>\n",
       "      <td>...</td>\n",
       "      <td>...</td>\n",
       "      <td>...</td>\n",
       "      <td>...</td>\n",
       "      <td>...</td>\n",
       "      <td>...</td>\n",
       "    </tr>\n",
       "    <tr>\n",
       "      <th>9995</th>\n",
       "      <td>-36.450589</td>\n",
       "      <td>-42.686482</td>\n",
       "      <td>-2.199960</td>\n",
       "      <td>4.059316</td>\n",
       "      <td>0</td>\n",
       "      <td>0</td>\n",
       "    </tr>\n",
       "    <tr>\n",
       "      <th>9996</th>\n",
       "      <td>65.823293</td>\n",
       "      <td>-22.576758</td>\n",
       "      <td>3.729309</td>\n",
       "      <td>-17.962800</td>\n",
       "      <td>1</td>\n",
       "      <td>0</td>\n",
       "    </tr>\n",
       "    <tr>\n",
       "      <th>9997</th>\n",
       "      <td>-36.484401</td>\n",
       "      <td>-38.862534</td>\n",
       "      <td>-2.665262</td>\n",
       "      <td>5.289559</td>\n",
       "      <td>8</td>\n",
       "      <td>1</td>\n",
       "    </tr>\n",
       "    <tr>\n",
       "      <th>9998</th>\n",
       "      <td>26.334520</td>\n",
       "      <td>44.600940</td>\n",
       "      <td>-18.668215</td>\n",
       "      <td>65.341994</td>\n",
       "      <td>3</td>\n",
       "      <td>0</td>\n",
       "    </tr>\n",
       "    <tr>\n",
       "      <th>9999</th>\n",
       "      <td>-0.597354</td>\n",
       "      <td>16.232363</td>\n",
       "      <td>-4.164518</td>\n",
       "      <td>14.856762</td>\n",
       "      <td>3</td>\n",
       "      <td>0</td>\n",
       "    </tr>\n",
       "  </tbody>\n",
       "</table>\n",
       "<p>10000 rows × 6 columns</p>\n",
       "</div>"
      ],
      "text/plain": [
       "              0          1          2          3  selected_arm  reward\n",
       "0      0.862381  15.824105  -4.728823  15.846460             1       0\n",
       "1    -36.641955 -42.565999  -0.982176   8.473514             7       0\n",
       "2    -28.908081  47.025209  78.836566 -21.715712             4       0\n",
       "3    -24.208872  48.231416  74.760137 -19.219603             3       0\n",
       "4     10.075641  13.394291  -2.872530  27.707311             1       1\n",
       "...         ...        ...        ...        ...           ...     ...\n",
       "9995 -36.450589 -42.686482  -2.199960   4.059316             0       0\n",
       "9996  65.823293 -22.576758   3.729309 -17.962800             1       0\n",
       "9997 -36.484401 -38.862534  -2.665262   5.289559             8       1\n",
       "9998  26.334520  44.600940 -18.668215  65.341994             3       0\n",
       "9999  -0.597354  16.232363  -4.164518  14.856762             3       0\n",
       "\n",
       "[10000 rows x 6 columns]"
      ]
     },
     "execution_count": 30,
     "metadata": {},
     "output_type": "execute_result"
    }
   ],
   "source": [
    "data"
   ]
  },
  {
   "cell_type": "code",
   "execution_count": 31,
   "id": "5486ec1e-f42a-4a8e-91d8-ef12264eef84",
   "metadata": {},
   "outputs": [
    {
     "data": {
      "text/plain": [
       "<matplotlib.collections.PathCollection at 0x7f3c26f83c50>"
      ]
     },
     "execution_count": 31,
     "metadata": {},
     "output_type": "execute_result"
    },
    {
     "data": {
      "image/png": "[encoded data removed]",
      "text/plain": [
       "<Figure size 432x288 with 1 Axes>"
      ]
     },
     "metadata": {
      "needs_background": "light"
     },
     "output_type": "display_data"
    }
   ],
   "source": [
    "plt.scatter(data[0], data[1])"
   ]
  },
  {
   "cell_type": "markdown",
   "id": "7a67b898-b6bc-4ddd-9910-f4a6c0b444dc",
   "metadata": {},
   "source": [
    "# Defining a base Agent other will be based upon"
   ]
  },
  {
   "cell_type": "markdown",
   "id": "69430b34-8455-42bd-9c52-f8ce955af3e3",
   "metadata": {},
   "source": [
    "These are the basic properties of a multi-armed bandit."
   ]
  },
  {
   "cell_type": "code",
   "execution_count": 16,
   "id": "049a5bd9-ace1-4974-9f0f-545d1ef93013",
   "metadata": {},
   "outputs": [
    {
     "data": {
      "text/plain": [
       "\u001b[0;31mInit signature:\u001b[0m \u001b[0mAgent\u001b[0m\u001b[0;34m(\u001b[0m\u001b[0mn_arms\u001b[0m\u001b[0;34m)\u001b[0m\u001b[0;34m\u001b[0m\u001b[0;34m\u001b[0m\u001b[0m\n",
       "\u001b[0;31mSource:\u001b[0m        \n",
       "\u001b[0;32mclass\u001b[0m \u001b[0mAgent\u001b[0m\u001b[0;34m(\u001b[0m\u001b[0;34m)\u001b[0m\u001b[0;34m:\u001b[0m\u001b[0;34m\u001b[0m\n",
       "\u001b[0;34m\u001b[0m    \u001b[0;34m\"\"\"Base properties of all multi-armed bandits.\"\"\"\u001b[0m\u001b[0;34m\u001b[0m\n",
       "\u001b[0;34m\u001b[0m    \u001b[0;32mdef\u001b[0m \u001b[0m__init__\u001b[0m\u001b[0;34m(\u001b[0m\u001b[0mself\u001b[0m\u001b[0;34m,\u001b[0m \u001b[0mn_arms\u001b[0m\u001b[0;34m)\u001b[0m\u001b[0;34m:\u001b[0m\u001b[0;34m\u001b[0m\n",
       "\u001b[0;34m\u001b[0m        \u001b[0;34m\"\"\"\u001b[0m\n",
       "\u001b[0;34m        n_arms: int\u001b[0m\n",
       "\u001b[0;34m            Number of arms\u001b[0m\n",
       "\u001b[0;34m        \"\"\"\u001b[0m\u001b[0;34m\u001b[0m\n",
       "\u001b[0;34m\u001b[0m        \u001b[0mself\u001b[0m\u001b[0;34m.\u001b[0m\u001b[0mn_arms\u001b[0m \u001b[0;34m=\u001b[0m \u001b[0mn_arms\u001b[0m\u001b[0;34m\u001b[0m\n",
       "\u001b[0;34m\u001b[0m        \u001b[0mself\u001b[0m\u001b[0;34m.\u001b[0m\u001b[0mtries\u001b[0m \u001b[0;34m=\u001b[0m \u001b[0mnp\u001b[0m\u001b[0;34m.\u001b[0m\u001b[0mzeros\u001b[0m\u001b[0;34m(\u001b[0m\u001b[0mn_arms\u001b[0m\u001b[0;34m)\u001b[0m\u001b[0;34m\u001b[0m\n",
       "\u001b[0;34m\u001b[0m        \u001b[0mself\u001b[0m\u001b[0;34m.\u001b[0m\u001b[0msuccesses\u001b[0m \u001b[0;34m=\u001b[0m \u001b[0mnp\u001b[0m\u001b[0;34m.\u001b[0m\u001b[0mzeros\u001b[0m\u001b[0;34m(\u001b[0m\u001b[0mn_arms\u001b[0m\u001b[0;34m)\u001b[0m\u001b[0;34m\u001b[0m\n",
       "\u001b[0;34m\u001b[0m        \u001b[0;34m\u001b[0m\n",
       "\u001b[0;34m\u001b[0m    \u001b[0;34m@\u001b[0m\u001b[0mproperty\u001b[0m\u001b[0;34m\u001b[0m\n",
       "\u001b[0;34m\u001b[0m    \u001b[0;32mdef\u001b[0m \u001b[0m_total_tries\u001b[0m\u001b[0;34m(\u001b[0m\u001b[0mself\u001b[0m\u001b[0;34m)\u001b[0m\u001b[0;34m:\u001b[0m \u001b[0;34m\u001b[0m\n",
       "\u001b[0;34m\u001b[0m        \u001b[0;32mreturn\u001b[0m \u001b[0mself\u001b[0m\u001b[0;34m.\u001b[0m\u001b[0mtries\u001b[0m\u001b[0;34m.\u001b[0m\u001b[0msum\u001b[0m\u001b[0;34m(\u001b[0m\u001b[0;34m)\u001b[0m\u001b[0;34m\u001b[0m\n",
       "\u001b[0;34m\u001b[0m    \u001b[0;34m\u001b[0m\n",
       "\u001b[0;34m\u001b[0m    \u001b[0;32mdef\u001b[0m \u001b[0madd_observation\u001b[0m\u001b[0;34m(\u001b[0m\u001b[0mself\u001b[0m\u001b[0;34m,\u001b[0m \u001b[0marm\u001b[0m\u001b[0;34m,\u001b[0m \u001b[0mreward\u001b[0m\u001b[0;34m)\u001b[0m\u001b[0;34m:\u001b[0m\u001b[0;34m\u001b[0m\n",
       "\u001b[0;34m\u001b[0m        \u001b[0;34m\"\"\"An observation consists of a pair `(arm,reward)`.\u001b[0m\n",
       "\u001b[0;34m        arm: int\u001b[0m\n",
       "\u001b[0;34m            Chosen arm of the observation\u001b[0m\n",
       "\u001b[0;34m        reward: float\u001b[0m\n",
       "\u001b[0;34m            Reward of the observation\u001b[0m\n",
       "\u001b[0;34m        \"\"\"\u001b[0m\u001b[0;34m\u001b[0m\n",
       "\u001b[0;34m\u001b[0m        \u001b[0mself\u001b[0m\u001b[0;34m.\u001b[0m\u001b[0mtries\u001b[0m\u001b[0;34m[\u001b[0m\u001b[0marm\u001b[0m\u001b[0;34m]\u001b[0m \u001b[0;34m+=\u001b[0m \u001b[0;36m1\u001b[0m\u001b[0;34m\u001b[0m\n",
       "\u001b[0;34m\u001b[0m        \u001b[0mself\u001b[0m\u001b[0;34m.\u001b[0m\u001b[0msuccesses\u001b[0m\u001b[0;34m[\u001b[0m\u001b[0marm\u001b[0m\u001b[0;34m]\u001b[0m \u001b[0;34m+=\u001b[0m \u001b[0mreward\u001b[0m\u001b[0;34m\u001b[0m\n",
       "\u001b[0;34m\u001b[0m    \u001b[0;34m\u001b[0m\n",
       "\u001b[0;34m\u001b[0m    \u001b[0;32mdef\u001b[0m \u001b[0mselect_arm\u001b[0m\u001b[0;34m(\u001b[0m\u001b[0mself\u001b[0m\u001b[0;34m)\u001b[0m\u001b[0;34m:\u001b[0m\u001b[0;34m\u001b[0m\n",
       "\u001b[0;34m\u001b[0m        \u001b[0;34m\"\"\"Placeholder way of selecting an arm.\"\"\"\u001b[0m\u001b[0;34m\u001b[0m\n",
       "\u001b[0;34m\u001b[0m        \u001b[0marm\u001b[0m \u001b[0;34m=\u001b[0m \u001b[0mself\u001b[0m\u001b[0;34m.\u001b[0m\u001b[0m_total_tries\u001b[0m \u001b[0;34m%\u001b[0m \u001b[0mself\u001b[0m\u001b[0;34m.\u001b[0m\u001b[0mn_arms\u001b[0m\u001b[0;34m\u001b[0m\n",
       "\u001b[0;34m\u001b[0m        \u001b[0;32mreturn\u001b[0m \u001b[0marm\u001b[0m\u001b[0;34m\u001b[0m\u001b[0;34m\u001b[0m\u001b[0m\n",
       "\u001b[0;31mFile:\u001b[0m           ~/Repos/bandits/src/agents.py\n",
       "\u001b[0;31mType:\u001b[0m           type\n",
       "\u001b[0;31mSubclasses:\u001b[0m     GreedyExploreFirst, EpsilonGreedy, UCB1, BayesUCB, ThompsonSampling\n"
      ]
     },
     "metadata": {},
     "output_type": "display_data"
    }
   ],
   "source": [
    "Agent??"
   ]
  },
  {
   "cell_type": "markdown",
   "id": "6e8f43cb-fd22-4ecd-a0a6-d3313874c7a6",
   "metadata": {},
   "source": [
    "# Experiments"
   ]
  },
  {
   "cell_type": "markdown",
   "id": "4f25a929-d84b-4c10-a732-757a1580cc26",
   "metadata": {},
   "source": [
    "This part will be used to log the results of the different bandit simulations (experiments)."
   ]
  },
  {
   "cell_type": "code",
   "execution_count": 17,
   "id": "d8b4baa3-10af-48f5-886e-f97efea8edb7",
   "metadata": {},
   "outputs": [],
   "source": [
    "T = n_arms * 200 # Number of steps in the simulations"
   ]
  },
  {
   "cell_type": "code",
   "execution_count": 18,
   "id": "46df132e-6660-4edc-9a1e-c01afd33a887",
   "metadata": {},
   "outputs": [],
   "source": [
    "class Experiment():\n",
    "    def __init__(self, agent, environment, T, name='No experiment name'):\n",
    "        self.name = name\n",
    "        self.agent = agent\n",
    "        self.environment = environment\n",
    "        self.cumulative_reward_history = [0]\n",
    "        for step in range(T):\n",
    "            self._run_one_step()\n",
    "\n",
    "    def _run_one_step(self):\n",
    "        arm = self.agent.select_arm()\n",
    "        reward = self.environment.get_reward(arm)\n",
    "        self.agent.add_observation(arm, reward)\n",
    "        cumulative_reward = self.cumulative_reward_history[-1] + reward\n",
    "        self.cumulative_reward_history.append(cumulative_reward)\n",
    "\n",
    "    def plot_cumulative_reward(self):\n",
    "        plt.plot(self.cumulative_reward_history)\n",
    "        plt.title('Cumulative Reward', fontsize=13)\n",
    "        plt.xlabel('Tries')\n",
    "        plt.ylabel('Cumulative Reward')"
   ]
  },
  {
   "cell_type": "code",
   "execution_count": 19,
   "id": "66f6dc25-1e41-4c37-9b21-12ce68ee16d5",
   "metadata": {},
   "outputs": [],
   "source": [
    "def plot_tries_vs_expected_reward(tries, reward):\n",
    "    \"\"\"Thanks to https://stackoverflow.com/a/31548279\"\"\"\n",
    "    reward = reward.copy()\n",
    "    reward['tries'] = tries\n",
    "    width = .3\n",
    "    reward['tries'].plot(kind='bar', color='#55A868', position=1, width=width, legend=True, figsize=(12,6))\n",
    "    reward['expected_reward'].plot(kind='bar', color='#4C72B0', position=0, width=width, legend=True, secondary_y=True)\n",
    "    plt.title('Total number of tries vs expected reward for each arm')\n",
    "    plt.grid()\n",
    "    plt.show()"
   ]
  },
  {
   "cell_type": "code",
   "execution_count": 20,
   "id": "ea6fbcab-8590-4003-949c-33d9fe8fd7a1",
   "metadata": {},
   "outputs": [],
   "source": [
    "experiment_history = []"
   ]
  },
  {
   "cell_type": "markdown",
   "id": "6e9d5c1a-4206-4f31-a715-112703ac1f47",
   "metadata": {},
   "source": [
    "# Contextual Agent"
   ]
  },
  {
   "cell_type": "code",
   "execution_count": 17,
   "id": "b87989f3-3b38-4362-a7fe-23cc6449e834",
   "metadata": {},
   "outputs": [
    {
     "data": {
      "text/plain": [
       "\u001b[0;31mInit signature:\u001b[0m \u001b[0mBayesUCB\u001b[0m\u001b[0;34m(\u001b[0m\u001b[0mn_arms\u001b[0m\u001b[0;34m,\u001b[0m \u001b[0mc\u001b[0m\u001b[0;34m=\u001b[0m\u001b[0;36m2\u001b[0m\u001b[0;34m)\u001b[0m\u001b[0;34m\u001b[0m\u001b[0;34m\u001b[0m\u001b[0m\n",
       "\u001b[0;31mSource:\u001b[0m        \n",
       "\u001b[0;32mclass\u001b[0m \u001b[0mBayesUCB\u001b[0m\u001b[0;34m(\u001b[0m\u001b[0mAgent\u001b[0m\u001b[0;34m)\u001b[0m\u001b[0;34m:\u001b[0m\u001b[0;34m\u001b[0m\n",
       "\u001b[0;34m\u001b[0m    \u001b[0;34m\"\"\"Assess UCB using knowledge of the Bernoulli distribution and it's conjugate prior, the Beta distribution.\"\"\"\u001b[0m\u001b[0;34m\u001b[0m\n",
       "\u001b[0;34m\u001b[0m    \u001b[0;32mdef\u001b[0m \u001b[0m__init__\u001b[0m\u001b[0;34m(\u001b[0m\u001b[0mself\u001b[0m\u001b[0;34m,\u001b[0m \u001b[0mn_arms\u001b[0m\u001b[0;34m,\u001b[0m \u001b[0mc\u001b[0m\u001b[0;34m=\u001b[0m\u001b[0;36m2\u001b[0m\u001b[0;34m)\u001b[0m\u001b[0;34m:\u001b[0m\u001b[0;34m\u001b[0m\n",
       "\u001b[0;34m\u001b[0m        \u001b[0;34m\"\"\"\u001b[0m\n",
       "\u001b[0;34m        n_arms: int\u001b[0m\n",
       "\u001b[0;34m            Number of arms\u001b[0m\n",
       "\u001b[0;34m        c: float\u001b[0m\n",
       "\u001b[0;34m            Amount of standard deviations considered for the UCB\u001b[0m\n",
       "\u001b[0;34m        \"\"\"\u001b[0m\u001b[0;34m\u001b[0m\n",
       "\u001b[0;34m\u001b[0m        \u001b[0msuper\u001b[0m\u001b[0;34m(\u001b[0m\u001b[0;34m)\u001b[0m\u001b[0;34m.\u001b[0m\u001b[0m__init__\u001b[0m\u001b[0;34m(\u001b[0m\u001b[0mn_arms\u001b[0m\u001b[0;34m)\u001b[0m\u001b[0;34m\u001b[0m\n",
       "\u001b[0;34m\u001b[0m        \u001b[0mself\u001b[0m\u001b[0;34m.\u001b[0m\u001b[0mc\u001b[0m \u001b[0;34m=\u001b[0m \u001b[0mc\u001b[0m \u001b[0;31m# Amount of standard deviations considered for ucb\u001b[0m\u001b[0;34m\u001b[0m\n",
       "\u001b[0;34m\u001b[0m        \u001b[0mself\u001b[0m\u001b[0;34m.\u001b[0m\u001b[0m_params_a\u001b[0m \u001b[0;34m=\u001b[0m \u001b[0mnp\u001b[0m\u001b[0;34m.\u001b[0m\u001b[0mones\u001b[0m\u001b[0;34m(\u001b[0m\u001b[0mn_arms\u001b[0m\u001b[0;34m)\u001b[0m \u001b[0;31m# Params a of Beta\u001b[0m\u001b[0;34m\u001b[0m\n",
       "\u001b[0;34m\u001b[0m        \u001b[0mself\u001b[0m\u001b[0;34m.\u001b[0m\u001b[0m_params_b\u001b[0m \u001b[0;34m=\u001b[0m \u001b[0mnp\u001b[0m\u001b[0;34m.\u001b[0m\u001b[0mones\u001b[0m\u001b[0;34m(\u001b[0m\u001b[0mn_arms\u001b[0m\u001b[0;34m)\u001b[0m \u001b[0;31m# Params b of Beta\u001b[0m\u001b[0;34m\u001b[0m\n",
       "\u001b[0;34m\u001b[0m  \u001b[0;34m\u001b[0m\n",
       "\u001b[0;34m\u001b[0m    \u001b[0;32mdef\u001b[0m \u001b[0madd_observation\u001b[0m\u001b[0;34m(\u001b[0m\u001b[0mself\u001b[0m\u001b[0;34m,\u001b[0m \u001b[0marm\u001b[0m\u001b[0;34m,\u001b[0m \u001b[0mreward\u001b[0m\u001b[0;34m)\u001b[0m\u001b[0;34m:\u001b[0m\u001b[0;34m\u001b[0m\n",
       "\u001b[0;34m\u001b[0m        \u001b[0;34m\"\"\"\u001b[0m\n",
       "\u001b[0;34m        arm: int\u001b[0m\n",
       "\u001b[0;34m            Arm chosen in the observation\u001b[0m\n",
       "\u001b[0;34m        reward: bool\u001b[0m\n",
       "\u001b[0;34m            Reward obtained in the observation\u001b[0m\n",
       "\u001b[0;34m        \"\"\"\u001b[0m\u001b[0;34m\u001b[0m\n",
       "\u001b[0;34m\u001b[0m        \u001b[0msuper\u001b[0m\u001b[0;34m(\u001b[0m\u001b[0;34m)\u001b[0m\u001b[0;34m.\u001b[0m\u001b[0madd_observation\u001b[0m\u001b[0;34m(\u001b[0m\u001b[0marm\u001b[0m\u001b[0;34m,\u001b[0m\u001b[0mreward\u001b[0m\u001b[0;34m)\u001b[0m\u001b[0;34m\u001b[0m\n",
       "\u001b[0;34m\u001b[0m        \u001b[0mself\u001b[0m\u001b[0;34m.\u001b[0m\u001b[0m_params_a\u001b[0m\u001b[0;34m[\u001b[0m\u001b[0marm\u001b[0m\u001b[0;34m]\u001b[0m \u001b[0;34m+=\u001b[0m \u001b[0mreward\u001b[0m\u001b[0;34m\u001b[0m\n",
       "\u001b[0;34m\u001b[0m        \u001b[0mself\u001b[0m\u001b[0;34m.\u001b[0m\u001b[0m_params_b\u001b[0m\u001b[0;34m[\u001b[0m\u001b[0marm\u001b[0m\u001b[0;34m]\u001b[0m \u001b[0;34m+=\u001b[0m \u001b[0;36m1\u001b[0m \u001b[0;34m-\u001b[0m \u001b[0mreward\u001b[0m\u001b[0;34m\u001b[0m\n",
       "\u001b[0;34m\u001b[0m    \u001b[0;34m\u001b[0m\n",
       "\u001b[0;34m\u001b[0m    \u001b[0;32mdef\u001b[0m \u001b[0mselect_arm\u001b[0m\u001b[0;34m(\u001b[0m\u001b[0mself\u001b[0m\u001b[0;34m)\u001b[0m\u001b[0;34m:\u001b[0m\u001b[0;34m\u001b[0m\n",
       "\u001b[0;34m\u001b[0m        \u001b[0;31m# Start playing each arm once\u001b[0m\u001b[0;34m\u001b[0m\n",
       "\u001b[0;34m\u001b[0m        \u001b[0;32mif\u001b[0m \u001b[0mself\u001b[0m\u001b[0;34m.\u001b[0m\u001b[0m_total_tries\u001b[0m \u001b[0;34m<\u001b[0m \u001b[0mself\u001b[0m\u001b[0;34m.\u001b[0m\u001b[0mn_arms\u001b[0m\u001b[0;34m:\u001b[0m\u001b[0;34m\u001b[0m\n",
       "\u001b[0;34m\u001b[0m            \u001b[0marm\u001b[0m \u001b[0;34m=\u001b[0m \u001b[0mself\u001b[0m\u001b[0;34m.\u001b[0m\u001b[0m_total_tries\u001b[0m\u001b[0;34m\u001b[0m\n",
       "\u001b[0;34m\u001b[0m        \u001b[0;32melse\u001b[0m\u001b[0;34m:\u001b[0m \u001b[0;34m\u001b[0m\n",
       "\u001b[0;34m\u001b[0m            \u001b[0mbayes_ucb\u001b[0m \u001b[0;34m=\u001b[0m \u001b[0mself\u001b[0m\u001b[0;34m.\u001b[0m\u001b[0m_params_a\u001b[0m \u001b[0;34m/\u001b[0m \u001b[0;34m(\u001b[0m\u001b[0mself\u001b[0m\u001b[0;34m.\u001b[0m\u001b[0m_params_a\u001b[0m \u001b[0;34m+\u001b[0m \u001b[0mself\u001b[0m\u001b[0;34m.\u001b[0m\u001b[0m_params_b\u001b[0m\u001b[0;34m)\u001b[0m \u001b[0;31m# Mean\u001b[0m\u001b[0;34m\u001b[0m\n",
       "\u001b[0;34m\u001b[0m            \u001b[0mbayes_ucb\u001b[0m \u001b[0;34m+=\u001b[0m \u001b[0mself\u001b[0m\u001b[0;34m.\u001b[0m\u001b[0mc\u001b[0m \u001b[0;34m*\u001b[0m \u001b[0mbeta\u001b[0m\u001b[0;34m.\u001b[0m\u001b[0mstd\u001b[0m\u001b[0;34m(\u001b[0m\u001b[0mself\u001b[0m\u001b[0;34m.\u001b[0m\u001b[0m_params_a\u001b[0m\u001b[0;34m,\u001b[0m \u001b[0mself\u001b[0m\u001b[0;34m.\u001b[0m\u001b[0m_params_b\u001b[0m\u001b[0;34m)\u001b[0m \u001b[0;31m# Confidence Radius\u001b[0m\u001b[0;34m\u001b[0m\n",
       "\u001b[0;34m\u001b[0m            \u001b[0marm\u001b[0m \u001b[0;34m=\u001b[0m \u001b[0margmax\u001b[0m\u001b[0;34m(\u001b[0m\u001b[0mbayes_ucb\u001b[0m\u001b[0;34m)\u001b[0m\u001b[0;34m\u001b[0m\n",
       "\u001b[0;34m\u001b[0m        \u001b[0marm\u001b[0m \u001b[0;34m=\u001b[0m \u001b[0mint\u001b[0m\u001b[0;34m(\u001b[0m\u001b[0marm\u001b[0m\u001b[0;34m)\u001b[0m\u001b[0;34m\u001b[0m\n",
       "\u001b[0;34m\u001b[0m        \u001b[0;32mreturn\u001b[0m \u001b[0marm\u001b[0m\u001b[0;34m\u001b[0m\u001b[0;34m\u001b[0m\u001b[0m\n",
       "\u001b[0;31mFile:\u001b[0m           ~/Repos/bandits/src/agents.py\n",
       "\u001b[0;31mType:\u001b[0m           type\n",
       "\u001b[0;31mSubclasses:\u001b[0m     \n"
      ]
     },
     "metadata": {},
     "output_type": "display_data"
    }
   ],
   "source": [
    "??BayesUCB"
   ]
  },
  {
   "cell_type": "code",
   "execution_count": null,
   "id": "d2be778a-9234-4837-94df-8fa490961ccd",
   "metadata": {},
   "outputs": [],
   "source": []
  },
  {
   "cell_type": "code",
   "execution_count": 33,
   "id": "8fc47308-d2f6-4600-a6ef-7772486e926a",
   "metadata": {},
   "outputs": [],
   "source": [
    "class ContextualAgent(Agent):\n",
    "    \"\"\"Base properties of all contextual multi-armed bandits.\"\"\"\n",
    "    def __init__(self, n_arms, n_features):\n",
    "        super().__init__(n_arms)\n",
    "        self.n_features = n_features\n",
    "    \n",
    "    def add_observation(self, arm, reward, X):\n",
    "        super().add_observation(arm, reward)"
   ]
  },
  {
   "cell_type": "markdown",
   "id": "76fb60ea-5cfc-479a-bdf3-27f38602cbf3",
   "metadata": {},
   "source": [
    "# Implementing LinUCB"
   ]
  },
  {
   "cell_type": "code",
   "execution_count": null,
   "id": "051d0fcd-dba9-4a92-b87b-1db45ddc507f",
   "metadata": {},
   "outputs": [],
   "source": [
    "\n",
    "\n",
    "# def linUCB_disjoint(alpha, X, generate_reward, true_theta):\n",
    "#     print(\"linUCB disjoint with exploration parameter alpha: \", alpha)\n",
    "#     n_trial, n_arms, n_feature = X.shape\n",
    "    \n",
    "#     # 1.Initialise object\n",
    "#     # 1.1.output object\n",
    "#     arm_choice, r_payoff = [np.empty(n_trial) for _ in range(2)]\n",
    "#     theta  = np.empty(shape=(n_trial, n_arms, n_feature)) #n_trial pour assurer la traçabilité. Il y a bien un vecteur théta par bras\n",
    "#     p      = np.empty(shape=(n_trial, n_arms)) #n_trial pour la traçabilité\n",
    "    \n",
    "#     # 1.2.intermediate object\n",
    "#     A = np.array([np.diag(np.ones(shape=n_feature)) for _ in np.arange(n_arms)])\n",
    "#     b = np.array([np.zeros(shape=n_feature) for _ in np.arange(n_arms)])\n",
    "\n",
    "#     # 2. Algo\n",
    "#     for t in np.arange(n_trial):\n",
    "        \n",
    "#         #Compute estimates (theta) and prediction (p) for all arms\n",
    "#         for a in np.arange(n_arms) :\n",
    "#             inv_A       = np.linalg.inv(A[a]) # caching matrix inversion result because used twice\n",
    "#             theta[t, a] = inv_A.dot(b[a])\n",
    "#             p[t, a]     = theta[t, a].dot(X[t, a]) + alpha * np.sqrt(X[t, a].dot(inv_A).dot(X[t, a]))\n",
    "        \n",
    "#         #chosing best arms\n",
    "#         chosen_arm    = np.argmax(p[t])\n",
    "#         x_chosen_arm  = X[t, chosen_arm]\n",
    "#         r_payoff[t]   = generate_reward(arm=chosen_arm, x=x_chosen_arm, theta=true_theta)\n",
    "#         arm_choice[t] = chosen_arm\n",
    "        \n",
    "#         #update intermediate objects (A and b)\n",
    "#         A[chosen_arm] += np.outer(x_chosen_arm, x_chosen_arm.T)\n",
    "#         b[chosen_arm] += r_payoff[t] * x_chosen_arm\n",
    "    \n",
    "#     return dict(theta=theta, p=p, arm_choice = arm_choice, r_payoff=r_payoff)\n",
    "\n"
   ]
  },
  {
   "cell_type": "code",
   "execution_count": 37,
   "id": "dcfa630c-4583-4325-9263-9f78e06f4d27",
   "metadata": {},
   "outputs": [],
   "source": [
    "class LinUCB(ContextualAgent):\n",
    "    def __init__(self, n_arms, n_features, alpha=1):\n",
    "        super().__init__(n_arms, n_features)\n",
    "        self.alpha = alpha\n",
    "        self._A = [np.identity(n_features) for arm in range(n_arms)] # One per arm\n",
    "        self._b = [np.zeros([n_features, 1]) for arm in range(n_arms)] # One per arm\n",
    "    \n",
    "    def add_observation(self, arm, reward, X):\n",
    "        super().add_observation(arm, reward, X)\n",
    "        \n",
    "    def _get_UCB(self, X):\n",
    "        #x = x_array.reshape([-1,1])\n",
    "        A_inv = [np.linalg.inv(self._A[arm]) for arm in range(n_arms)]\n",
    "        theta = [np.dot(A_inv[arm], self._b[arm]) for arm in range(n_arms)]\n",
    "        UCB = [np.dot(theta[arm].T, X) +  self.alpha * np.sqrt(np.dot(X.T, np.dot(A_inv[arm],x))) for arm in range(n_arms)]\n",
    "        return UCB\n",
    "    \n",
    "    def select_arm(self, X):\n",
    "        UCB = self._get_UCB(X)\n",
    "        arm = argmax(UCB))"
   ]
  },
  {
   "cell_type": "code",
   "execution_count": null,
   "id": "6bf42a29-0cf3-413e-b728-7bc5c55d31ad",
   "metadata": {},
   "outputs": [],
   "source": [
    "#     def reward_update(self, reward, x_array):\n",
    "#         # Reshape covariates input into (d x 1) shape vector\n",
    "#         x = x_array.reshape([-1,1])\n",
    "        \n",
    "#         # Update A which is (d * d) matrix.\n",
    "#         self.A += np.dot(x, x.T)\n",
    "        \n",
    "#         # Update b which is (d x 1) vector\n",
    "#         # reward is scalar\n",
    "#         self.b += reward * x"
   ]
  },
  {
   "cell_type": "code",
   "execution_count": 39,
   "id": "2489cb68-3b3f-4655-a33f-58fbe6e9dcd4",
   "metadata": {},
   "outputs": [
    {
     "data": {
      "text/plain": [
       "\u001b[0;31mInit signature:\u001b[0m \u001b[0mUCB1\u001b[0m\u001b[0;34m(\u001b[0m\u001b[0mn_arms\u001b[0m\u001b[0;34m)\u001b[0m\u001b[0;34m\u001b[0m\u001b[0;34m\u001b[0m\u001b[0m\n",
       "\u001b[0;31mSource:\u001b[0m        \n",
       "\u001b[0;32mclass\u001b[0m \u001b[0mUCB1\u001b[0m\u001b[0;34m(\u001b[0m\u001b[0mAgent\u001b[0m\u001b[0;34m)\u001b[0m\u001b[0;34m:\u001b[0m\u001b[0;34m\u001b[0m\n",
       "\u001b[0;34m\u001b[0m    \u001b[0;34m\"\"\"This uses the concept of 'optimism under uncertainty'.\u001b[0m\n",
       "\u001b[0;34m    \u001b[0m\n",
       "\u001b[0;34m    We assume the expected reward of each arm is the upper confidence bound (UCB) of the arm so far.\u001b[0m\n",
       "\u001b[0;34m\u001b[0m\n",
       "\u001b[0;34m    The confidence radius is calculated using Hoeffding’s Inequality.\"\"\"\u001b[0m\u001b[0;34m\u001b[0m\n",
       "\u001b[0;34m\u001b[0m    \u001b[0;34m@\u001b[0m\u001b[0mproperty\u001b[0m\u001b[0;34m\u001b[0m\n",
       "\u001b[0;34m\u001b[0m    \u001b[0;32mdef\u001b[0m \u001b[0m_confidence_radius\u001b[0m\u001b[0;34m(\u001b[0m\u001b[0mself\u001b[0m\u001b[0;34m)\u001b[0m\u001b[0;34m:\u001b[0m\u001b[0;34m\u001b[0m\n",
       "\u001b[0;34m\u001b[0m        \u001b[0mradius\u001b[0m \u001b[0;34m=\u001b[0m \u001b[0mnp\u001b[0m\u001b[0;34m.\u001b[0m\u001b[0msqrt\u001b[0m\u001b[0;34m(\u001b[0m\u001b[0;36m2\u001b[0m \u001b[0;34m*\u001b[0m \u001b[0mnp\u001b[0m\u001b[0;34m.\u001b[0m\u001b[0mlog\u001b[0m\u001b[0;34m(\u001b[0m\u001b[0mself\u001b[0m\u001b[0;34m.\u001b[0m\u001b[0m_total_tries\u001b[0m\u001b[0;34m)\u001b[0m \u001b[0;34m/\u001b[0m \u001b[0mself\u001b[0m\u001b[0;34m.\u001b[0m\u001b[0mtries\u001b[0m\u001b[0;34m)\u001b[0m\u001b[0;34m\u001b[0m\n",
       "\u001b[0;34m\u001b[0m        \u001b[0;32mreturn\u001b[0m \u001b[0mradius\u001b[0m\u001b[0;34m\u001b[0m\n",
       "\u001b[0;34m\u001b[0m    \u001b[0;34m\u001b[0m\n",
       "\u001b[0;34m\u001b[0m    \u001b[0;34m@\u001b[0m\u001b[0mproperty\u001b[0m\u001b[0;34m\u001b[0m\n",
       "\u001b[0;34m\u001b[0m    \u001b[0;32mdef\u001b[0m \u001b[0m_ucb\u001b[0m\u001b[0;34m(\u001b[0m\u001b[0mself\u001b[0m\u001b[0;34m)\u001b[0m\u001b[0;34m:\u001b[0m\u001b[0;34m\u001b[0m\n",
       "\u001b[0;34m\u001b[0m        \u001b[0msuccess_rate\u001b[0m \u001b[0;34m=\u001b[0m \u001b[0mself\u001b[0m\u001b[0;34m.\u001b[0m\u001b[0msuccesses\u001b[0m \u001b[0;34m/\u001b[0m \u001b[0mself\u001b[0m\u001b[0;34m.\u001b[0m\u001b[0mtries\u001b[0m\u001b[0;34m\u001b[0m\n",
       "\u001b[0;34m\u001b[0m        \u001b[0;32mreturn\u001b[0m \u001b[0msuccess_rate\u001b[0m \u001b[0;34m+\u001b[0m \u001b[0mself\u001b[0m\u001b[0;34m.\u001b[0m\u001b[0m_confidence_radius\u001b[0m\u001b[0;34m\u001b[0m\n",
       "\u001b[0;34m\u001b[0m    \u001b[0;34m\u001b[0m\n",
       "\u001b[0;34m\u001b[0m    \u001b[0;32mdef\u001b[0m \u001b[0mselect_arm\u001b[0m\u001b[0;34m(\u001b[0m\u001b[0mself\u001b[0m\u001b[0;34m)\u001b[0m\u001b[0;34m:\u001b[0m\u001b[0;34m\u001b[0m\n",
       "\u001b[0;34m\u001b[0m        \u001b[0;31m# Start playing each arm once\u001b[0m\u001b[0;34m\u001b[0m\n",
       "\u001b[0;34m\u001b[0m        \u001b[0;32mif\u001b[0m \u001b[0mself\u001b[0m\u001b[0;34m.\u001b[0m\u001b[0m_total_tries\u001b[0m \u001b[0;34m<\u001b[0m \u001b[0mself\u001b[0m\u001b[0;34m.\u001b[0m\u001b[0mn_arms\u001b[0m\u001b[0;34m:\u001b[0m\u001b[0;34m\u001b[0m\n",
       "\u001b[0;34m\u001b[0m            \u001b[0marm\u001b[0m \u001b[0;34m=\u001b[0m \u001b[0mself\u001b[0m\u001b[0;34m.\u001b[0m\u001b[0m_total_tries\u001b[0m\u001b[0;34m\u001b[0m\n",
       "\u001b[0;34m\u001b[0m        \u001b[0;32melse\u001b[0m\u001b[0;34m:\u001b[0m \u001b[0;34m\u001b[0m\n",
       "\u001b[0;34m\u001b[0m            \u001b[0mucb\u001b[0m \u001b[0;34m=\u001b[0m \u001b[0mself\u001b[0m\u001b[0;34m.\u001b[0m\u001b[0m_ucb\u001b[0m\u001b[0;34m\u001b[0m\n",
       "\u001b[0;34m\u001b[0m            \u001b[0marm\u001b[0m \u001b[0;34m=\u001b[0m \u001b[0margmax\u001b[0m\u001b[0;34m(\u001b[0m\u001b[0mucb\u001b[0m\u001b[0;34m)\u001b[0m\u001b[0;34m\u001b[0m\n",
       "\u001b[0;34m\u001b[0m        \u001b[0marm\u001b[0m \u001b[0;34m=\u001b[0m \u001b[0mint\u001b[0m\u001b[0;34m(\u001b[0m\u001b[0marm\u001b[0m\u001b[0;34m)\u001b[0m\u001b[0;34m\u001b[0m\n",
       "\u001b[0;34m\u001b[0m        \u001b[0;32mreturn\u001b[0m \u001b[0marm\u001b[0m\u001b[0;34m\u001b[0m\u001b[0;34m\u001b[0m\u001b[0m\n",
       "\u001b[0;31mFile:\u001b[0m           ~/Repos/bandits/src/agents.py\n",
       "\u001b[0;31mType:\u001b[0m           type\n",
       "\u001b[0;31mSubclasses:\u001b[0m     \n"
      ]
     },
     "metadata": {},
     "output_type": "display_data"
    }
   ],
   "source": [
    "??UCB1"
   ]
  },
  {
   "cell_type": "code",
   "execution_count": null,
   "id": "b43ffee1-e345-4634-af06-f2420eda1fb7",
   "metadata": {},
   "outputs": [],
   "source": []
  },
  {
   "cell_type": "code",
   "execution_count": null,
   "id": "185c0acc-bd1d-4734-968d-f8e5d195170c",
   "metadata": {},
   "outputs": [],
   "source": [
    "for index in range(len(data)):\n",
    "    da"
   ]
  },
  {
   "cell_type": "code",
   "execution_count": 32,
   "id": "9c7985dd-a010-4f5b-80fe-1bf7c3bb54d4",
   "metadata": {},
   "outputs": [
    {
     "data": {
      "text/plain": [
       "0                0.862381\n",
       "1               15.824105\n",
       "2               -4.728823\n",
       "3               15.846460\n",
       "selected_arm     1.000000\n",
       "reward           0.000000\n",
       "Name: 0, dtype: float64"
      ]
     },
     "execution_count": 32,
     "metadata": {},
     "output_type": "execute_result"
    }
   ],
   "source": [
    "data.iloc[0]"
   ]
  },
  {
   "cell_type": "code",
   "execution_count": null,
   "id": "d7583cfa-10d5-4d17-ab38-e1b6f5dfb6bf",
   "metadata": {},
   "outputs": [],
   "source": []
  }
 ],
 "metadata": {
  "kernelspec": {
   "display_name": "sc-analysis",
   "language": "python",
   "name": "sc-analysis"
  },
  "language_info": {
   "codemirror_mode": {
    "name": "ipython",
    "version": 3
   },
   "file_extension": ".py",
   "mimetype": "text/x-python",
   "name": "python",
   "nbconvert_exporter": "python",
   "pygments_lexer": "ipython3",
   "version": "3.7.6"
  }
 },
 "nbformat": 4,
 "nbformat_minor": 5
}
